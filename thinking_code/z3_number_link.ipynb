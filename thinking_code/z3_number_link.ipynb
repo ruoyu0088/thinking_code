{
 "cells": [
  {
   "cell_type": "markdown",
   "metadata": {},
   "source": [
    "# ナンバーリンク問題"
   ]
  },
  {
   "cell_type": "markdown",
   "metadata": {},
   "source": [
    "[ナンバーリンク](https://en.wikipedia.org/wiki/Numberlink)は、指定された数のペアを「途切れずに」線で結ぶパズルです。基本的なルールは以下のとおりです。  \n",
    "\n",
    "**盤面**  \n",
    "- 盤面は格子状（グリッド状）のマス目で構成されています。  \n",
    "- いくつかのマスには数字が書かれています。  \n",
    "- 盤面のサイズは自由ですが、例えば10×10の盤面などが一般的です。  \n",
    "\n",
    "**目標**  \n",
    "- 同じ数字が書かれた 2つのマスを線でつなぐことが目的です。  \n",
    "- すべての数字のペアを正しくつなげればクリアとなります。  \n",
    "\n",
    "**線のルール**  \n",
    "- 線は上下左右にのみ進むことができます。（斜めは禁止）  \n",
    "- 他の線と交差したり、枝分かれしたりしてはいけません。\n",
    "- すべてのマスを埋める必要はありません。マスが空白のままでもOK）  \n",
    "\n",
    "**クリア条件**  \n",
    "以下の条件を満たせばクリアです：  \n",
    "✅ すべての数字のペアが線でつながっている  \n",
    "✅ 線が交差せず、分岐もない  \n",
    "✅ すべての線が連続している（途切れがない）\n",
    "\n",
    "![](https://upload.wikimedia.org/wikipedia/commons/thumb/e/e0/Numberlink_puzzle_solution.svg/300px-Numberlink_puzzle_solution.svg.png)"
   ]
  },
  {
   "cell_type": "markdown",
   "metadata": {},
   "source": [
    "## 盤面の定義\n",
    "\n",
    "本書が処理するナンバーリンクパズルの盤面は、以下のような文字列で定義されます。\n",
    "\n",
    "- `0`は空白のマスを表し、どの数字にも属していません。  \n",
    "- その他の数値（1以上の整数）はペアとなる数字を表し、対応する2つのマスを線で結ぶ必要があります。\n",
    "- 16進数 (`0-9, A-F`) が使用可能で、数値が大きい場合でも2つのマスをつなぐペアとして扱われます。  "
   ]
  },
  {
   "cell_type": "code",
   "execution_count": null,
   "metadata": {},
   "outputs": [],
   "source": [
    "puzzle=\"\"\"\n",
    "1000000000\n",
    "0000000050\n",
    "0601000000\n",
    "0000043000\n",
    "0000006050\n",
    "0803000000\n",
    "0004700000\n",
    "0000002080\n",
    "0700000000\n",
    "0000000002\n",
    "\"\"\""
   ]
  },
  {
   "cell_type": "markdown",
   "metadata": {},
   "source": [
    "まず、次のコードを使用して盤面を二次元リストに変換します。また、ループ処理をしやすくするために `enumerate_2d()` 関数を定義します。  "
   ]
  },
  {
   "cell_type": "code",
   "execution_count": 26,
   "metadata": {},
   "outputs": [
    {
     "data": {
      "text/plain": [
       "[[1, 0, 0, 0, 0, 0, 0, 0, 0, 0],\n",
       " [0, 0, 0, 0, 0, 0, 0, 0, 5, 0],\n",
       " [0, 6, 0, 1, 0, 0, 0, 0, 0, 0],\n",
       " [0, 0, 0, 0, 0, 4, 3, 0, 0, 0],\n",
       " [0, 0, 0, 0, 0, 0, 6, 0, 5, 0],\n",
       " [0, 8, 0, 3, 0, 0, 0, 0, 0, 0],\n",
       " [0, 0, 0, 4, 7, 0, 0, 0, 0, 0],\n",
       " [0, 0, 0, 0, 0, 0, 2, 0, 8, 0],\n",
       " [0, 7, 0, 0, 0, 0, 0, 0, 0, 0],\n",
       " [0, 0, 0, 0, 0, 0, 0, 0, 0, 2]]"
      ]
     },
     "execution_count": 26,
     "metadata": {},
     "output_type": "execute_result"
    }
   ],
   "source": [
    "from collections import defaultdict\n",
    "\n",
    "board = [[int(x, 16) for x in row] for row in puzzle.strip().split()]\n",
    "h = len(board)\n",
    "w = len(board[0])\n",
    "max_value = max([max(row) for row in board])\n",
    "\n",
    "def enumerate_2d(a):\n",
    "    for r, row in enumerate(a):\n",
    "        for c, v in enumerate(row):\n",
    "            yield r, c, v\n",
    "\n",
    "board"
   ]
  },
  {
   "cell_type": "markdown",
   "metadata": {},
   "source": [
    "次の `plot_board()` は、盤面 `board` とその解 `links` を描画します。`links` は辞書型で、キーは `(r1, c1, r2, c2)` の形式のタプル、値は `Bool` 値です。値が `True` の場合、マス `(r1, c1)` と `(r2, c2)` がつながっていることを意味します。"
   ]
  },
  {
   "cell_type": "code",
   "execution_count": 34,
   "metadata": {},
   "outputs": [
    {
     "data": {
      "image/png": "[encoded data removed]",
      "text/plain": [
       "<Figure size 500x500 with 1 Axes>"
      ]
     },
     "metadata": {},
     "output_type": "display_data"
    }
   ],
   "source": [
    "from matplotlib import pyplot as plt\n",
    "\n",
    "def plot_board(board, links=None):\n",
    "    fig, ax = plt.subplots(1, 1, figsize=(5, 5))\n",
    "    if links is not None:\n",
    "        for (r1, c1, r2, c2), link in links.items():\n",
    "            if link:\n",
    "                ax.plot([c1, c2], [r1, r2], color='black')\n",
    "    xs = []\n",
    "    ys = []\n",
    "    texts = []\n",
    "    for r, c, v in enumerate_2d(board):\n",
    "        xs.append(c)\n",
    "        ys.append(r)\n",
    "        texts.append(str(v))\n",
    "    \n",
    "    ax.scatter(xs, ys)\n",
    "    for x, y, s in zip(xs, ys, texts):\n",
    "        if s != \"0\":\n",
    "            ax.text(x, y, s, ha='center', va='center', fontsize=16, \n",
    "                    bbox=dict(facecolor='yellow', edgecolor='black', boxstyle='round,pad=0.2'))\n",
    "    \n",
    "    ax.invert_yaxis()\n",
    "    ax.axis('off')\n",
    "    return fig\n",
    "\n",
    "plot_board(board);"
   ]
  },
  {
   "cell_type": "markdown",
   "metadata": {},
   "source": [
    "## 解を探すコード\n",
    "\n",
    "次のコードで解を求めます。  \n",
    "- `cells` は、各マス `(r, c)` の数値を表す変数の辞書です。  \n",
    "- `links` は、前述の `links` と同じ形式の辞書で、値は Z3 の `Bool` 型の変数です。  \n",
    "- `cell_links` は、各マス `(r, c)` に関連する `link` を保持する辞書です。  \n",
    "\n",
    "制約条件は以下のようです。\n",
    "\n",
    "1. 各マスの数値は0以上かつ最大値以下でなければならない。  \n",
    "2. 元々数値があるマスでは、その数値を変更しない。  \n",
    "3. 元々数値があるマスの周囲のリンクには1つだけ`True`があり、その数値がルートの端点を表す。\n",
    "4. 元々空白のマスの周囲のリンクにはちょうど2つの`True`があり、ルートがこのマスを通ることを意味する。\n",
    "5. リンクが`True`の場合、リンクされた2つのマスの数値は等しくなければならない。  "
   ]
  },
  {
   "cell_type": "code",
   "execution_count": 35,
   "metadata": {},
   "outputs": [],
   "source": [
    "from z3 import *\n",
    "\n",
    "cells = {}\n",
    "links = {}\n",
    "cell_links = defaultdict(set)\n",
    "\n",
    "for r, c, v in enumerate_2d(board):\n",
    "    cells[r, c] = Int(f\"C_{r}_{c}\")\n",
    "    r2, c2 = r, c + 1\n",
    "    if c2 < w:\n",
    "        links[r, c, r2, c2] = v = Bool(f\"L_{r}_{c}_{r2}_{c2}\")\n",
    "        cell_links[r, c].add(v)\n",
    "        cell_links[r2, c2].add(v)\n",
    "        \n",
    "    r2, c2 = r + 1, c\n",
    "    if r2 < h:\n",
    "        links[r, c, r2, c2] = v = Bool(f\"L_{r}_{c}_{r2}_{c2}\")\n",
    "        cell_links[r, c].add(v)\n",
    "        cell_links[r2, c2].add(v)\n",
    "\n",
    "s = Solver()\n",
    "\n",
    "# 各マスの数値の範囲制約\n",
    "for cell in cells.values():\n",
    "    s.add(0 <= cell, cell <= max_value)\n",
    "\n",
    "for r, c, v in enumerate_2d(board):\n",
    "    if v > 0:\n",
    "        # 元々数値があるマスでは、その数値を変更しない\n",
    "        s.add(cells[r, c] == v) \n",
    "        # 元々数値があるマスの周囲のリンクには1つだけTrue\n",
    "        s.add(PbEq([(b, 1) for b in cell_links[r, c]], 1))\n",
    "    else:\n",
    "        # 元々空白のマスの周囲のリンクにはちょうど2つのTrue\n",
    "        s.add(PbEq([(b, 1) for b in cell_links[r, c]], 2))\n",
    "\n",
    "# リンクがある場合、マスの数値は等しくする\n",
    "for (r, c, r2, c2), b in links.items():\n",
    "    s.add(Implies(b, cells[r, c] == cells[r2, c2]))\n",
    "\n",
    "s.check()\n",
    "model = s.model()"
   ]
  },
  {
   "cell_type": "code",
   "execution_count": 36,
   "metadata": {},
   "outputs": [
    {
     "data": {
      "image/png": "[encoded data removed]",
      "text/plain": [
       "<Figure size 500x500 with 1 Axes>"
      ]
     },
     "metadata": {},
     "output_type": "display_data"
    }
   ],
   "source": [
    "plot_board(board, {key:model[val] for key, val in links.items()});"
   ]
  }
 ],
 "metadata": {
  "interpreter": {
   "hash": "8898befd9de492517656d7b68771c88030e45990741df6390426f119a64d080f"
  },
  "kernelspec": {
   "display_name": "Python 3 (ipykernel)",
   "language": "python",
   "name": "python3"
  },
  "language_info": {
   "codemirror_mode": {
    "name": "ipython",
    "version": 3
   },
   "file_extension": ".py",
   "mimetype": "text/x-python",
   "name": "python",
   "nbconvert_exporter": "python",
   "pygments_lexer": "ipython3",
   "version": "3.12.2"
  }
 },
 "nbformat": 4,
 "nbformat_minor": 4
}
