{
 "cells": [
  {
   "cell_type": "markdown",
   "id": "2c077f88-5852-4149-b386-36ef45d15934",
   "metadata": {},
   "source": [
    "# 24を計算する問題"
   ]
  },
  {
   "cell_type": "code",
   "execution_count": 3,
   "id": "492722d1-a397-401f-90d4-32c7c472c1eb",
   "metadata": {},
   "outputs": [],
   "source": [
    "from z3 import *"
   ]
  },
  {
   "cell_type": "markdown",
   "id": "318df271-ec7f-4d11-8b08-621a8ab69815",
   "metadata": {},
   "source": [
    "「24を計算する」問題とは、与えられた4つの数値を `+`, `-`, `*`, `/` の演算子を使って組み合わせ、結果が `24` になる数式を求めるパズルです。  \n",
    "例えば、`[1, 5, 5, 5]` という入力に対して `(5 - (1 / 5)) * 5` のような数式を見つけることを目的とします。\n",
    "\n",
    "この問題を解くためには：\n",
    "\n",
    "1. 4つの数の順列（permutation）を考慮する。\n",
    "2. 3つの演算子の組み合わせを考える。\n",
    "3. 計算結果が `24` になるような組み合わせを探索する。"
   ]
  },
  {
   "attachments": {},
   "cell_type": "markdown",
   "id": "518b4d36-a5db-4d04-8888-b7bcdc380312",
   "metadata": {},
   "source": [
    "## 数値の順序\n",
    "\n",
    "この関数は、Z3を用いて「`variables` が `values` の順列になる制約を追加」します。\n",
    "\n",
    "- `variables`: 例えば `[x0, x1, x2, x3]` のようなZ3変数（配列）。\n",
    "- `values`: 例えば `[1, 5, 5, 5]` のような整数のリスト。\n",
    "\n",
    "この関数が行うこと：\n",
    "\n",
    "1. `variables` の各要素は `values` のいずれかの値であることを制約 (`Or(x == v for v in values_set)`)\n",
    "2. 各値が `values` に登場する回数と一致することを制約 (`Sum([x == v for x in variables]) == values.count(v)`)\n",
    "\n",
    "例えば `[1, 5, 5, 5]` の場合、`variables` に含まれる数値は `{1, 5}` のみで、`1` は1回、`5` は3回登場する必要があります。"
   ]
  },
  {
   "cell_type": "code",
   "execution_count": 4,
   "id": "fa885c42-df67-4fd7-9b04-f1c4bafc4749",
   "metadata": {},
   "outputs": [
    {
     "name": "stdout",
     "output_type": "stream",
     "text": [
      "[5, 5, 5, 1]\n",
      "[1, 5, 5, 5]\n",
      "[5, 5, 1, 5]\n",
      "[5, 1, 5, 5]\n"
     ]
    }
   ],
   "source": [
    "def permutation(variables, values):\n",
    "    values_set = set(values)\n",
    "    exprs = []\n",
    "    for x in variables:\n",
    "        exprs.append(Or([x == v for v in values_set]))\n",
    "\n",
    "    for v in values_set:\n",
    "        exprs.append(Sum([x == v for x in variables]) == values.count(v))\n",
    "\n",
    "    return And(exprs)\n",
    "\n",
    "from helper.z3 import all_solutions\n",
    "\n",
    "xs = IntVector('x', 4)\n",
    "values = [1, 5, 5, 5]\n",
    "\n",
    "solver = Solver()\n",
    "solver.add(permutation(xs, values))\n",
    "\n",
    "for m in all_solutions(solver):\n",
    "    print([m[x] for x in xs])"
   ]
  },
  {
   "cell_type": "markdown",
   "id": "a9bb8979-7c74-4fa3-8a44-fe607fe15c59",
   "metadata": {},
   "source": [
    "## コード\n",
    "\n",
    "次の関数は、与えられた4つの数値の並びと演算子の組み合わせを考慮し、`24` を作る計算式を求めます。"
   ]
  },
  {
   "cell_type": "code",
   "execution_count": 7,
   "id": "d83dae5b-0f63-46a0-b095-a6526927d422",
   "metadata": {},
   "outputs": [],
   "source": [
    "def output(numbers, ops):\n",
    "    def _output_op(n1, n2, op):\n",
    "        op_str = '+-*/-/'[op]\n",
    "        if op in [4, 5]:\n",
    "            n1, n2 = n2, n1\n",
    "\n",
    "        if isinstance(n1, str):\n",
    "            n1 = f'({n1})'\n",
    "\n",
    "        if isinstance(n2, str):\n",
    "            n2 = f'({n2})'\n",
    "            \n",
    "        return f'{n1} {op_str} {n2}'\n",
    "\n",
    "    state = numbers[0]\n",
    "    for n2, op in zip(numbers[1:], ops):\n",
    "        state = _output_op(state, n2, op)\n",
    "\n",
    "    return state\n",
    "    \n",
    "def solve_24_by_permutation(*numbers):\n",
    "    solver = Solver()\n",
    "    n = RealVector('n', 4)\n",
    "    op = IntVector('op', 3)\n",
    "    s = RealVector('s', 3)\n",
    "\n",
    "    solver.add(permutation(n, numbers))\n",
    "    \n",
    "    for x in op:\n",
    "        solver.add(0 <= x, x < 6)\n",
    "   \n",
    "    def calc_op(n1, op, n2, res):\n",
    "        # res == n1 op n2 の制約条件を計算する\n",
    "        return And([\n",
    "            Implies(n2 == 0, op != 3),\n",
    "            Implies(n1 == 0, op != 5),\n",
    "            Implies(op == 0, res == n1 + n2),\n",
    "            Implies(op == 1, res == n1 - n2),\n",
    "            Implies(op == 2, res == n1 * n2),\n",
    "            Implies(op == 3, res == n1 / n2),\n",
    "            Implies(op == 4, res == n2 - n1),\n",
    "            Implies(op == 5, res == n2 / n1),\n",
    "        ])\n",
    "        \n",
    "    solver.add(calc_op(n[0], op[0], n[1], s[0])) # s0 = n0 op0 n1\n",
    "    solver.add(calc_op(s[0], op[1], n[2], s[1])) # s1 = s0 op1 n2\n",
    "    solver.add(calc_op(s[1], op[2], n[3], s[2])) # s2 = s1 op3 n3\n",
    "    \n",
    "    solver.add(s[-1] == 24)\n",
    "    \n",
    "    if solver.check() == sat:\n",
    "        m = solver.model()\n",
    "        return output([m.eval(x).as_long() for x in n], [m.eval(x).as_long() for x in op])\n",
    "    else:\n",
    "        return \"no solution\""
   ]
  },
  {
   "cell_type": "markdown",
   "id": "bb434571-97ec-450b-b478-f4f4d601a770",
   "metadata": {},
   "source": [
    "## 解析"
   ]
  },
  {
   "cell_type": "markdown",
   "id": "ade454a5-6295-4bec-b622-5cd2a2e40c36",
   "metadata": {},
   "source": [
    "1. **変数の設定**\n",
    "   - `n[0] ~ n[3]`: 4つの数の順列を表す実数 (`RealVector`)\n",
    "   - `op[0] ~ op[2]`: 3つの演算子を表す整数 (`IntVector`)\n",
    "   - `s[0] ~ s[2]`: 中間計算結果を格納する変数 (`RealVector`)\n",
    "\n",
    "3. **数値の順列を制約**\n",
    "   - `solver.add(permutation(n, numbers))` により、`n` は `numbers` の順列であることを保証。\n",
    "\n",
    "4. **演算子の範囲を制約**\n",
    "   - `solver.add(0 <= x, x < 6)` により、演算子は `0` から `5` の範囲に制限（`+`, `-`, `*`, `/`, `-` (逆順), `/` (逆順)）。\n",
    "\n",
    "5. **`calc_op(n1, op, n2, res)` 関数**\n",
    "   - `res = n1 op n2` の関係を `Z3` の制約として表現する。\n",
    "   - `op` の値に応じて、`res` が正しい結果になるようにする。\n",
    "   - `n2 == 0 のとき op != 3`（ゼロ除算禁止）\n",
    "   - `n1 == 0 のとき op != 5`（逆除算のゼロ禁止）\n",
    "\n",
    "6. **計算の流れ**\n",
    "   - `s[0] = n[0] op[0] n[1]`\n",
    "   - `s[1] = s[0] op[1] n[2]`\n",
    "   - `s[2] = s[1] op[2] n[3]`\n",
    "   - `s[2] == 24` という制約を追加。\n",
    "\n",
    "次はいくつかの問題を解いてみます。"
   ]
  },
  {
   "cell_type": "code",
   "execution_count": 8,
   "id": "6eced2c0-d44a-4390-b218-c8ec22727e3a",
   "metadata": {},
   "outputs": [
    {
     "name": "stdout",
     "output_type": "stream",
     "text": [
      "(5 - (1 / 5)) * 5 = 24\n",
      "8 / (3 - (8 / 3)) = 24\n",
      "((3 / 7) + 3) * 7 = 24\n",
      "6 / ((5 / 4) - 1) = 24\n",
      "((9 + 2) * 2) + 2 = 24\n",
      "((9 + 7) * 2) - 8 = 24\n",
      "((9 * 10) / 6) + 9 = 24\n",
      "((7 * 7) - 1) / 2 = 24\n",
      "((10 * 10) - 4) / 4 = 24\n",
      "(5 - (2 / 10)) * 5 = 24\n"
     ]
    }
   ],
   "source": [
    "questions = [\n",
    "    [1, 5, 5, 5],\n",
    "    [3, 3, 8, 8],\n",
    "    [3, 3, 7, 7],\n",
    "    [1, 4, 5, 6],\n",
    "    [2, 2, 2, 9],\n",
    "    [2, 7, 8, 9],\n",
    "    [6, 9, 9, 10],\n",
    "    [1, 2, 7, 7],\n",
    "    [4, 4, 10, 10],\n",
    "    [2, 5, 5, 10],\n",
    "]\n",
    "\n",
    "for q in questions:\n",
    "    expr = solve_24_by_permutation(*q)\n",
    "    if expr != \"no solution\":\n",
    "        print(f'{expr} = {eval(expr):g}')"
   ]
  },
  {
   "cell_type": "markdown",
   "id": "fcab2725-9e79-4b59-a1e8-c6726e5354fc",
   "metadata": {},
   "source": [
    "## 関数で順序から数値へのマッピング\n",
    "\n",
    "次の関数は、`solve_24_by_permutation()` とは異なり、Z3の関数 (`Function`) を使用して順序から数値へ変換します。この方法では、インデックスに `Distinct()` 制約を適用することで、すべての数値の順列を求めることができます。"
   ]
  },
  {
   "cell_type": "code",
   "execution_count": 10,
   "id": "1a0ab7ff-c4b0-4841-9c78-8d1ac3632209",
   "metadata": {},
   "outputs": [],
   "source": [
    "def solve_24_by_function(*numbers):\n",
    "    number_map = Function('number_map', IntSort(), RealSort())\n",
    "    solver = Solver()\n",
    "    \n",
    "    for i, n in enumerate(numbers):\n",
    "        solver.add(number_map(i) == n)\n",
    "        \n",
    "    indices = IntVector('i', 4)\n",
    "    op = IntVector('op', 3)\n",
    "    s = RealVector('s', 3)\n",
    "    \n",
    "    for x in indices:\n",
    "        solver.add(0 <= x, x < 4)\n",
    "        \n",
    "    solver.add(Distinct(indices))\n",
    "    \n",
    "    for x in op:\n",
    "        solver.add(0 <= x, x < 6)\n",
    "   \n",
    "    def calc_op(n1, op, n2, res):\n",
    "        \"res == n1 op n2\"\n",
    "        return And([\n",
    "            Implies(n2 == 0, op != 3),\n",
    "            Implies(n1 == 0, op != 5),\n",
    "            Implies(op == 0, res == n1 + n2),\n",
    "            Implies(op == 1, res == n1 - n2),\n",
    "            Implies(op == 2, res == n1 * n2),\n",
    "            Implies(op == 3, res == n1 / n2),\n",
    "            Implies(op == 4, res == n2 - n1),\n",
    "            Implies(op == 5, res == n2 / n1),\n",
    "        ])\n",
    "        \n",
    "    n = [number_map(i) for i in indices]\n",
    "    solver.add(calc_op(n[0], op[0], n[1], s[0])) # s0 = n0 op0 n1\n",
    "    solver.add(calc_op(s[0], op[1], n[2], s[1])) # s1 = s0 op1 n2\n",
    "    solver.add(calc_op(s[1], op[2], n[3], s[2])) # s2 = s1 op3 n3\n",
    "    \n",
    "    solver.add(s[-1] == 24)\n",
    "    \n",
    "    if solver.check() == sat:\n",
    "        m = solver.model()\n",
    "        return output([m.eval(x).as_long() for x in n], [m.eval(x).as_long() for x in op])\n",
    "    else:\n",
    "        return \"no solution\""
   ]
  },
  {
   "cell_type": "markdown",
   "id": "8f2b2ec6-44b2-44d7-8823-eca72f65d9ca",
   "metadata": {},
   "source": [
    "1. `number_map` による順序管理\n",
    "\n",
    "`number_map` は、整数インデックス (`IntSort()`) を実数 (`RealSort()`) にマッピングする Z3 の関数です。  \n",
    "`solver` に `number_map(i) == n` を追加することで、`number_map(0) = numbers[0]` から `number_map(3) = numbers[3]` まで、各インデックスに対応する数値を設定します。\n",
    "\n",
    "```python\n",
    "number_map = Function('number_map', IntSort(), RealSort())\n",
    "for i, n in enumerate(numbers):\n",
    "    solver.add(number_map(i) == n)\n",
    "```\n",
    "\n",
    "2. `indices` による順列の管理\n",
    "\n",
    "`indices` は 4 つの整数インデックスを持ち、数値の順序を決定します。\n",
    "\n",
    "```python\n",
    "indices = IntVector('i', 4)\n",
    "for x in indices:\n",
    "    solver.add(0 <= x, x < 4)\n",
    "solver.add(Distinct(indices))\n",
    "```\n",
    "\n",
    "インデックスの制約 `Distinct(indices)` を追加することで、各インデックスが一意であることを保証し、異なる順列を考慮できるようにしています。"
   ]
  },
  {
   "cell_type": "code",
   "execution_count": 12,
   "id": "87e5031a-a1f9-4892-a416-97e2cd4f9f57",
   "metadata": {},
   "outputs": [
    {
     "name": "stdout",
     "output_type": "stream",
     "text": [
      "(5 - (1 / 5)) * 5 = 24\n",
      "8 / (3 - (8 / 3)) = 24\n",
      "((3 / 7) + 3) * 7 = 24\n",
      "4 / (1 - (5 / 6)) = 24\n",
      "((9 + 2) * 2) + 2 = 24\n",
      "((7 + 9) * 2) - 8 = 24\n",
      "((9 / 6) * 10) + 9 = 24\n",
      "((7 * 7) - 1) / 2 = 24\n",
      "((10 * 10) - 4) / 4 = 24\n",
      "(5 - (2 / 10)) * 5 = 24\n"
     ]
    }
   ],
   "source": [
    "for q in questions:\n",
    "    expr = solve_24_by_function(*q)\n",
    "    print(f'{expr} = {eval(expr):g}')"
   ]
  }
 ],
 "metadata": {
  "kernelspec": {
   "display_name": "Python 3 (ipykernel)",
   "language": "python",
   "name": "python3"
  },
  "language_info": {
   "codemirror_mode": {
    "name": "ipython",
    "version": 3
   },
   "file_extension": ".py",
   "mimetype": "text/x-python",
   "name": "python",
   "nbconvert_exporter": "python",
   "pygments_lexer": "ipython3",
   "version": "3.12.2"
  }
 },
 "nbformat": 4,
 "nbformat_minor": 5
}
