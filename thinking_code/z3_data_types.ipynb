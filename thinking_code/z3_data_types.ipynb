{
 "cells": [
  {
   "cell_type": "markdown",
   "id": "b4cce30f-6afa-4836-8996-fcc5efa8f5e4",
   "metadata": {},
   "source": [
    "# Z3のデータ型"
   ]
  },
  {
   "cell_type": "code",
   "execution_count": 193,
   "id": "80e9b46f-10dd-4abc-9b42-e6b0a0045e8e",
   "metadata": {},
   "outputs": [],
   "source": [
    "import z3\n",
    "from z3 import *"
   ]
  },
  {
   "cell_type": "markdown",
   "id": "8dd3aee4-37be-44d7-81fc-c352e8f3e170",
   "metadata": {},
   "source": [
    "Z3 のクラス関係は以下のようになっています。\n",
    "\n",
    "```\n",
    "└──Z3PPObject\n",
    "   ├──AstRef\n",
    "   │  ├──SortRef\n",
    "   │  │  ├──BoolSortRef\n",
    "   │  │  ├──ArithSortRef\n",
    "   │  │  ├──...\n",
    "   │  │\n",
    "   │  ├──FuncDeclRef\n",
    "   │  └──ExprRef\n",
    "   │     ├──BoolRef\n",
    "   │     │  └──QuantifierRef\n",
    "   │     ├──ArithRef\n",
    "   │     │  ├──IntNumRef\n",
    "   │     │  ├──...\n",
    "   │     ├──...\n",
    "   ├──ModelRef\n",
    "   ├──Solver\n",
    "   ├──...\n",
    "```"
   ]
  },
  {
   "cell_type": "markdown",
   "id": "0a938531-5e90-481c-a89e-7b2970f6676e",
   "metadata": {},
   "source": [
    "## `AstRef`"
   ]
  },
  {
   "attachments": {},
   "cell_type": "markdown",
   "id": "58abc57b-c58e-493f-af2e-de74f2b457b9",
   "metadata": {},
   "source": [
    "`AstRef` は有向非巡回グラフ（DAG）を表すクラスで、次の 3 種類のサブクラスがあります。\n",
    "\n",
    "* `SortRef`: Z3 における型（ソート）を表すクラス。`BoolSortRef`（ブール型）、`ArithSortRef`（整数や実数を含む算術型）などの派生クラスがあり、異なる種類のデータ型を表現する。\n",
    "\n",
    "* `FuncDeclRef`: 関数や演算子の宣言を表すクラス。例えば、`+` や `*` などの算術演算子、論理演算子、ユーザー定義関数のシンボルを含み、関数の入力・出力の型情報を持つ。\n",
    "\n",
    "* `ExprRef`: Z3 の式（expression）を表すクラス。`BoolRef`（ブール式）、`ArithRef`（算術式）などの派生クラスがあり、具体的な式のインスタンスを表す。例えば、`x + y` のような算術式や `x > y` のような論理式が含まれる。`QuantifierRef` は量化子（`forall` や `exists`）を持つ論理式を表す。\n",
    "\n",
    "\n",
    "`Int`、`Bool`や演算子で得られたのは全部`ExprRef`のインスタンスです。次のコードでは`Ints`で二つの`ArithRef`オブジェクトを作成し、比較演算子で`BoolRef`オブジェクトを作成します。\n",
    "\n",
    "次のコードで、`SortRef`、`FuncDeclRef`、`ExprRef` の関係を説明します。"
   ]
  },
  {
   "cell_type": "code",
   "execution_count": 234,
   "id": "3fc283de-cba0-4637-9272-ab2fdc3c5cfd",
   "metadata": {},
   "outputs": [
    {
     "name": "stdout",
     "output_type": "stream",
     "text": [
      "type(x) = ArithRef\n",
      "type(expr) = BoolRef\n"
     ]
    }
   ],
   "source": [
    "x, y = Ints('x y')\n",
    "expr = x > y\n",
    "print(f'type(x) = {type(x).__name__}')\n",
    "print(f'type(expr) = {type(expr).__name__}')"
   ]
  },
  {
   "cell_type": "markdown",
   "id": "ff44d008-c489-45b2-b663-bcd69f29699e",
   "metadata": {},
   "source": [
    "### ExprRef"
   ]
  },
  {
   "cell_type": "markdown",
   "id": "86138448-d176-4fcd-8d5e-158f3bd0cee0",
   "metadata": {},
   "source": [
    "このコードでは、`x` は `ArithRef`（`ExprRef` のサブクラス）であり、整数を表す変数です。一方、`expr = x > y` は `BoolRef`（`ExprRef` のサブクラス）であり、比較演算によるブール式を表します。\n",
    "\n",
    "`ExprRef.num_args()`メソッドは、その式（`ExprRef`）が持つ引数の数を返します。単純な変数（`x` や `y`）は引数を持たないため `num_args()` は 0 になります。一方、`expr = x > y` は `>` 演算子による式であり、2 つの引数 `x` と `y` を持ちます。"
   ]
  },
  {
   "cell_type": "code",
   "execution_count": 222,
   "id": "026b2b32-58b9-4c5e-a7fe-0483e23f2328",
   "metadata": {},
   "outputs": [
    {
     "name": "stdout",
     "output_type": "stream",
     "text": [
      "x.num_args() = 0\n",
      "expr.num_args() = 2\n"
     ]
    }
   ],
   "source": [
    "print(f'{x.num_args() = }')\n",
    "print(f'{expr.num_args() = }')"
   ]
  },
  {
   "cell_type": "markdown",
   "id": "92768dfb-c2d7-41d0-a776-f3da165d8a51",
   "metadata": {},
   "source": [
    "`ExprRef.arg(i)` は `ExprRef` の i 番目の引数（0-based index）を取得するメソッドです。`expr = x > y` の場合、`expr.arg(0)` は `x`、`expr.arg(1)` は `y` を返します。つまり、`ExprRef` は式の構造を持ち、`num_args()` を使うことで式の子ノードの数を取得し、`arg(i)` を使うことで具体的な子ノードを参照できることが分かります。"
   ]
  },
  {
   "cell_type": "code",
   "execution_count": 224,
   "id": "3730fb9c-399c-492b-bb12-9671c1a9efbb",
   "metadata": {},
   "outputs": [
    {
     "name": "stdout",
     "output_type": "stream",
     "text": [
      "expr.arg(0) = x\n",
      "expr.arg(1) = y\n"
     ]
    }
   ],
   "source": [
    "print(f'{expr.arg(0) = }')\n",
    "print(f'{expr.arg(1) = }')"
   ]
  },
  {
   "cell_type": "markdown",
   "id": "574fb024-6e73-4b9b-81d1-6c3afa111235",
   "metadata": {},
   "source": [
    "`ExprRef.sort()`メソッドで式のデータ種類を取得できます。この種類を表すオブジェクトは`SortRef`のインスタンスです。"
   ]
  },
  {
   "cell_type": "markdown",
   "id": "d1d1321e-2aec-40de-b57d-7119d94d42dd",
   "metadata": {},
   "source": [
    "### SortRef"
   ]
  },
  {
   "cell_type": "markdown",
   "id": "3929febb-667c-48af-8814-c24b1c01f785",
   "metadata": {},
   "source": [
    "`ExprRef.sort()` は、式（`ExprRef`）のデータ型（`SortRef`）を取得するメソッドです。つまり、式がどの種類の値を表しているかを判定するのに役立ちます。"
   ]
  },
  {
   "cell_type": "code",
   "execution_count": 236,
   "id": "e1f7a9ee-763f-4101-974f-a1cfa5a4b95f",
   "metadata": {},
   "outputs": [
    {
     "name": "stdout",
     "output_type": "stream",
     "text": [
      "x_sort = Int\n",
      "expr_sort = Bool\n",
      "type(x_sort) = ArithSortRef\n",
      "type(expr_sort) = BoolSortRef\n"
     ]
    }
   ],
   "source": [
    "x_sort = x.sort()\n",
    "expr_sort = expr.sort()\n",
    "print(f'{x_sort = }')\n",
    "print(f'{expr_sort = }')\n",
    "print(f'type(x_sort) = {type(x_sort).__name__}')\n",
    "print(f'type(expr_sort) = {type(expr_sort).__name__}')"
   ]
  },
  {
   "cell_type": "markdown",
   "id": "40e9d646-f835-4c43-972e-62c7816d3851",
   "metadata": {},
   "source": [
    "`x` は整数変数なので、`x_sort` は `Int` を表すソート（型）になります。`x_sort` の型（`type(x_sort)`）は `ArithSortRef` で、整数や実数を表す `SortRef` のサブクラスです。\n",
    "\n",
    "`expr = x > y` は `>` による比較式なので、結果はブール型になります。したがって、`expr_sort` は `Bool` を表すソートになります。`expr_sort` の型（`type(expr_sort)`）は `BoolSortRef` で、ブール値を表す `SortRef` のサブクラスです。"
   ]
  },
  {
   "cell_type": "markdown",
   "id": "8f617aab-444b-4b5b-87d2-ecfbae4f207c",
   "metadata": {},
   "source": [
    "### FuncDeclRef"
   ]
  },
  {
   "cell_type": "markdown",
   "id": "2b6d0160-4b86-4d0a-aee8-9505de67a6fe",
   "metadata": {},
   "source": [
    "`ExprRef.decl()` メソッドは、その式（`ExprRef`）の **関数宣言（`FuncDeclRef`）** を取得するメソッドです。変数や演算子がどのような関数宣言に基づいているかを調べるのに役立ちます。"
   ]
  },
  {
   "cell_type": "code",
   "execution_count": 240,
   "id": "b81cf73e-b796-4ede-be92-4896f1582e7d",
   "metadata": {},
   "outputs": [
    {
     "name": "stdout",
     "output_type": "stream",
     "text": [
      "x_decl = x\n",
      "expr_decl = >\n",
      "type(x_decl) = FuncDeclRef\n",
      "type(expr_decl) = FuncDeclRef\n"
     ]
    }
   ],
   "source": [
    "x_decl = x.decl()\n",
    "expr_decl = expr.decl()\n",
    "print(f'{x_decl = }')\n",
    "print(f'{expr_decl = }')\n",
    "print(f'type(x_decl) = {type(x_decl).__name__}')\n",
    "print(f'type(expr_decl) = {type(expr_decl).__name__}')"
   ]
  },
  {
   "cell_type": "markdown",
   "id": "81669bd5-0653-4a29-9db8-91e2da1b055e",
   "metadata": {},
   "source": [
    "- `x` は整数変数ですが、Z3 内部では「関数 `x()`（定数関数）」として扱われるため、その宣言も `FuncDeclRef` 型になります。\n",
    "- `expr = x > y` は `>`（比較演算子）を使った式であり、この `>` も Z3 では「関数 `>`」として扱われます。"
   ]
  },
  {
   "cell_type": "markdown",
   "id": "719423bc-9756-4426-b94d-b73b178656b0",
   "metadata": {},
   "source": [
    "`FuncDeclRef` は Z3 における **関数や演算子の宣言** を表すクラスです。その関数の情報は、`name()`, `arity()`, `range()`, `domain()`, `kind()` などのメソッドを使って調べることができます。\n",
    "\n",
    "- `name()` は関数の名前を返します。  \n",
    "  - `x_decl.name()` は `'x'` であり、変数の関数名はその変数名になります。  \n",
    "  - `expr_decl.name()` は `'>'` であり、比較演算子の関数名は演算子そのものになります。\n",
    "\n",
    "- `arity()` は、その関数が持つ引数の数を返します。  \n",
    "  - `x_decl.arity()` は `0` であり、`x` は定数（引数を持たない）。  \n",
    "  - `expr_decl.arity()` は `2` であり、`x > y` は 2 つの引数を取る二項演算子です。\n",
    "\n",
    "- `range()` は、関数が返す値の型（`SortRef`）を返します。  \n",
    "  - `x_decl.range()` は `Int` であり、`x` は整数型です。  \n",
    "  - `expr_decl.range()` は `Bool` であり、`x > y` はブール値を返します。\n",
    "\n",
    "- `domain(i)` は、その関数の `i` 番目の引数の型（`SortRef`）を返します。  \n",
    "  - `expr_decl.domain(0)` は `Int` であり、1 番目の引数 `x` は整数型です。  \n",
    "  - `expr_decl.domain(1)` は `Int` であり、2 番目の引数 `y` も整数型です。\n",
    "\n",
    "- `kind()` は、関数の種類（Z3 内部の識別子）を返します。  \n",
    "  - `x_decl.kind()` は `z3.Z3_OP_UNINTERPRETED` であり、これは **ユーザーが定義したシンボル（変数）** を意味します。  \n",
    "  - `expr_decl.kind()` は `z3.OP_GT` であり、これは **比較演算子 `>`** を意味します。"
   ]
  },
  {
   "cell_type": "code",
   "execution_count": 251,
   "id": "d1d31596-9fd3-46fc-9d34-23f541aff8aa",
   "metadata": {},
   "outputs": [
    {
     "name": "stdout",
     "output_type": "stream",
     "text": [
      "x_decl.name() = 'x'\n",
      "x_decl.arity() = 0\n",
      "x_decl.range() = Int\n"
     ]
    }
   ],
   "source": [
    "print(f'{x_decl.name() = }')\n",
    "print(f'{x_decl.arity() = }')\n",
    "print(f'{x_decl.range() = }')"
   ]
  },
  {
   "cell_type": "code",
   "execution_count": 252,
   "id": "133ac50d-c822-477a-bee9-e45a54fa5e17",
   "metadata": {},
   "outputs": [
    {
     "name": "stdout",
     "output_type": "stream",
     "text": [
      "expr_decl.name() = '>'\n",
      "expr_decl.arity() = 2\n",
      "expr_decl.range() = Bool\n"
     ]
    }
   ],
   "source": [
    "print(f'{expr_decl.name() = }')\n",
    "print(f'{expr_decl.arity() = }')\n",
    "print(f'{expr_decl.range() = }')"
   ]
  },
  {
   "cell_type": "code",
   "execution_count": 228,
   "id": "4422e8d3-5f07-4f77-89ac-8387e220e81f",
   "metadata": {},
   "outputs": [
    {
     "name": "stdout",
     "output_type": "stream",
     "text": [
      "expr_decl.domain(0) = Int\n",
      "expr_decl.domain(1) = Int\n"
     ]
    }
   ],
   "source": [
    "print(f'{expr_decl.domain(0) = }')\n",
    "print(f'{expr_decl.domain(1) = }')"
   ]
  },
  {
   "cell_type": "code",
   "execution_count": 249,
   "id": "f904c011-3686-4f70-98bb-387078d675aa",
   "metadata": {},
   "outputs": [
    {
     "name": "stdout",
     "output_type": "stream",
     "text": [
      "x_decl.kind() = 45102\n",
      "expr_decl.kind() = 517\n",
      "z3.Z3_OP_UNINTERPRETED = 45102\n",
      "z3.Z3_OP_GT = 517\n"
     ]
    }
   ],
   "source": [
    "print(f'{x_decl.kind() = }') # z3.Z3_OP_UNINTERPRETED\n",
    "print(f'{expr_decl.kind() = }') # z3.OP_LT\n",
    "\n",
    "print(f'{z3.Z3_OP_UNINTERPRETED = }')\n",
    "print(f'{z3.Z3_OP_GT = }')"
   ]
  },
  {
   "cell_type": "markdown",
   "id": "1096d81f-5f42-4c6c-938f-04782838e40b",
   "metadata": {},
   "source": [
    "`FuncDeclRef.sexpr()` は、関数や演算子の **S-Expression（シンボリック表現）** を文字列として返すメソッドです。Z3 は内部で S-Expression という Lisp 風の構文を使って数式や論理式を表現しており、このメソッドを使うことでその構文を確認できます。"
   ]
  },
  {
   "cell_type": "code",
   "execution_count": 250,
   "id": "7fd2e1b6-9308-4c6f-a81c-aa92ec3847e1",
   "metadata": {},
   "outputs": [
    {
     "name": "stdout",
     "output_type": "stream",
     "text": [
      "x.decl().sexpr() = '(declare-fun x () Int)'\n",
      "expr.decl().sexpr() = '(declare-fun > (Int Int) Bool)'\n"
     ]
    }
   ],
   "source": [
    "print(f'{x.decl().sexpr() = }')\n",
    "print(f'{expr.decl().sexpr() = }')"
   ]
  },
  {
   "cell_type": "markdown",
   "id": "8dae8e9e-347f-4617-b69f-941cf5ab2710",
   "metadata": {},
   "source": [
    "`ExprRef`、`FuncDeclRef`、および `SortRef` の関係を次のグラフで示します。\n",
    "\n",
    "```mermaid\n",
    "graph\n",
    "vx((x))\n",
    "vy((y))\n",
    "vexpr((expr))\n",
    "style vx fill:#9f9\n",
    "style vy fill:#9f9\n",
    "style vexpr fill:#9f9\n",
    "x[\"Int('x')\\nArithRef\"]\n",
    "y[\"Int('y')\\nArithRef\"]\n",
    "expr[\"x > y\\nBoolRef\"]\n",
    "style x fill:#99f\n",
    "style y fill:#99f\n",
    "style expr fill:#99f\n",
    "func[\"FuncDeclRef()\"]\n",
    "int_func_x[\"FuncDeclRef()\"]\n",
    "int_func_y[\"FuncDeclRef()\"]\n",
    "style func fill:#f99\n",
    "style int_func_x fill:#f99\n",
    "style int_func_y fill:#f99\n",
    "bool_sort[\"BoolSortRef()\"]\n",
    "int_sort[\"ArithSortRef()\"]\n",
    "style bool_sort fill:#ff9\n",
    "style int_sort fill:#ff9\n",
    "gt[\"'>'\"]\n",
    "\n",
    "vx --> x\n",
    "vy --> y\n",
    "vexpr --> expr\n",
    "expr --arg(0)--> x\n",
    "expr --arg(1)--> y\n",
    "expr --decl()--> func\n",
    "expr --sort()--> bool_sort\n",
    "func --kind()--> Z3_OP_GT\n",
    "func --name()--> gt\n",
    "func --range()--> bool_sort\n",
    "func --domain(0)--> int_sort\n",
    "func --domain(1)--> int_sort\n",
    "x --sort()--> int_sort\n",
    "y --sort()--> int_sort\n",
    "x --decl()--> int_func_x\n",
    "y --decl()--> int_func_y\n",
    "int_func_x --name()--> 'x'\n",
    "int_func_x --range()--> int_sort\n",
    "int_func_y --name()--> 'y'\n",
    "int_func_y --range()--> int_sort\n",
    "int_func_x --kind()--> Z3_OP_UNINTERPRETED\n",
    "int_func_y --kind()--> Z3_OP_UNINTERPRETED\n",
    "```"
   ]
  },
  {
   "cell_type": "markdown",
   "id": "bb965d28-80aa-4cbc-b115-ae04203ab494",
   "metadata": {},
   "source": [
    "```mermaid\n",
    "graph \n",
    "ArithRef[\"ArithRef\\nInt('x')\"]\n",
    "ArithRef --decl()--> FuncDeclRef\n",
    "ArithRef --sort()--> ArithSortRef\n",
    "FuncDeclRef --name()--> 'x'\n",
    "FuncDeclRef --range() --> ArithSortRef\n",
    "FuncDeclRef --()--> ArithRef\n",
    "ArithSortRef --name()--> 'Int'\n",
    "ArithRef --is_int()--> True\n",
    "ModelRef --[int]--> FuncDeclRef\n",
    "ModelRef --[FuncDeclRef | ArithRef]--> IntNumRef\n",
    "IntNumRef --sort()--> ArithSortRef\n",
    "IntNumRef --as_long()--> 1\n",
    "```"
   ]
  },
  {
   "cell_type": "code",
   "execution_count": 230,
   "id": "3a75749b-d68c-4665-8744-f8e5c7142f5e",
   "metadata": {},
   "outputs": [],
   "source": [
    "x, y, z = Ints('x y z')\n",
    "solver = Solver()\n",
    "solver.add(x > y, y > z, x > 0, z < 5)\n",
    "solver.check()\n",
    "m = solver.model()"
   ]
  },
  {
   "cell_type": "code",
   "execution_count": 233,
   "id": "09be4c9e-a2b0-4ceb-89b9-5155f47203c6",
   "metadata": {},
   "outputs": [
    {
     "data": {
      "text/plain": [
       "z3.z3.BoolRef"
      ]
     },
     "execution_count": 233,
     "metadata": {},
     "output_type": "execute_result"
    }
   ],
   "source": [
    "type(m.eval(x > y))"
   ]
  },
  {
   "cell_type": "code",
   "execution_count": 148,
   "id": "321af85a-defd-480c-ad0c-3ccb42eae674",
   "metadata": {},
   "outputs": [
    {
     "data": {
      "text/plain": [
       "z3.z3.BoolRef"
      ]
     },
     "execution_count": 148,
     "metadata": {},
     "output_type": "execute_result"
    }
   ],
   "source": [
    "type(solver.assertions()[0])"
   ]
  },
  {
   "cell_type": "code",
   "execution_count": 140,
   "id": "88882e53-1e39-4973-8406-1ae0c43d4708",
   "metadata": {},
   "outputs": [
    {
     "data": {
      "text/plain": [
       "True"
      ]
     },
     "execution_count": 140,
     "metadata": {},
     "output_type": "execute_result"
    }
   ],
   "source": [
    "xv.sort().eq(x.sort())"
   ]
  },
  {
   "cell_type": "code",
   "execution_count": 137,
   "id": "82ff938c-e279-4f45-8a6b-55758c5b4ea1",
   "metadata": {},
   "outputs": [
    {
     "data": {
      "text/plain": [
       "z3.z3.IntNumRef"
      ]
     },
     "execution_count": 137,
     "metadata": {},
     "output_type": "execute_result"
    }
   ],
   "source": [
    "type(xv)"
   ]
  },
  {
   "cell_type": "code",
   "execution_count": 136,
   "id": "9add2a67-91b6-497e-ae68-c5e47da49515",
   "metadata": {},
   "outputs": [
    {
     "data": {
      "text/plain": [
       "z3.z3.ModelRef"
      ]
     },
     "execution_count": 136,
     "metadata": {},
     "output_type": "execute_result"
    }
   ],
   "source": [
    "type(m)"
   ]
  },
  {
   "cell_type": "code",
   "execution_count": 135,
   "id": "f3a81d10-1c18-4902-87c8-886f28e473ba",
   "metadata": {},
   "outputs": [
    {
     "data": {
      "text/plain": [
       "True"
      ]
     },
     "execution_count": 135,
     "metadata": {},
     "output_type": "execute_result"
    }
   ],
   "source": [
    "m[0].eq(x.decl())"
   ]
  },
  {
   "cell_type": "code",
   "execution_count": 129,
   "id": "121a8c2a-bfee-4a91-9725-052b03585e7a",
   "metadata": {},
   "outputs": [
    {
     "data": {
      "text/plain": [
       "'x'"
      ]
     },
     "execution_count": 129,
     "metadata": {},
     "output_type": "execute_result"
    }
   ],
   "source": [
    "x.decl().name()"
   ]
  },
  {
   "cell_type": "code",
   "execution_count": 130,
   "id": "09ddeece-8887-4a28-b063-1b32b3f13fd5",
   "metadata": {},
   "outputs": [
    {
     "data": {
      "text/plain": [
       "'Int'"
      ]
     },
     "execution_count": 130,
     "metadata": {},
     "output_type": "execute_result"
    }
   ],
   "source": [
    "xv = m[x]\n",
    "xv.decl().name()"
   ]
  },
  {
   "cell_type": "code",
   "execution_count": null,
   "id": "c8b100c8-91d2-49e6-98ef-891f006e044d",
   "metadata": {},
   "outputs": [],
   "source": [
    "x.as_lon"
   ]
  },
  {
   "cell_type": "code",
   "execution_count": 132,
   "id": "408cfd08-1974-46ae-9ba2-8775b4f19a2a",
   "metadata": {},
   "outputs": [
    {
     "data": {
      "text/html": [
       "1"
      ],
      "text/plain": [
       "1"
      ]
     },
     "execution_count": 132,
     "metadata": {},
     "output_type": "execute_result"
    }
   ],
   "source": [
    "xv."
   ]
  },
  {
   "cell_type": "code",
   "execution_count": 119,
   "id": "cc6519f4-0372-4524-b554-4de0f5599968",
   "metadata": {},
   "outputs": [
    {
     "data": {
      "text/plain": [
       "z3.z3.ArithSortRef"
      ]
     },
     "execution_count": 119,
     "metadata": {},
     "output_type": "execute_result"
    }
   ],
   "source": [
    "type(xv.sort())"
   ]
  },
  {
   "cell_type": "code",
   "execution_count": 124,
   "id": "6e91b5cb-a212-41ec-aa9f-7d3e81987086",
   "metadata": {},
   "outputs": [
    {
     "data": {
      "text/plain": [
       "False"
      ]
     },
     "execution_count": 124,
     "metadata": {},
     "output_type": "execute_result"
    }
   ],
   "source": [
    "xv.decl().eq(x.decl())"
   ]
  },
  {
   "cell_type": "code",
   "execution_count": 128,
   "id": "6250c3d1-1c1f-42d1-934b-b60e258da717",
   "metadata": {},
   "outputs": [
    {
     "data": {
      "text/plain": [
       "'Int'"
      ]
     },
     "execution_count": 128,
     "metadata": {},
     "output_type": "execute_result"
    }
   ],
   "source": [
    "xv.decl().name()"
   ]
  },
  {
   "cell_type": "code",
   "execution_count": 122,
   "id": "cfcf0591-8b22-4a89-8cd3-64b6f8892832",
   "metadata": {},
   "outputs": [
    {
     "data": {
      "text/plain": [
       "<FuncDecl object at 0x000001BBC18B3450>"
      ]
     },
     "execution_count": 122,
     "metadata": {},
     "output_type": "execute_result"
    }
   ],
   "source": [
    "x.decl().ast"
   ]
  },
  {
   "cell_type": "code",
   "execution_count": 116,
   "id": "285f50c5-1982-4efd-9add-717e4606fa07",
   "metadata": {},
   "outputs": [
    {
     "data": {
      "text/plain": [
       "True"
      ]
     },
     "execution_count": 116,
     "metadata": {},
     "output_type": "execute_result"
    }
   ],
   "source": [
    "xd = x.decl()\n",
    "xd.range().eq(x.sort())"
   ]
  },
  {
   "cell_type": "code",
   "execution_count": 114,
   "id": "faa9d5be-15a8-4529-8026-2df5e5f7ea4f",
   "metadata": {},
   "outputs": [
    {
     "data": {
      "text/html": [
       "Int"
      ],
      "text/plain": [
       "Int"
      ]
     },
     "execution_count": 114,
     "metadata": {},
     "output_type": "execute_result"
    }
   ],
   "source": [
    "x.sort()"
   ]
  },
  {
   "cell_type": "code",
   "execution_count": 104,
   "id": "b8d0e3d1-4ea5-4ff1-bea8-683b53834ef1",
   "metadata": {},
   "outputs": [
    {
     "data": {
      "text/html": [
       "Int"
      ],
      "text/plain": [
       "Int"
      ]
     },
     "execution_count": 104,
     "metadata": {},
     "output_type": "execute_result"
    }
   ],
   "source": [
    "xd.range()"
   ]
  },
  {
   "cell_type": "code",
   "execution_count": 106,
   "id": "1ee10fc2-e316-4686-a54a-c38450632f3a",
   "metadata": {},
   "outputs": [],
   "source": [
    "f = Function('haha', IntSort(), RealSort())"
   ]
  },
  {
   "cell_type": "code",
   "execution_count": 109,
   "id": "308bc8b0-0e22-43c4-a36c-23242a456438",
   "metadata": {},
   "outputs": [
    {
     "data": {
      "text/plain": [
       "z3.z3.ArithSortRef"
      ]
     },
     "execution_count": 109,
     "metadata": {},
     "output_type": "execute_result"
    }
   ],
   "source": [
    "type(f.range())"
   ]
  },
  {
   "cell_type": "code",
   "execution_count": null,
   "id": "8d377eb3-95c4-4e33-963a-5ee884fe19cf",
   "metadata": {},
   "outputs": [],
   "source": []
  },
  {
   "cell_type": "code",
   "execution_count": 97,
   "id": "ff4d8b8c-11bc-4007-99f7-da25aab6323d",
   "metadata": {},
   "outputs": [
    {
     "data": {
      "text/plain": [
       "<FuncDecl object at 0x000001BBC0362050>"
      ]
     },
     "execution_count": 97,
     "metadata": {},
     "output_type": "execute_result"
    }
   ],
   "source": [
    "xd.as_func_decl()"
   ]
  },
  {
   "cell_type": "code",
   "execution_count": 103,
   "id": "c5b3e3fd-875a-4641-8485-904d9d599a65",
   "metadata": {},
   "outputs": [
    {
     "data": {
      "text/html": [
       "Int"
      ],
      "text/plain": [
       "Int"
      ]
     },
     "execution_count": 103,
     "metadata": {},
     "output_type": "execute_result"
    }
   ],
   "source": [
    "xd."
   ]
  },
  {
   "cell_type": "code",
   "execution_count": 92,
   "id": "f17296b9-119a-472e-870d-676c4dddf729",
   "metadata": {},
   "outputs": [
    {
     "data": {
      "text/plain": [
       "z3.z3.FuncDeclRef"
      ]
     },
     "execution_count": 92,
     "metadata": {},
     "output_type": "execute_result"
    }
   ],
   "source": [
    "type(xv.decl())"
   ]
  },
  {
   "cell_type": "code",
   "execution_count": 85,
   "id": "2c2990b0-4c96-4332-900d-0ade81adb0d1",
   "metadata": {},
   "outputs": [
    {
     "data": {
      "text/plain": [
       "<Ast object at 0x000001BBC04AF3D0>"
      ]
     },
     "execution_count": 85,
     "metadata": {},
     "output_type": "execute_result"
    }
   ],
   "source": [
    "x.ast"
   ]
  },
  {
   "cell_type": "code",
   "execution_count": 84,
   "id": "aef4eefb-7292-4fc6-acbf-279d05a6253b",
   "metadata": {},
   "outputs": [
    {
     "data": {
      "text/plain": [
       "True"
      ]
     },
     "execution_count": 84,
     "metadata": {},
     "output_type": "execute_result"
    }
   ],
   "source": [
    "x.is_int()"
   ]
  },
  {
   "cell_type": "code",
   "execution_count": 78,
   "id": "2be1bbfb-08e6-487e-817a-ce5ea7acf4bf",
   "metadata": {},
   "outputs": [
    {
     "data": {
      "text/plain": [
       "'x'"
      ]
     },
     "execution_count": 78,
     "metadata": {},
     "output_type": "execute_result"
    }
   ],
   "source": [
    "x.decl().name()"
   ]
  },
  {
   "cell_type": "code",
   "execution_count": 72,
   "id": "9a748a0c-3986-4c0d-b03a-be78d5388642",
   "metadata": {},
   "outputs": [
    {
     "data": {
      "text/html": [
       "Int"
      ],
      "text/plain": [
       "Int"
      ]
     },
     "execution_count": 72,
     "metadata": {},
     "output_type": "execute_result"
    }
   ],
   "source": [
    "x.sort()"
   ]
  },
  {
   "cell_type": "code",
   "execution_count": 6,
   "id": "82ef8ce9-0493-498e-92b9-548fc153fc34",
   "metadata": {},
   "outputs": [
    {
     "data": {
      "text/plain": [
       "[z3.z3.ArithRef, z3.z3.ExprRef, z3.z3.AstRef, z3.z3.Z3PPObject, object]"
      ]
     },
     "execution_count": 6,
     "metadata": {},
     "output_type": "execute_result"
    }
   ],
   "source": [
    "type(x).mro()"
   ]
  },
  {
   "cell_type": "code",
   "execution_count": 42,
   "id": "baeec59f-aaaa-4aa4-9531-6b7c78a31631",
   "metadata": {},
   "outputs": [
    {
     "data": {
      "text/plain": [
       "[z3.z3.FuncDeclRef, z3.z3.AstRef, z3.z3.Z3PPObject, object]"
      ]
     },
     "execution_count": 42,
     "metadata": {},
     "output_type": "execute_result"
    }
   ],
   "source": [
    "type(x.decl()).mro()"
   ]
  },
  {
   "cell_type": "code",
   "execution_count": 49,
   "id": "3ed14553-ccf9-4e43-b26f-2445ac9817e4",
   "metadata": {},
   "outputs": [
    {
     "data": {
      "text/plain": [
       "1905841136352"
      ]
     },
     "execution_count": 49,
     "metadata": {},
     "output_type": "execute_result"
    }
   ],
   "source": [
    "x.decl()().ast.value"
   ]
  },
  {
   "cell_type": "code",
   "execution_count": 58,
   "id": "0dabc30f-a5de-4556-99fe-bc76e253ec14",
   "metadata": {},
   "outputs": [
    {
     "data": {
      "text/plain": [
       "[z3.z3.SortRef, z3.z3.FuncDeclRef, z3.z3.ExprRef]"
      ]
     },
     "execution_count": 58,
     "metadata": {},
     "output_type": "execute_result"
    }
   ],
   "source": [
    "z3.AstRef.__subclasses__()"
   ]
  },
  {
   "cell_type": "code",
   "execution_count": 59,
   "id": "d98b9b97-7200-4811-b118-ad15f258c0e5",
   "metadata": {},
   "outputs": [],
   "source": []
  },
  {
   "cell_type": "code",
   "execution_count": 60,
   "id": "167cd7ea-9126-4549-ae46-0841d44d80f8",
   "metadata": {},
   "outputs": [
    {
     "name": "stdout",
     "output_type": "stream",
     "text": [
      "└──AstRef\n",
      "   ├──SortRef\n",
      "   │  ├──TypeVarRef\n",
      "   │  ├──BoolSortRef\n",
      "   │  ├──ArithSortRef\n",
      "   │  ├──BitVecSortRef\n",
      "   │  ├──ArraySortRef\n",
      "   │  ├──DatatypeSortRef\n",
      "   │  ├──FiniteDomainSortRef\n",
      "   │  ├──FPSortRef\n",
      "   │  ├──FPRMSortRef\n",
      "   │  ├──SeqSortRef\n",
      "   │  ├──CharSortRef\n",
      "   │  └──ReSortRef\n",
      "   ├──FuncDeclRef\n",
      "   └──ExprRef\n",
      "      ├──BoolRef\n",
      "      │  └──QuantifierRef\n",
      "      ├──PatternRef\n",
      "      ├──ArithRef\n",
      "      │  ├──IntNumRef\n",
      "      │  ├──RatNumRef\n",
      "      │  └──AlgebraicNumRef\n",
      "      ├──BitVecRef\n",
      "      │  └──BitVecNumRef\n",
      "      ├──ArrayRef\n",
      "      ├──DatatypeRef\n",
      "      ├──FiniteDomainRef\n",
      "      │  └──FiniteDomainNumRef\n",
      "      ├──FPRef\n",
      "      │  └──FPNumRef\n",
      "      ├──FPRMRef\n",
      "      ├──SeqRef\n",
      "      ├──CharRef\n",
      "      └──ReRef\n"
     ]
    }
   ],
   "source": []
  },
  {
   "cell_type": "code",
   "execution_count": null,
   "id": "1e737acc-38cd-4f14-99a1-b54a3909f083",
   "metadata": {},
   "outputs": [],
   "source": []
  },
  {
   "cell_type": "code",
   "execution_count": 64,
   "id": "07a4c1ef-b99e-49ca-a0f1-7debd8ebcae8",
   "metadata": {},
   "outputs": [
    {
     "data": {
      "text/plain": [
       "z3.z3.ArithSortRef"
      ]
     },
     "execution_count": 64,
     "metadata": {},
     "output_type": "execute_result"
    }
   ],
   "source": [
    "type(IntSort())"
   ]
  },
  {
   "cell_type": "code",
   "execution_count": 61,
   "id": "5ed9ac19-f571-40ea-99d2-344151f0ed54",
   "metadata": {},
   "outputs": [
    {
     "data": {
      "text/plain": [
       "\u001b[1;31mSignature:\u001b[0m \u001b[0mFunction\u001b[0m\u001b[1;33m(\u001b[0m\u001b[0mname\u001b[0m\u001b[1;33m,\u001b[0m \u001b[1;33m*\u001b[0m\u001b[0msig\u001b[0m\u001b[1;33m)\u001b[0m\u001b[1;33m\u001b[0m\u001b[1;33m\u001b[0m\u001b[0m\n",
       "\u001b[1;31mSource:\u001b[0m   \n",
       "\u001b[1;32mdef\u001b[0m \u001b[0mFunction\u001b[0m\u001b[1;33m(\u001b[0m\u001b[0mname\u001b[0m\u001b[1;33m,\u001b[0m \u001b[1;33m*\u001b[0m\u001b[0msig\u001b[0m\u001b[1;33m)\u001b[0m\u001b[1;33m:\u001b[0m\u001b[1;33m\n",
       "\u001b[0m    \u001b[1;34m\"\"\"Create a new Z3 uninterpreted function with the given sorts.\n",
       "\n",
       "    >>> f = Function('f', IntSort(), IntSort())\n",
       "    >>> f(f(0))\n",
       "    f(f(0))\n",
       "    \"\"\"\u001b[0m\u001b[1;33m\n",
       "\u001b[0m    \u001b[0msig\u001b[0m \u001b[1;33m=\u001b[0m \u001b[0m_get_args\u001b[0m\u001b[1;33m(\u001b[0m\u001b[0msig\u001b[0m\u001b[1;33m)\u001b[0m\u001b[1;33m\n",
       "\u001b[0m    \u001b[1;32mif\u001b[0m \u001b[0mz3_debug\u001b[0m\u001b[1;33m(\u001b[0m\u001b[1;33m)\u001b[0m\u001b[1;33m:\u001b[0m\u001b[1;33m\n",
       "\u001b[0m        \u001b[0m_z3_assert\u001b[0m\u001b[1;33m(\u001b[0m\u001b[0mlen\u001b[0m\u001b[1;33m(\u001b[0m\u001b[0msig\u001b[0m\u001b[1;33m)\u001b[0m \u001b[1;33m>\u001b[0m \u001b[1;36m0\u001b[0m\u001b[1;33m,\u001b[0m \u001b[1;34m\"At least two arguments expected\"\u001b[0m\u001b[1;33m)\u001b[0m\u001b[1;33m\n",
       "\u001b[0m    \u001b[0marity\u001b[0m \u001b[1;33m=\u001b[0m \u001b[0mlen\u001b[0m\u001b[1;33m(\u001b[0m\u001b[0msig\u001b[0m\u001b[1;33m)\u001b[0m \u001b[1;33m-\u001b[0m \u001b[1;36m1\u001b[0m\u001b[1;33m\n",
       "\u001b[0m    \u001b[0mrng\u001b[0m \u001b[1;33m=\u001b[0m \u001b[0msig\u001b[0m\u001b[1;33m[\u001b[0m\u001b[0marity\u001b[0m\u001b[1;33m]\u001b[0m\u001b[1;33m\n",
       "\u001b[0m    \u001b[1;32mif\u001b[0m \u001b[0mz3_debug\u001b[0m\u001b[1;33m(\u001b[0m\u001b[1;33m)\u001b[0m\u001b[1;33m:\u001b[0m\u001b[1;33m\n",
       "\u001b[0m        \u001b[0m_z3_assert\u001b[0m\u001b[1;33m(\u001b[0m\u001b[0mis_sort\u001b[0m\u001b[1;33m(\u001b[0m\u001b[0mrng\u001b[0m\u001b[1;33m)\u001b[0m\u001b[1;33m,\u001b[0m \u001b[1;34m\"Z3 sort expected\"\u001b[0m\u001b[1;33m)\u001b[0m\u001b[1;33m\n",
       "\u001b[0m    \u001b[0mdom\u001b[0m \u001b[1;33m=\u001b[0m \u001b[1;33m(\u001b[0m\u001b[0mSort\u001b[0m \u001b[1;33m*\u001b[0m \u001b[0marity\u001b[0m\u001b[1;33m)\u001b[0m\u001b[1;33m(\u001b[0m\u001b[1;33m)\u001b[0m\u001b[1;33m\n",
       "\u001b[0m    \u001b[1;32mfor\u001b[0m \u001b[0mi\u001b[0m \u001b[1;32min\u001b[0m \u001b[0mrange\u001b[0m\u001b[1;33m(\u001b[0m\u001b[0marity\u001b[0m\u001b[1;33m)\u001b[0m\u001b[1;33m:\u001b[0m\u001b[1;33m\n",
       "\u001b[0m        \u001b[1;32mif\u001b[0m \u001b[0mz3_debug\u001b[0m\u001b[1;33m(\u001b[0m\u001b[1;33m)\u001b[0m\u001b[1;33m:\u001b[0m\u001b[1;33m\n",
       "\u001b[0m            \u001b[0m_z3_assert\u001b[0m\u001b[1;33m(\u001b[0m\u001b[0mis_sort\u001b[0m\u001b[1;33m(\u001b[0m\u001b[0msig\u001b[0m\u001b[1;33m[\u001b[0m\u001b[0mi\u001b[0m\u001b[1;33m]\u001b[0m\u001b[1;33m)\u001b[0m\u001b[1;33m,\u001b[0m \u001b[1;34m\"Z3 sort expected\"\u001b[0m\u001b[1;33m)\u001b[0m\u001b[1;33m\n",
       "\u001b[0m        \u001b[0mdom\u001b[0m\u001b[1;33m[\u001b[0m\u001b[0mi\u001b[0m\u001b[1;33m]\u001b[0m \u001b[1;33m=\u001b[0m \u001b[0msig\u001b[0m\u001b[1;33m[\u001b[0m\u001b[0mi\u001b[0m\u001b[1;33m]\u001b[0m\u001b[1;33m.\u001b[0m\u001b[0mast\u001b[0m\u001b[1;33m\n",
       "\u001b[0m    \u001b[0mctx\u001b[0m \u001b[1;33m=\u001b[0m \u001b[0mrng\u001b[0m\u001b[1;33m.\u001b[0m\u001b[0mctx\u001b[0m\u001b[1;33m\n",
       "\u001b[0m    \u001b[1;32mreturn\u001b[0m \u001b[0mFuncDeclRef\u001b[0m\u001b[1;33m(\u001b[0m\u001b[0mZ3_mk_func_decl\u001b[0m\u001b[1;33m(\u001b[0m\u001b[0mctx\u001b[0m\u001b[1;33m.\u001b[0m\u001b[0mref\u001b[0m\u001b[1;33m(\u001b[0m\u001b[1;33m)\u001b[0m\u001b[1;33m,\u001b[0m \u001b[0mto_symbol\u001b[0m\u001b[1;33m(\u001b[0m\u001b[0mname\u001b[0m\u001b[1;33m,\u001b[0m \u001b[0mctx\u001b[0m\u001b[1;33m)\u001b[0m\u001b[1;33m,\u001b[0m \u001b[0marity\u001b[0m\u001b[1;33m,\u001b[0m \u001b[0mdom\u001b[0m\u001b[1;33m,\u001b[0m \u001b[0mrng\u001b[0m\u001b[1;33m.\u001b[0m\u001b[0mast\u001b[0m\u001b[1;33m)\u001b[0m\u001b[1;33m,\u001b[0m \u001b[0mctx\u001b[0m\u001b[1;33m)\u001b[0m\u001b[1;33m\u001b[0m\u001b[1;33m\u001b[0m\u001b[0m\n",
       "\u001b[1;31mFile:\u001b[0m      c:\\micromamba\\envs\\cad\\lib\\site-packages\\z3\\z3.py\n",
       "\u001b[1;31mType:\u001b[0m      function"
      ]
     },
     "metadata": {},
     "output_type": "display_data"
    }
   ],
   "source": [
    "Function??"
   ]
  },
  {
   "cell_type": "code",
   "execution_count": null,
   "id": "ff644842-0467-4288-a7b4-063ea71d6aef",
   "metadata": {},
   "outputs": [],
   "source": [
    "### type(x.sort()).mro()"
   ]
  },
  {
   "cell_type": "code",
   "execution_count": 56,
   "id": "5a07f794-a0cd-40d5-a00b-9660da155aa0",
   "metadata": {},
   "outputs": [
    {
     "ename": "AttributeError",
     "evalue": "'FuncDeclRef' object has no attribute 'sort'",
     "output_type": "error",
     "traceback": [
      "\u001b[1;31m---------------------------------------------------------------------------\u001b[0m",
      "\u001b[1;31mAttributeError\u001b[0m                            Traceback (most recent call last)",
      "Cell \u001b[1;32mIn[56], line 1\u001b[0m\n\u001b[1;32m----> 1\u001b[0m \u001b[43mx\u001b[49m\u001b[38;5;241;43m.\u001b[39;49m\u001b[43mdecl\u001b[49m\u001b[43m(\u001b[49m\u001b[43m)\u001b[49m\u001b[38;5;241;43m.\u001b[39;49m\u001b[43msort\u001b[49m()\n",
      "\u001b[1;31mAttributeError\u001b[0m: 'FuncDeclRef' object has no attribute 'sort'"
     ]
    }
   ],
   "source": [
    "x.decl().sort()"
   ]
  },
  {
   "cell_type": "code",
   "execution_count": 40,
   "id": "a5be216a-f5dc-41e3-95e8-c4bd349843ec",
   "metadata": {},
   "outputs": [
    {
     "data": {
      "text/plain": [
       "1905841142496"
      ]
     },
     "execution_count": 40,
     "metadata": {},
     "output_type": "execute_result"
    }
   ],
   "source": [
    "x.decl().ast.value"
   ]
  },
  {
   "cell_type": "code",
   "execution_count": 19,
   "id": "b791bef9-7e1f-4e3d-a7af-f2bd29e07b46",
   "metadata": {},
   "outputs": [
    {
     "data": {
      "text/plain": [
       "<z3.z3.Context at 0x1bbbdf80b90>"
      ]
     },
     "execution_count": 19,
     "metadata": {},
     "output_type": "execute_result"
    }
   ],
   "source": [
    "x.ctx"
   ]
  },
  {
   "cell_type": "code",
   "execution_count": 26,
   "id": "0008ac8e-8a07-467b-a1a7-ce49cb1ebc0e",
   "metadata": {},
   "outputs": [
    {
     "data": {
      "text/plain": [
       "<ContextObj object at 0x000001BBBE1AF550>"
      ]
     },
     "execution_count": 26,
     "metadata": {},
     "output_type": "execute_result"
    }
   ],
   "source": [
    "x.ctx_ref()"
   ]
  },
  {
   "cell_type": "code",
   "execution_count": 28,
   "id": "fc3ca863-abd8-43ba-8516-a651c128808c",
   "metadata": {},
   "outputs": [],
   "source": [
    "xa = x.ast"
   ]
  },
  {
   "cell_type": "code",
   "execution_count": 32,
   "id": "ece925b4-77a6-4e17-8b07-2a14b6260588",
   "metadata": {},
   "outputs": [
    {
     "data": {
      "text/plain": [
       "1905841136352"
      ]
     },
     "execution_count": 32,
     "metadata": {},
     "output_type": "execute_result"
    }
   ],
   "source": [
    "xa.value"
   ]
  },
  {
   "cell_type": "code",
   "execution_count": null,
   "id": "0df4b880-d752-46b7-9db3-2a3289c1ad41",
   "metadata": {},
   "outputs": [],
   "source": [
    "from helper.python import print_subclasses\n",
    "print_subclasses(z3.AstRef.mro()[1])"
   ]
  }
 ],
 "metadata": {
  "kernelspec": {
   "display_name": "Python 3 (ipykernel)",
   "language": "python",
   "name": "python3"
  },
  "language_info": {
   "codemirror_mode": {
    "name": "ipython",
    "version": 3
   },
   "file_extension": ".py",
   "mimetype": "text/x-python",
   "name": "python",
   "nbconvert_exporter": "python",
   "pygments_lexer": "ipython3",
   "version": "3.11.8"
  }
 },
 "nbformat": 4,
 "nbformat_minor": 5
}
