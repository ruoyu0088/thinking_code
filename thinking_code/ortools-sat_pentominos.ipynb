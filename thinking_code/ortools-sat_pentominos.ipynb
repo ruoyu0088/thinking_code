{
 "cells": [
  {
   "cell_type": "markdown",
   "metadata": {},
   "source": [
    "# 箱詰めパズル"
   ]
  },
  {
   "cell_type": "markdown",
   "metadata": {},
   "source": [
    "12種類の両面[ペントミノ](https://ja.wikipedia.org/wiki/%E3%83%9D%E3%83%AA%E3%82%AA%E3%83%9F%E3%83%8E)を特定の形の箱に詰めるパズルです。CP-SATなどのソルバーを使用すれば、簡単に解くことができます。必要な制約条件は `add_exactly_one()` だけです。本章では、箱詰めパズルの解き方を説明します。  "
   ]
  },
  {
   "cell_type": "code",
   "execution_count": 2,
   "metadata": {
    "init_cell": true
   },
   "outputs": [],
   "source": [
    "from ortools.sat.python import cp_model\n",
    "import numpy as np\n",
    "from matplotlib import pyplot as plt\n",
    "from matplotlib.cm import tab20\n",
    "from matplotlib.collections import PatchCollection"
   ]
  },
  {
   "cell_type": "markdown",
   "metadata": {},
   "source": [
    "## ペントミノのリスト\n",
    "\n",
    "ペントミノは、位数5のポリオミノです。同じ大きさの正方形を5つ、辺に沿ってつなげた形を指します。回転や鏡映の操作によって同じ形とみなされるものをまとめると、全部で12種類ございます。これらを総称して「ペントミノ」と呼びます。\n",
    "\n",
    "次のプログラムは、12種類のペントミノを定義し、それらを同じグラフ上に並べて表示します。"
   ]
  },
  {
   "cell_type": "code",
   "execution_count": 13,
   "metadata": {},
   "outputs": [],
   "source": [
    "pentominos = dict(\n",
    "F=[\" **\",    # F\n",
    "   \"** \",\n",
    "   \" * \"],\n",
    "P=[\"***\",    # P\n",
    "   \"** \"],\n",
    "I=[\"*****\"], # I\n",
    "N=[\"**  \",   # N\n",
    "   \" ***\"],\n",
    "L=[\"****\",   # L\n",
    "   \"   *\"],\n",
    "T=[\"***\",    # T\n",
    "   \" * \",\n",
    "   \" * \"],\n",
    "U=[\"* *\",    # U\n",
    "   \"***\"],\n",
    "V=[\"*  \",    # V\n",
    "   \"*  \",\n",
    "   \"***\"],\n",
    "W=[\"*  \",    # W\n",
    "   \"** \",\n",
    "  \" **\"],\n",
    "X=[\" * \",    # X\n",
    "   \"***\",\n",
    "   \" * \"],\n",
    "Y=[\"  * \",   # Y\n",
    "   \"****\"],\n",
    "Z=[\"** \",    # Z\n",
    "   \" * \",\n",
    "   \" **\"]\n",
    ")"
   ]
  },
  {
   "cell_type": "code",
   "execution_count": 14,
   "metadata": {},
   "outputs": [
    {
     "data": {
      "image/png": "[encoded data removed]",
      "text/plain": [
       "<Figure size 640x480 with 1 Axes>"
      ]
     },
     "metadata": {},
     "output_type": "display_data"
    }
   ],
   "source": [
    "def plot_pentominos(pentominos):\n",
    "    fig, ax = plt.subplots()\n",
    "    ax.set_aspect('equal')\n",
    "    rectangles = []    \n",
    "    for i, (name, block) in enumerate(pentominos.items()):\n",
    "        r, c = np.where(block == '*')\n",
    "        dx, dy = i % 4 * 6, i // 4 * 4\n",
    "        for x, y in zip(c + dx, r + dy):\n",
    "            rectangles.append(plt.Rectangle((x, y), 1, 1, facecolor=tab20.colors[i], edgecolor=\"white\"))\n",
    "        # ax.text(dx + 1, dy - 1, name)\n",
    "    collection = PatchCollection(rectangles, match_original=True)\n",
    "    ax.add_collection(collection)\n",
    "    ax.autoscale_view()\n",
    "    ax.axis('off')    \n",
    "\n",
    "def as_array(b):\n",
    "    return np.array([list(row) for row in b])\n",
    "\n",
    "pentominos_arr = {key:as_array(val) for key, val in pentominos.items()}\n",
    "plot_pentominos(pentominos_arr)"
   ]
  },
  {
   "cell_type": "markdown",
   "metadata": {},
   "source": [
    "ペントミノは、2次元のNumPy文字配列として表します。`*` はブロックがあることを示し、` `（空白）はブロックがないことを示します。"
   ]
  },
  {
   "cell_type": "code",
   "execution_count": 15,
   "metadata": {},
   "outputs": [
    {
     "data": {
      "text/plain": [
       "array([['*', ' ', ' '],\n",
       "       ['*', '*', ' '],\n",
       "       [' ', '*', '*']], dtype='<U1')"
      ]
     },
     "execution_count": 15,
     "metadata": {},
     "output_type": "execute_result"
    }
   ],
   "source": [
    "pentominos_arr['W']"
   ]
  },
  {
   "attachments": {},
   "cell_type": "markdown",
   "metadata": {},
   "source": [
    "## 箱詰めを解くコード\n",
    "\n",
    "次の5種類の箱を定義します。箱はNumPyの2次元配列で表し、`1` はブロックを配置できる箇所、`0` は空白のままにしてよい箇所を示します。  "
   ]
  },
  {
   "cell_type": "code",
   "execution_count": 18,
   "metadata": {},
   "outputs": [
    {
     "name": "stdout",
     "output_type": "stream",
     "text": [
      "[[1 1 1 1 1 1 1 1]\n",
      " [1 1 1 1 1 1 1 1]\n",
      " [1 1 1 1 1 1 1 1]\n",
      " [1 1 1 0 0 1 1 1]\n",
      " [1 1 1 0 0 1 1 1]\n",
      " [1 1 1 1 1 1 1 1]\n",
      " [1 1 1 1 1 1 1 1]\n",
      " [1 1 1 1 1 1 1 1]]\n"
     ]
    }
   ],
   "source": [
    "board1 = np.ones((8, 8), dtype=np.uint8)\n",
    "board1[3:5, 3:5] = 0\n",
    "board2 = np.ones((3, 20), dtype=np.uint8)\n",
    "board3 = np.ones((4, 15), dtype=np.uint8)\n",
    "board4 = np.ones((5, 12), dtype=np.uint8)\n",
    "board5 = np.ones((6, 10), dtype=np.uint8)\n",
    "\n",
    "boards = [board1, board2, board3, board4, board5]\n",
    "print(board1)"
   ]
  },
  {
   "attachments": {},
   "cell_type": "markdown",
   "metadata": {},
   "source": [
    "### ペントミノの配置可能な場所  \n",
    "\n",
    "次のコードでは、すべてのペントミノが配置可能な場所を算出します。  \n",
    "\n",
    "ペントミノは `pentomino[:, ::step]` を用いて左右反転し、さらに `np.rot90(fliped_pentomino, r)` を使用して 90° 回転を4回行うことで、合計8種類の状態を生成します。それらを `board` のすべての位置に試し、配置に成功した場合は、そのペントミノの番号と配置したマスの座標を記録します。  \n",
    "\n",
    "重複を除去するために `set` を用いて配置情報を保存し、最後に `sorted()` を使用してリストに変換します。  "
   ]
  },
  {
   "cell_type": "code",
   "execution_count": 36,
   "metadata": {},
   "outputs": [],
   "source": [
    "from itertools import product\n",
    "from collections import defaultdict, namedtuple\n",
    "\n",
    "Location = namedtuple('Location', 'pentomino cells')\n",
    "\n",
    "def get_all_locations(pentominos, board):\n",
    "    ymax, xmax = board.shape\n",
    "    locations = set()\n",
    "    for i, pentomino in enumerate(pentominos):\n",
    "        for step in (1, -1):  # 左右反転\n",
    "            flipped_pentomino = pentomino[:, ::step]\n",
    "            for r in range(4):  # 90°回転を4回実行\n",
    "                rotated_tile = np.rot90(flipped_pentomino, r)\n",
    "                locy, locx = np.where(rotated_tile == \"*\")\n",
    "                for y, x in product(range(ymax), range(xmax)):\n",
    "                    locy2 = locy + y\n",
    "                    locx2 = locx + x\n",
    "                    try:\n",
    "                        if np.all(board[locy2, locx2] == 1):  # 配置可能か確認\n",
    "                            loc = tuple(sorted(zip(locy2.tolist(), locx2.tolist())))\n",
    "                            locations.add(Location(i, loc))\n",
    "                    except IndexError:\n",
    "                        pass  # 配置がボード外に出た場合はスキップ\n",
    "\n",
    "    return sorted(locations)"
   ]
  },
  {
   "cell_type": "markdown",
   "metadata": {},
   "source": [
    "次のコードでは、0番のペントミノの最初の5つの配置場所を表示します。"
   ]
  },
  {
   "cell_type": "code",
   "execution_count": 42,
   "metadata": {},
   "outputs": [
    {
     "name": "stdout",
     "output_type": "stream",
     "text": [
      "Location(pentomino=0, cells=((0, 0), (0, 1), (1, 1), (1, 2), (2, 1)))\n",
      "Location(pentomino=0, cells=((0, 0), (1, 0), (1, 1), (1, 2), (2, 1)))\n",
      "Location(pentomino=0, cells=((0, 1), (0, 2), (1, 0), (1, 1), (2, 1)))\n",
      "Location(pentomino=0, cells=((0, 1), (0, 2), (1, 2), (1, 3), (2, 2)))\n",
      "Location(pentomino=0, cells=((0, 1), (1, 0), (1, 1), (1, 2), (2, 0)))\n"
     ]
    }
   ],
   "source": [
    "locations = get_all_locations(pentominos_arr.values(), boards[0])\n",
    "for i in range(5):\n",
    "    print(locations[i])"
   ]
  },
  {
   "cell_type": "markdown",
   "metadata": {},
   "source": [
    "### 解を求める  \n",
    "\n",
    "次の `solve_board()` 関数を使用して、箱詰めパズルの解を求めます。まず、`locations` リストから次の2つの辞書を作成します。  \n",
    "\n",
    "- **`pentomino_locations`**：各ペントミノに対して、配置可能な場所のインデックスを対応付けた辞書。  \n",
    "- **`cell_locations`**：各マスに対して、そのマスを含む配置のインデックスを対応付けた辞書。  \n",
    "\n",
    "さらに、`locations` のすべての要素に対応するブール変数 `flags` を作成します。`flags` の値が `True` の場合、その `Location` は有効であることを意味します。  \n",
    "\n",
    "これらの `pentomino_locations` と `cell_locations` に基づき、次の2つの制約条件を設定します。  \n",
    "\n",
    "1. **ペントミノの使用回数の制約**（`pentomino_locations`）  \n",
    "   - 各ペントミノは1回だけ使用できるようにします。  \n",
    "2. **マスの充填制約**（`cell_locations`）  \n",
    "   - 各マスは1つのペントミノでのみ埋めることができます。  \n",
    "\n",
    "この制約を `model.add_exactly_one()`を用いて設定し、最適な解を求めます。"
   ]
  },
  {
   "cell_type": "code",
   "execution_count": 46,
   "metadata": {},
   "outputs": [],
   "source": [
    "def solve_board(board):\n",
    "    locations = get_all_locations(pentominos_arr.values(), board)\n",
    "    \n",
    "    # pentomino -> location index\n",
    "    pentomino_locations = defaultdict(list)\n",
    "    # cell_id -> location index\n",
    "    cell_locations = defaultdict(list)\n",
    "    \n",
    "    for idx, (tile_id, location) in enumerate(locations):\n",
    "        pentomino_locations[tile_id].append(idx)\n",
    "        for loc in location:\n",
    "            cell_locations[loc].append(idx)\n",
    "    \n",
    "    model = cp_model.CpModel()\n",
    "    \n",
    "    flags = np.array([model.new_bool_var(\"b{}\".format(i)) for i in range(len(locations))])\n",
    "    \n",
    "    for d in (pentomino_locations, cell_locations):\n",
    "        for index in d.values():\n",
    "            selected_flags = flags[index].tolist()\n",
    "            model.add_exactly_one(selected_flags)\n",
    "    \n",
    "    solver = cp_model.CpSolver()\n",
    "    solver.solve(model)\n",
    "    return [locations[i][1] for i, flag in enumerate(flags) if solver.value(flag)]\n",
    "\n",
    "def plot_solution(solution):\n",
    "    h, w = np.array(solution).reshape(-1, 2).max(axis=0) + 1\n",
    "    fig, ax = plt.subplots(figsize=(w * 0.25, h * 0.25))\n",
    "    ax.set_aspect('equal')\n",
    "\n",
    "    rectangles = []\n",
    "    \n",
    "    for i, block in enumerate(solution):\n",
    "        for y, x in block:\n",
    "            rect = plt.Rectangle((x, y), 1, 1, facecolor=tab20.colors[i],edgecolor='white')\n",
    "            rectangles.append(rect)\n",
    "            \n",
    "    collection = PatchCollection(rectangles, match_original=True)\n",
    "    ax.add_collection(collection)\n",
    "    ax.autoscale_view()\n",
    "    ax.invert_yaxis()\n",
    "    ax.axis('off')\n",
    "    return fig    "
   ]
  },
  {
   "cell_type": "markdown",
   "metadata": {},
   "source": [
    "次に、すべての箱について`solve_board()`を実行し、それぞれの解を求め、グラフにします。"
   ]
  },
  {
   "cell_type": "code",
   "execution_count": 47,
   "metadata": {},
   "outputs": [
    {
     "data": {
      "image/png": "[encoded data removed]",
      "text/plain": [
       "<Figure size 200x200 with 1 Axes>"
      ]
     },
     "metadata": {},
     "output_type": "display_data"
    },
    {
     "data": {
      "image/png": "[encoded data removed]",
      "text/plain": [
       "<Figure size 500x75 with 1 Axes>"
      ]
     },
     "metadata": {},
     "output_type": "display_data"
    },
    {
     "data": {
      "image/png": "[encoded data removed]",
      "text/plain": [
       "<Figure size 375x100 with 1 Axes>"
      ]
     },
     "metadata": {},
     "output_type": "display_data"
    },
    {
     "data": {
      "image/png": "[encoded data removed]",
      "text/plain": [
       "<Figure size 300x125 with 1 Axes>"
      ]
     },
     "metadata": {},
     "output_type": "display_data"
    },
    {
     "data": {
      "image/png": "[encoded data removed]",
      "text/plain": [
       "<Figure size 250x150 with 1 Axes>"
      ]
     },
     "metadata": {},
     "output_type": "display_data"
    }
   ],
   "source": [
    "for board in boards:\n",
    "    solution = solve_board(board)\n",
    "    plot_solution(solution)"
   ]
  }
 ],
 "metadata": {
  "kernelspec": {
   "display_name": "Python 3 (ipykernel)",
   "language": "python",
   "name": "python3"
  },
  "language_info": {
   "codemirror_mode": {
    "name": "ipython",
    "version": 3
   },
   "file_extension": ".py",
   "mimetype": "text/x-python",
   "name": "python",
   "nbconvert_exporter": "python",
   "pygments_lexer": "ipython3",
   "version": "3.12.2"
  }
 },
 "nbformat": 4,
 "nbformat_minor": 4
}
