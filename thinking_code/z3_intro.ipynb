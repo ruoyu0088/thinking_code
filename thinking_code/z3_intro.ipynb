{
 "cells": [
  {
   "cell_type": "markdown",
   "id": "7fd4b1d9-1629-4ae6-ad42-51d82b4c061b",
   "metadata": {},
   "source": [
    "# Z3の基本"
   ]
  },
  {
   "cell_type": "code",
   "execution_count": 3,
   "id": "29fac519-9e7e-49de-b724-c05ffaf28660",
   "metadata": {},
   "outputs": [],
   "source": [
    "from z3 import *"
   ]
  },
  {
   "cell_type": "markdown",
   "id": "bf7780cb-2800-45e0-a49e-353371131ed5",
   "metadata": {},
   "source": [
    "## 流れ"
   ]
  },
  {
   "cell_type": "markdown",
   "id": "eb89568b-c54e-4bd3-a557-c02debae4070",
   "metadata": {},
   "source": [
    "Z3で問題を解く一般的な流れを、詳細に説明します。  \n",
    "\n",
    "1. **変数を作成する**\n",
    "\n",
    "Z3では、整数変数 (`Int` や `Ints`)、整数配列 (`IntVector`) などを使って変数を作成します。\n",
    "\n",
    "- `Int(\"x\")` のように変数を1つずつ作成  \n",
    "- `Ints(\"x y z\")` のように複数変数を一括作成  \n",
    "- `IntVector(\"v\", 5)` のようにベクトルを作成  "
   ]
  },
  {
   "cell_type": "code",
   "execution_count": 9,
   "id": "5e07c9aa-f1b7-4447-b118-59f363181a06",
   "metadata": {},
   "outputs": [],
   "source": [
    "x = Int(\"x\")  # 変数 x を作成\n",
    "y, z = Ints(\"y z\")  # 複数の変数を作成\n",
    "v = IntVector(\"v\", 5)  # v[0] 〜 v[4] の整数変数ベクトル"
   ]
  },
  {
   "cell_type": "markdown",
   "id": "c806f723-d5af-4c67-ab91-91bb6b2dcafd",
   "metadata": {},
   "source": [
    "作った整数変数はの型は`ArithRef`です。"
   ]
  },
  {
   "cell_type": "code",
   "execution_count": 8,
   "id": "32c1d7c9-79e2-4fd3-a9d2-23b2d1ec6722",
   "metadata": {},
   "outputs": [
    {
     "name": "stdout",
     "output_type": "stream",
     "text": [
      "<class 'z3.z3.ArithRef'> x y z\n",
      "<class 'list'> <class 'z3.z3.ArithRef'> [v__0, v__1, v__2, v__3, v__4]\n"
     ]
    }
   ],
   "source": [
    "print(type(x), x, y, z)\n",
    "print(type(v), type(v[0]), v)"
   ]
  },
  {
   "cell_type": "markdown",
   "id": "5050c679-dcec-49db-a7f8-cb8ef732525b",
   "metadata": {},
   "source": [
    "2. **Solver を作成する**\n",
    "\n",
    "制約を追加し、解を求めるために `Solver()` オブジェクトを作成します。"
   ]
  },
  {
   "cell_type": "code",
   "execution_count": 12,
   "id": "d52cb1ca-ea9e-4393-9156-b8960eed35d6",
   "metadata": {},
   "outputs": [
    {
     "name": "stdout",
     "output_type": "stream",
     "text": [
      "<class 'z3.z3.Solver'> []\n"
     ]
    }
   ],
   "source": [
    "solver = Solver()\n",
    "print(type(solver), solver)"
   ]
  },
  {
   "cell_type": "markdown",
   "id": "5130ccc1-725e-4ada-b9ad-c93ec4ab32e8",
   "metadata": {},
   "source": [
    "3. **制約条件を追加する**\n",
    "\n",
    "`solver.add()` を使って制約条件を追加します。`+`, `>`, `<`, `==` のような演算子を使って制約条件を作成できます。"
   ]
  },
  {
   "cell_type": "code",
   "execution_count": null,
   "id": "b76753e3-4d3c-4918-8836-f6db6a822ea7",
   "metadata": {},
   "outputs": [],
   "source": [
    "solver.add(x + y == 10)  # x + y = 10\n",
    "solver.add(x > 0, y > 0)  # x, y は正の整数"
   ]
  },
  {
   "cell_type": "markdown",
   "id": "4b34408c-ad83-4ea8-b400-d46ba4e6318a",
   "metadata": {},
   "source": [
    "また、リストを使って一括で追加することもできます。`Solver` オブジェクトを `print()` で出力すると、含まれているすべての制約条件が表示されます。"
   ]
  },
  {
   "cell_type": "code",
   "execution_count": 14,
   "id": "f5f34491-e03d-4cc9-a7db-b8239dac266a",
   "metadata": {},
   "outputs": [
    {
     "name": "stdout",
     "output_type": "stream",
     "text": [
      "[x + y == 10, x > 0, y > 0, x + y == 10, x > 0, y > 0]\n"
     ]
    }
   ],
   "source": [
    "constraints = [\n",
    "    x + y == 10,\n",
    "    x > 0,\n",
    "    y > 0\n",
    "]\n",
    "solver.add(*constraints)\n",
    "print(solver)"
   ]
  },
  {
   "cell_type": "markdown",
   "id": "d4aed78a-2498-4f09-b69b-219c457547c6",
   "metadata": {},
   "source": [
    "4. **制約を満たす解があるか確認する**\n",
    "\n",
    "`solver.check()` を使って、制約を満たす解が存在するかどうかをチェックします。以下の三種類の結果が得られる可能性があります。\n",
    "\n",
    "- `sat`: 解が存在する  \n",
    "- `unsat`: 解が存在しない  \n",
    "- `unknown`: 計算不能（時間制限や不完全な理論）  "
   ]
  },
  {
   "cell_type": "code",
   "execution_count": 15,
   "id": "d9b39e23-f7ac-481d-9630-f336c877eeaf",
   "metadata": {},
   "outputs": [
    {
     "name": "stdout",
     "output_type": "stream",
     "text": [
      "解あり\n"
     ]
    }
   ],
   "source": [
    "if solver.check() == sat:\n",
    "    print(\"解あり\")\n",
    "else:\n",
    "    print(\"解なし\")"
   ]
  },
  {
   "cell_type": "markdown",
   "id": "3db5804f-5e4c-49e9-b30a-56f6b1e8442b",
   "metadata": {},
   "source": [
    "5. **モデルを取得して解を表示**\n",
    "\n",
    "制約を満たす具体的な解を取得するには、`solver.model()` を使用します。これにより、`ModelRef` 型のオブジェクトが得られます。"
   ]
  },
  {
   "cell_type": "code",
   "execution_count": 16,
   "id": "5e3e90ae-73f3-44ea-b08e-5d6d25e87185",
   "metadata": {},
   "outputs": [
    {
     "name": "stdout",
     "output_type": "stream",
     "text": [
      "x = 9\n",
      "y = 1\n"
     ]
    }
   ],
   "source": [
    "if solver.check() == sat:\n",
    "    model = solver.model()\n",
    "    print(\"x =\", model[x])\n",
    "    print(\"y =\", model[y])\n",
    "else:\n",
    "    print(\"解なし\")"
   ]
  },
  {
   "cell_type": "markdown",
   "id": "a7f21a82-740d-411e-ae64-67fc0bc0653f",
   "metadata": {},
   "source": [
    "`model[x]`のデータ型はZ3の`IntNumRef`で、直接整数として扱うことができません。"
   ]
  },
  {
   "cell_type": "code",
   "execution_count": 18,
   "id": "873e4fe1-a5c2-4a74-83a8-cf8c2f6ff86e",
   "metadata": {},
   "outputs": [
    {
     "name": "stdout",
     "output_type": "stream",
     "text": [
      "<class 'z3.z3.ModelRef'> <class 'z3.z3.IntNumRef'>\n"
     ]
    }
   ],
   "source": [
    "print(type(model), type(model[x]))"
   ]
  },
  {
   "cell_type": "markdown",
   "id": "c8697c35-465b-4bca-b606-fbe5fe99d705",
   "metadata": {},
   "source": [
    "`as_long()`メソッドでPythonの整数型に変換します。"
   ]
  },
  {
   "cell_type": "code",
   "execution_count": 23,
   "id": "15cb5b11-178b-4a9f-b4d7-377c34411023",
   "metadata": {},
   "outputs": [
    {
     "data": {
      "text/plain": [
       "9"
      ]
     },
     "execution_count": 23,
     "metadata": {},
     "output_type": "execute_result"
    }
   ],
   "source": [
    "model[x].as_long()"
   ]
  },
  {
   "cell_type": "markdown",
   "id": "c5ab7fe5-f873-4965-a967-71e5879e9189",
   "metadata": {},
   "source": [
    "(z3-send-more-money)=\n",
    "## 「SEND + MORE = MONEY」を解く"
   ]
  },
  {
   "cell_type": "markdown",
   "id": "a3782eb2-85b7-4f10-9379-17b86c104a36",
   "metadata": {},
   "source": [
    "[OrToolsでSEND+MORE=MONEYを解く](ortools-send-more-money)\n",
    "\n",
    "この問題は「文字を数字に置き換えるパズル」（Cryptarithm）の一種です。  \n",
    "\n",
    "> それぞれのアルファベット（S, E, N, D, M, O, R, Y）は0〜9の異なる数字を表し、次の計算が成り立つように求めます。  \n",
    "> \n",
    "> $$SEND + MORE = MONEY$$\n",
    "\n",
    "例えば、もし  \n",
    "- S = 9, E = 5, N = 6, D = 7  \n",
    "- M = 1, O = 0, R = 8, Y = 2  \n",
    "\n",
    "だった場合、次のような計算になります。  \n",
    "\n",
    "$$\n",
    "9567 + 1085 = 10652\n",
    "$$\n",
    "\n",
    "Z3で解く流れは以下のようになります。\n",
    "\n",
    "1. **変数を作成**  \n",
    "   - 各文字（S, E, N, D, M, O, R, Y）を整数変数として定義  \n",
    "   - 0〜9の範囲で、すべて異なる値を取る制約を追加  \n",
    "\n",
    "2. **制約を追加**  \n",
    "   - $ SEND = 1000S + 100E + 10N + D $\n",
    "   - $ MORE = 1000M + 100O + 10R + E $  \n",
    "   - $ MONEY = 10000M + 1000O + 100N + 10E + Y $  \n",
    "   - それらが $ SEND + MORE = MONEY $ を満たすようにする  \n",
    "   - S と M は 0 ではない（最上位の桁に 0 は入らない）  \n",
    "\n",
    "3. **Z3で解を求める**  \n",
    "   - `solver.check()` で解が存在するか確認  \n",
    "   - `solver.model()` で解を取得  "
   ]
  },
  {
   "cell_type": "code",
   "execution_count": 56,
   "id": "98b7747e-1f3d-4ec6-bced-cf1d4414adde",
   "metadata": {},
   "outputs": [
    {
     "name": "stdout",
     "output_type": "stream",
     "text": [
      "解: {'R': 8, 'E': 5, 'Y': 2, 'M': 1, 'S': 9, 'N': 6, 'O': 0, 'D': 7}\n",
      "9567 + 1085 = 10652\n"
     ]
    }
   ],
   "source": [
    "# 変数定義\n",
    "S, E, N, D, M, O, R, Y = Ints(\"S E N D M O R Y\")\n",
    "\n",
    "# Solver 作成\n",
    "solver = Solver()\n",
    "\n",
    "# 各変数は 0 〜 9 の整数\n",
    "vars = [S, E, N, D, M, O, R, Y]\n",
    "solver.add([And(v >= 0, v <= 9) for v in vars])\n",
    "\n",
    "# すべての変数は異なる\n",
    "solver.add(Distinct(vars))\n",
    "\n",
    "# 4桁の数字を式に変換\n",
    "SEND = 1000*S + 100*E + 10*N + D\n",
    "MORE = 1000*M + 100*O + 10*R + E\n",
    "MONEY = 10000*M + 1000*O + 100*N + 10*E + Y\n",
    "\n",
    "# 制約条件追加\n",
    "solver.add(SEND + MORE == MONEY)\n",
    "\n",
    "# S と M は 0 ではない（最上位の桁なので）\n",
    "solver.add(S > 0, M > 0)\n",
    "\n",
    "# 解を求める\n",
    "if solver.check() == sat:\n",
    "    model = solver.model()\n",
    "    solution = {str(v): model[v].as_long() for v in model}\n",
    "    print(\"解:\", solution)\n",
    "    print(f\"{model.eval(SEND)} + {model.eval(MORE)} = {model.eval(MONEY)}\")\n",
    "else:\n",
    "    print(\"解なし\")"
   ]
  },
  {
   "cell_type": "markdown",
   "id": "60f8f5af-fd7d-41e8-a315-a484a9d6e363",
   "metadata": {},
   "source": [
    "`ModelRef` オブジェクトから解を取得するとき、変数の場合は `[]` を使って値を取得できます。変数や演算式の場合は `eval()` メソッドを使用して値を取得できます。\n",
    "\n",
    "上のコードでは次の二つ演算子を使っています。\n",
    "\n",
    "* `And` は複数の条件をすべて満たす必要がある場合に使用します。  これは論理的なAND演算を表します。\n",
    "* `Distinct` は、与えられた変数がすべて異なる値を取るようにするために使います。\n",
    "\n",
    "| 演算子 | 役割 | 例 |\n",
    "|--------|------|----|\n",
    "| `And` | すべての条件を満たす | `And(x > 0, y > 0)` |\n",
    "| `Distinct` | すべての変数が異なる値を取る | `Distinct(a, b, c)` |"
   ]
  },
  {
   "cell_type": "markdown",
   "id": "f7b8b4c7-95a3-4efc-baa6-353911650523",
   "metadata": {},
   "source": [
    "`ModelRef` オブジェクトのインデックス操作：  \n",
    "\n",
    "* インデックスが整数の場合: `FuncDeclRef` 型の変数を取得します。  \n",
    "* インデックスが `FuncDeclRef` 型の場合: 値を表す `IntNumRef` 型のオブジェクトを取得します。"
   ]
  },
  {
   "cell_type": "code",
   "execution_count": 48,
   "id": "48db6f31-ecc4-481a-acbc-b4947f527b3a",
   "metadata": {},
   "outputs": [
    {
     "name": "stdout",
     "output_type": "stream",
     "text": [
      "<class 'z3.z3.FuncDeclRef'> R\n",
      "<class 'z3.z3.IntNumRef'> 8\n"
     ]
    }
   ],
   "source": [
    "v = model[0]\n",
    "n = model[v]\n",
    "print(type(v), v)\n",
    "print(type(n), n)"
   ]
  },
  {
   "cell_type": "markdown",
   "id": "8ef6601b-9035-4aa0-afcd-02bd27c71095",
   "metadata": {},
   "source": [
    "この性質を利用すると、`ModelRef` オブジェクトだけで、すべての変数の値を取得できます。"
   ]
  },
  {
   "cell_type": "code",
   "execution_count": 59,
   "id": "038ee9fd-21ed-461e-97d5-72805ca71855",
   "metadata": {},
   "outputs": [
    {
     "data": {
      "text/plain": [
       "{'R': 8, 'E': 5, 'Y': 2, 'M': 1, 'S': 9, 'N': 6, 'O': 0, 'D': 7}"
      ]
     },
     "execution_count": 59,
     "metadata": {},
     "output_type": "execute_result"
    }
   ],
   "source": [
    "{str(v): model[v] for v in model}"
   ]
  },
  {
   "cell_type": "markdown",
   "id": "d213ba84-60a9-487c-ab7b-e0aaf2ffa84f",
   "metadata": {},
   "source": [
    "値を Python のデータ型に変換する場合は、`as_long()` などのメソッドを使用します。"
   ]
  },
  {
   "cell_type": "code",
   "execution_count": 60,
   "id": "de8bb07c-7c61-4f90-b5c5-9e78db732e53",
   "metadata": {},
   "outputs": [
    {
     "data": {
      "text/plain": [
       "{'R': 8, 'E': 5, 'Y': 2, 'M': 1, 'S': 9, 'N': 6, 'O': 0, 'D': 7}"
      ]
     },
     "execution_count": 60,
     "metadata": {},
     "output_type": "execute_result"
    }
   ],
   "source": [
    "{str(v): model[v].as_long() for v in model}"
   ]
  },
  {
   "cell_type": "markdown",
   "id": "47351838-a8b1-4a17-a967-e147724906dd",
   "metadata": {},
   "source": [
    "`FuncDeclRef` 型のオブジェクトを実行すると、`Int()` で作成された `ArithRef` 型のオブジェクトを取得します。"
   ]
  },
  {
   "cell_type": "code",
   "execution_count": 52,
   "id": "71b19c0f-3adb-443e-a108-7d2087b2f314",
   "metadata": {},
   "outputs": [
    {
     "name": "stdout",
     "output_type": "stream",
     "text": [
      "<class 'z3.z3.ArithRef'> R\n"
     ]
    }
   ],
   "source": [
    "print(type(v()), v())"
   ]
  },
  {
   "cell_type": "markdown",
   "id": "900ef900-7bab-40ca-9db9-4db75341ead5",
   "metadata": {},
   "source": [
    "## 全ての解を取得"
   ]
  },
  {
   "cell_type": "markdown",
   "id": "03634317-384a-4b03-b95a-cf4e03a9ac43",
   "metadata": {},
   "source": [
    "全ての解を取得するには、現在得られた解を除外する制約を追加し、`check()` を繰り返す方法を用います。以下に、すべての解を列挙する手順を示します。  \n",
    "\n",
    "1. `solver.check()` を実行し、解があるかを確認します。解があればステップ 2 へ、なければ終了します。  \n",
    "2. `solver.model()` で解を取得します。  \n",
    "3. 取得した解を除外する制約を追加し、ステップ 1 に戻ります。"
   ]
  },
  {
   "cell_type": "code",
   "execution_count": 55,
   "id": "910b3b2e-7583-4caa-8482-389e5b8c6d41",
   "metadata": {},
   "outputs": [
    {
     "name": "stdout",
     "output_type": "stream",
     "text": [
      "[a = 1, c = 3, b = 2]\n",
      "[c = 2, b = 1, a = 3]\n",
      "[c = 1, b = 2, a = 3]\n",
      "[c = 3, b = 1, a = 2]\n",
      "[c = 1, b = 3, a = 2]\n",
      "[c = 2, b = 3, a = 1]\n"
     ]
    }
   ],
   "source": [
    "xs = Ints('a b c')\n",
    "solver = Solver()\n",
    "for v in xs:\n",
    "  solver.add(1 <= v, v <= 3)\n",
    "solver.add(Distinct(xs))\n",
    "\n",
    "while solver.check() == sat:\n",
    "    model = solver.model()\n",
    "    print(model)\n",
    "    solver.add(Not(And([v() == model[v] for v in model]))) #modelの解を除外する"
   ]
  },
  {
   "cell_type": "markdown",
   "id": "2076710c-308b-4d70-a461-b0e12590e3c5",
   "metadata": {},
   "source": [
    "`Not(And(cond1, cond2, ...))` は `Or(Not(cond1), Not(cond2), ...)` に変換できるため、次のコードでも同じ動作を実現できます。  \n",
    "\n",
    "```python\n",
    "solver.add(Or([v() != model[v] for v in model]))\n",
    "```"
   ]
  }
 ],
 "metadata": {
  "kernelspec": {
   "display_name": "Python 3 (ipykernel)",
   "language": "python",
   "name": "python3"
  },
  "language_info": {
   "codemirror_mode": {
    "name": "ipython",
    "version": 3
   },
   "file_extension": ".py",
   "mimetype": "text/x-python",
   "name": "python",
   "nbconvert_exporter": "python",
   "pygments_lexer": "ipython3",
   "version": "3.12.2"
  }
 },
 "nbformat": 4,
 "nbformat_minor": 5
}
