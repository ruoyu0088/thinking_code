{
 "cells": [
  {
   "cell_type": "markdown",
   "id": "af5fcba6-af29-44dd-9c38-43a087a90cb1",
   "metadata": {},
   "source": [
    "(ortools-nonogram)=\n",
    "# ノノグラムゲーム"
   ]
  },
  {
   "cell_type": "markdown",
   "id": "5f16def1-5588-49b2-9409-b6dc0a893bb4",
   "metadata": {},
   "source": [
    "[前章](pysat-nonogram)では、`pysat` を使用したノノグラムの解き方について説明しました。本章では、CP-SAT を用いた解法を紹介します。CP-SAT では整数変数を扱うことができ、制約条件をより簡単に表現できます。"
   ]
  },
  {
   "cell_type": "code",
   "execution_count": 4,
   "id": "1465289b-4b3d-4698-9a2e-9601a4aec1f8",
   "metadata": {},
   "outputs": [],
   "source": [
    "from ortools.sat.python import cp_model\n",
    "from helper.ortools import get_all_solutions"
   ]
  },
  {
   "cell_type": "markdown",
   "id": "48952578-53ef-4b1e-900c-a710c4ac2837",
   "metadata": {},
   "source": [
    "## 開始インデックスの制約条件\n",
    "\n",
    "まず、一組の数字を考えます。それぞれの数字に対応する開始インデックスを算出できれば、マスを塗りつぶすことができます。次の `place_numbers()` 関数では、各数字に対応するインデックスの制約条件を追加します。\n",
    "\n",
    "- `locations` は各数字の開始位置を表す変数のリストです。\n",
    "- 制約 `model.add(n2 > n1 + c)` により、各数字ブロックが適切に配置されることを保証します（`c` は前の数字の長さ）。\n",
    "- 最後の制約 `model.add(locations[-1] <= width - numbers[-1])` は、最後のブロックが範囲を超えないようにします。"
   ]
  },
  {
   "cell_type": "code",
   "execution_count": 19,
   "id": "76b01a75-e97c-42d2-be3d-eb3b12d0935f",
   "metadata": {},
   "outputs": [],
   "source": [
    "import string\n",
    "\n",
    "def place_numbers(model, numbers, width, prefix=\"\"):\n",
    "    locations = [model.new_int_var(0, width - 1, f\"{prefix}{name}\") for _, name in zip(numbers, string.ascii_uppercase)]\n",
    "    for n1, n2, c in zip(locations[:-1], locations[1:], numbers):\n",
    "        model.add(n2 > n1 + c)\n",
    "    model.add(locations[-1] <= width - numbers[-1])        \n",
    "    return locations\n",
    "    \n",
    "def show_all_locations(numbers, width):\n",
    "    model = cp_model.CpModel()\n",
    "    locations = place_numbers(model, numbers, width)\n",
    "    return get_all_solutions(model)"
   ]
  },
  {
   "cell_type": "markdown",
   "id": "9ab20d1a-47e0-4b56-b427-c872fe4dcfb8",
   "metadata": {},
   "source": [
    "次に、5マスのグリッドに対して、数字2と1でマスを塗りつぶす場合のすべての解を求めます。"
   ]
  },
  {
   "cell_type": "code",
   "execution_count": 34,
   "id": "a37d1189-198a-4290-94d3-1bd7da83eedf",
   "metadata": {},
   "outputs": [
    {
     "data": {
      "text/plain": [
       "[{'A': 0, 'B': 3}, {'A': 0, 'B': 4}, {'A': 1, 'B': 4}]"
      ]
     },
     "execution_count": 34,
     "metadata": {},
     "output_type": "execute_result"
    }
   ],
   "source": [
    "show_all_locations([2, 1], 5)"
   ]
  },
  {
   "cell_type": "markdown",
   "id": "68e16b92-12ae-42b6-a055-0b4e0d2836db",
   "metadata": {},
   "source": [
    "次に、10マスのグリッドに対して、数字3、2、2でマスを塗りつぶす場合のすべての解を求めます。"
   ]
  },
  {
   "cell_type": "code",
   "execution_count": 35,
   "id": "e42f8175-5722-4764-80b0-d53e032ae724",
   "metadata": {},
   "outputs": [
    {
     "data": {
      "text/plain": [
       "[{'A': 0, 'B': 4, 'C': 7},\n",
       " {'A': 0, 'B': 4, 'C': 8},\n",
       " {'A': 0, 'B': 5, 'C': 8},\n",
       " {'A': 1, 'B': 5, 'C': 8}]"
      ]
     },
     "execution_count": 35,
     "metadata": {},
     "output_type": "execute_result"
    }
   ],
   "source": [
    "show_all_locations([3, 2, 2], 10)"
   ]
  },
  {
   "attachments": {},
   "cell_type": "markdown",
   "id": "011e0d01-df8e-45bf-a19a-6c62d7605d16",
   "metadata": {},
   "source": [
    "## マスの充填\n",
    "\n",
    "次のグラフのように、開始インデックスと長さを基にして、一行のパターンを作成します。グラフでは、一つ目の数字の開始位置が 0 で長さが 2、二つ目の数字の開始位置が 3 で長さが 1 の場合を示しています。最終的なパターン `Targets` を算出するために、各数字ごとに `A Fill` および `B Fill` のパターンを作成し、それらをマスごとに論理和（OR演算）を取ることで `Targets` を求めます。"
   ]
  },
  {
   "cell_type": "markdown",
   "id": "d8b14f0f-8c9a-4954-a06c-c8f6c3825351",
   "metadata": {},
   "source": [
    "```mermaid\n",
    "graph LR\n",
    "subgraph C_fill[\"Targets\"]\n",
    "direction LR\n",
    "c0[1]\n",
    "c1[1]\n",
    "c2[0]\n",
    "c3[1]\n",
    "c4[0]\n",
    "\n",
    "c0 ~~~ c1\n",
    "c1 ~~~ c2\n",
    "c2 ~~~ c3\n",
    "c3 ~~~ c4\n",
    "end\n",
    "\n",
    "subgraph A_fill[\"A Fill\"]\n",
    "direction LR\n",
    "a0[1]\n",
    "a1[1]\n",
    "a2[0]\n",
    "a3[0]\n",
    "a4[0]\n",
    "a0 ~~~ a1\n",
    "a1 ~~~ a2\n",
    "a2 ~~~ a3\n",
    "a3 ~~~ a4\n",
    "end\n",
    "\n",
    "subgraph B_fill[\"B Fill\"]\n",
    "direction LR\n",
    "b0[0]\n",
    "b1[0]\n",
    "b2[0]\n",
    "b3[1]\n",
    "b4[0]\n",
    "b0 ~~~ b1\n",
    "b1 ~~~ b2\n",
    "b2 ~~~ b3\n",
    "b3 ~~~ b4\n",
    "end\n",
    "\n",
    "A[\"A=0 (n=2)\"]\n",
    "B[\"B=3 (n=1)\"]\n",
    "A --> A_fill\n",
    "B --> B_fill\n",
    "A_fill --> C_fill\n",
    "B_fill --> C_fill\n",
    "```"
   ]
  },
  {
   "cell_type": "markdown",
   "id": "1a1ac3c5-fddd-4a1a-a703-e49b638adad7",
   "metadata": {},
   "source": [
    "次の `fill_pattern()` 関数は、`numbers` の各数字を使用して、ブール変数のリスト `targets` を塗りつぶします。このロジックを Python コードで表すと、以下のようになります。\n",
    "\n",
    "```python\n",
    "if A == 0:\n",
    "   A_fill = [1, 1, 0, 0, 0]\n",
    "elif A == 1:\n",
    "   A_fill = [0, 1, 1, 0, 0]\n",
    "...\n",
    "```\n",
    "\n",
    "しかし、CP-SAT では比較式を直接制約条件の前提条件として使用できません。そのため、別のブール変数 `b` を作成し、次のような制約を追加して `b` と `n == i` が一致するようにします。\n",
    "\n",
    "```python\n",
    "model.add(n == i).only_enforce_if(b)\n",
    "model.add(n != i).only_enforce_if(~b)\n",
    "```\n",
    "\n",
    "最後に、`targets[i]` の状態に応じて `fills` 内のブール変数を制約します。  \n",
    "- `targets[i]` が `True` の場合、同じインデックスに対応する `fills` のブール変数のうち、少なくとも一つが `True` である必要があります。  \n",
    "- `targets[i]` が `False` の場合、対応する `fills` のブール変数はすべて `False` でなければなりません。  \n",
    "\n",
    "この論理は、以下のように CP-SAT の制約として表現できます。\n",
    "\n",
    "```python\n",
    "model.add_bool_or(bools).only_enforce_if(t)\n",
    "model.add_bool_and([~v for v in bools]).only_enforce_if(~t)\n",
    "```"
   ]
  },
  {
   "cell_type": "code",
   "execution_count": 26,
   "id": "1ee80692-2c52-4bbe-a755-16e98178eeda",
   "metadata": {},
   "outputs": [],
   "source": [
    "def fill_pattern(model, numbers, targets, prefix=\"\"):\n",
    "    width = len(targets)\n",
    "    count = len(numbers)\n",
    "    locations = place_numbers(model, numbers, width, prefix)\n",
    "    \n",
    "    fills = {}\n",
    "    for i in range(width):\n",
    "        for j in range(count):\n",
    "            fills[i, j] = model.new_bool_var(f'{locations[j].name}_{i}')\n",
    "    \n",
    "    for j, n in enumerate(locations):\n",
    "        for i in range(width - numbers[j] + 1):\n",
    "            # b is equal to locations[j] == i\n",
    "            b = model.new_bool_var(f'{n.name}_{i}')\n",
    "            model.add(n == i).only_enforce_if(b)\n",
    "            model.add(n != i).only_enforce_if(~b)\n",
    "\n",
    "            # fill fills by b\n",
    "            tmp = [fills[x, j] if i <= x < i + numbers[j] else ~fills[x, j] for x in range(width)]\n",
    "            model.add_bool_and(tmp).only_enforce_if(b)\n",
    "\n",
    "    for i, t in enumerate(targets):\n",
    "        bools = [fills[i, j] for j in range(count)]\n",
    "        # if target is True then fills[i, *] must have one True\n",
    "        model.add_bool_or(bools).only_enforce_if(t)\n",
    "        # if target is False then all fills[i, *] must be False\n",
    "        model.add_bool_and([~v for v in bools]).only_enforce_if(~t)    \n",
    "\n",
    "def show_all_fills(numbers, width):\n",
    "    model = cp_model.CpModel()\n",
    "    targets = [model.new_bool_var(f\"{i}\") for i in range(width)] \n",
    "    fill_pattern(model, numbers, targets)\n",
    "    for sol in get_all_solutions(model):\n",
    "        print([sol[t.name] for t in targets])"
   ]
  },
  {
   "cell_type": "markdown",
   "id": "c4ae02a6-c9f3-496b-a4f8-1390e6f82d4e",
   "metadata": {},
   "source": [
    "次は`fill_pattern()`をテストします。"
   ]
  },
  {
   "cell_type": "code",
   "execution_count": 36,
   "id": "46c73062-fba2-48fa-8188-c5f4e4c62cfd",
   "metadata": {},
   "outputs": [
    {
     "name": "stdout",
     "output_type": "stream",
     "text": [
      "[1, 1, 0, 0, 1]\n",
      "[1, 1, 0, 1, 0]\n",
      "[0, 1, 1, 0, 1]\n"
     ]
    }
   ],
   "source": [
    "show_all_fills([2, 1], 5)"
   ]
  },
  {
   "cell_type": "code",
   "execution_count": 37,
   "id": "0ce9b50f-0729-42cd-9df7-43ca417f7bfd",
   "metadata": {},
   "outputs": [
    {
     "name": "stdout",
     "output_type": "stream",
     "text": [
      "[1, 1, 1, 0, 1, 1, 0, 0, 1, 1]\n",
      "[1, 1, 1, 0, 0, 1, 1, 0, 1, 1]\n",
      "[1, 1, 1, 0, 1, 1, 0, 1, 1, 0]\n",
      "[0, 1, 1, 1, 0, 1, 1, 0, 1, 1]\n"
     ]
    }
   ],
   "source": [
    "show_all_fills([3, 2, 2], 10)"
   ]
  },
  {
   "attachments": {},
   "cell_type": "markdown",
   "id": "02e3721d-8244-436b-9c96-70e35a49a1a3",
   "metadata": {},
   "source": [
    "## ノノグラムを解く\n",
    "\n",
    "次のコードでは、グリッドの各マスに対応するブール変数を作成し、行と列の数字に基づいて `fill_pattern()` を適用することで、それぞれのマスを埋めます。これにより、ノノグラムを解くことができます。"
   ]
  },
  {
   "cell_type": "code",
   "execution_count": 29,
   "id": "818bdad2-f1b5-4755-875c-b89e30d683b2",
   "metadata": {},
   "outputs": [],
   "source": [
    "def solve_nonogram(rows, cols):\n",
    "    model = cp_model.CpModel()\n",
    "    width = len(cols)\n",
    "    height = len(rows)\n",
    "    cells = [[model.new_bool_var(f\"T_{r}_{c}\") for c in range(width)] for r in range(height)]\n",
    "    for r, numbers in enumerate(rows):\n",
    "        line = cells[r]\n",
    "        fill_pattern(model, numbers, line, f\"R{r}\")\n",
    "            \n",
    "    for c, numbers in enumerate(cols):\n",
    "        line = [cells[i][c] for i in range(height)]\n",
    "        fill_pattern(model, numbers, line, f\"C{c}\")        \n",
    "    \n",
    "    solver = cp_model.CpSolver()\n",
    "    solver.solve(model)\n",
    "    return [[solver.value(c) for c in row] for row in cells]\n",
    "\n",
    "def print_nonogram(result):\n",
    "    print(\"\\n\".join([\" \".join([\" #\"[c] for c in row]) for row in result]))"
   ]
  },
  {
   "cell_type": "markdown",
   "id": "d0258f27-67e8-4a8e-88c8-5a94bf22e70e",
   "metadata": {},
   "source": [
    "次は、最も難しいパズルに挑戦してみましょう。"
   ]
  },
  {
   "cell_type": "code",
   "execution_count": 33,
   "id": "f011327a-b9a4-49c4-b38c-7bba35d79c0c",
   "metadata": {},
   "outputs": [
    {
     "name": "stdout",
     "output_type": "stream",
     "text": [
      "CPU times: total: 24.9 s\n",
      "Wall time: 25.8 s\n"
     ]
    }
   ],
   "source": [
    "%%time\n",
    "import json\n",
    "with open(r\"data\\nonogram03.json\") as f:\n",
    "    data = json.load(f)\n",
    "\n",
    "result = solve_nonogram(**data)"
   ]
  },
  {
   "cell_type": "code",
   "execution_count": 32,
   "id": "3d1ce2db-75cd-40e5-96f4-742556a545cd",
   "metadata": {},
   "outputs": [
    {
     "name": "stdout",
     "output_type": "stream",
     "text": [
      "# # # # # # # # # # # # # # #   # #   # # # # # #   #   # # # # # # # # # # # # # #   # #\n",
      "# # # # # # # # # # # # # #   # # #   # # # # # #   # #   # # # # # # # # # # # #   # # #\n",
      "# # # # # # # # # # # # # #   # # #   # # # # # #   # #   # # # # # # # # # # #   # # #  \n",
      "# #                           # #                   # # #                       # # # #  \n",
      "# #                         # # #                   # # #                     # # # #   #\n",
      "# #                         # # #                   # # #                     # # # #   #\n",
      "# #                         # #                     # # #                     # # #   # #\n",
      "# #                         # #                     # # #                     # # #   # #\n",
      "# #                       # # #     # # # #         # # #                   # # #     # #\n",
      "# #                       # #     # # # # # #       # # #                 # # # #     # #\n",
      "# #                     # # #     # # # # # #     # # #                 # # # #       # #\n",
      "# #                     # # #   # # # # # # #   # # # #               # # # #         # #\n",
      "# #                     # # #   # # # # # # # # # # #         # # # # # # #           # #\n",
      "# #                     # # #   # # # # # # # # # # #         # # # # # # #           # #\n",
      "# #                     # # # # # # # #   # # # # #         # # #     # #             # #\n",
      "# #                       # # # # # #   # # # # #           # #       #               # #\n",
      "# #                       # #   # # # # # # # #             # # # # # # #             # #\n",
      "# #                       #     # # # # # # # #         # #   #   # # # #             # #\n",
      "# #                     # #   # # # # # # # #       # # # # #   # #     #             # #\n",
      "# #                     #   # # # # # # # #       # # # # # #   # # # #   #           # #\n",
      "# #                     # # # # # # # # #         # # # # # # # # # #   # #           # #\n",
      "# #                     # # # # # # # #         # # # # # # # #   #   # # #           # #\n",
      "# #                       # # # # # # #       # # # # # # # #     #   # # #           # #\n",
      "# #                         # # # # # # # # #     # # # # # #   #   #   # #           # #\n",
      "# #                           # # # # # # # # # # # # # # #     # # #   # #           # #\n",
      "# #                           # # # # # # # # #   # # # # #   # # #     #             # #\n",
      "# #                             # # # # # # # #   # # # # # # # # #   # #             # #\n",
      "# #                               # # # # # #     # # # # #   # # # # # #             # #\n",
      "# #                               # # # # # #   # # # # # #   # #   # # #             # #\n",
      "# #                               # #       # # # # # # #   # #     # # #             # #\n",
      "# #                           # #   #   # # # # # # #     # # # #   # #               # #\n",
      "# #                         # # # # # # # # # # #   # # # # # #   # #                 # #\n",
      "# #                       # # # # # # # # # # #     # # #   # #   # #                 # #\n",
      "# #                     # # # # # # # # # # #     # #       # #   # #                 # #\n",
      "# #                     # # # # # # # # # # #   # #     #   #   # #                   # #\n",
      "# #                   # # # # # # # # # # #     #     # # #     #                     # #\n",
      "# #                   # # # # #           # # #   # # # #     # #                     # #\n",
      "# #                     # #       # # # # # #   #       # # # # #                     # #\n",
      "# #                 # # #     # # # # #   #   # # # #     # # #                       # #\n",
      "# #               # # # # # # # #   # #       # # # #     #                           # #\n",
      "# #               #   # # # #         #     # # # # # # #                             # #\n",
      "# #               #   #   # # #   # # # # # # # #                                     # #\n",
      "# #               #       # #   # # # # # #                                           # #\n",
      "# #                 # # # # # # # # #                                                 # #\n",
      "# #                     # # # # #                                                     # #\n",
      "# #                   # # # # #                                                       # #\n",
      "# #                 # # # # #                                                         # #\n",
      "# #               # # # # #                                                           # #\n",
      "# #             # # # # #                                                             # #\n",
      "# #           # # # # #                                                               # #\n",
      "# #         # # # #                                                                   # #\n",
      "# #       # # # # #                                                                   # #\n",
      "# #     # # # # # #                                                                   # #\n",
      "# #   # # # # # #                                                                     # #\n",
      "# # # # # #                                                                           # #\n",
      "#   # #                                                                               # #\n",
      "# #                                                                                   # #\n",
      "# #                                                                                   # #\n",
      "# # # # # # # # # # # # # # # # # # # # # # # # # # # # # # # # # # # # # # # # # # # # #\n",
      "# # # # # # # # # # # # # # # # # # # # # # # # # # # # # # # # # # # # # # # # # # # # #\n"
     ]
    }
   ],
   "source": [
    "print_nonogram(result)"
   ]
  }
 ],
 "metadata": {
  "kernelspec": {
   "display_name": "Python 3 (ipykernel)",
   "language": "python",
   "name": "python3"
  },
  "language_info": {
   "codemirror_mode": {
    "name": "ipython",
    "version": 3
   },
   "file_extension": ".py",
   "mimetype": "text/x-python",
   "name": "python",
   "nbconvert_exporter": "python",
   "pygments_lexer": "ipython3",
   "version": "3.12.2"
  }
 },
 "nbformat": 4,
 "nbformat_minor": 5
}
