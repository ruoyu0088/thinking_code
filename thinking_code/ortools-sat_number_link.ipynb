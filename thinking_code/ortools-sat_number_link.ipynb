{
 "cells": [
  {
   "cell_type": "markdown",
   "id": "2bcda681-3ef9-48f6-a351-29e0ced1167c",
   "metadata": {},
   "source": [
    "(ortools-number-link)=\n",
    "# ナンバーリンクパズル\n",
    "\n",
    "[前章](z3-number-link)では、Z3を使用してナンバーリンクパズルを解きました。Z3には回路を作成するための専用の制約条件がないため、開発者は自分で類似の制約条件を作成する必要があります。一方、本章では、CP-SATの `add_circuit()` を利用し、回路の制約条件を簡単に設定することで、ナンバーリンクパズルを解く方法を紹介します。  "
   ]
  },
  {
   "cell_type": "code",
   "execution_count": 11,
   "id": "5c2b0df3-62de-4eac-b0f1-9fe4f25cd25b",
   "metadata": {},
   "outputs": [],
   "source": [
    "import numpy as np\n",
    "from ortools.sat.python import cp_model\n",
    "from helper.ortools import get_circuit"
   ]
  },
  {
   "cell_type": "code",
   "execution_count": 12,
   "id": "7b15e36a-d71a-4561-86cb-63bd14cc74c5",
   "metadata": {},
   "outputs": [],
   "source": [
    "def load_puzzle(filename):\n",
    "    with open(filename) as f:\n",
    "        puzzle = f.read()\n",
    "        board = np.array([[int(x, 16) for x in row] for row in puzzle.strip().split()], np.uint8)\n",
    "        return board"
   ]
  },
  {
   "cell_type": "markdown",
   "id": "ab44f433-f6d6-4d05-a789-fd53f9341544",
   "metadata": {},
   "source": [
    "それでは、次のパズルを解いてみましょう。"
   ]
  },
  {
   "cell_type": "code",
   "execution_count": 13,
   "id": "8c1a5f6e-4840-4e6c-b5dc-13e43542aab0",
   "metadata": {},
   "outputs": [
    {
     "name": "stdout",
     "output_type": "stream",
     "text": [
      "[[1 0 0 0 0 0 0 0 0 0]\n",
      " [0 0 0 0 0 0 0 0 5 0]\n",
      " [0 6 0 1 0 0 0 0 0 0]\n",
      " [0 0 0 0 0 4 3 0 0 0]\n",
      " [0 0 0 0 0 0 6 0 5 0]\n",
      " [0 8 0 3 0 0 0 0 0 0]\n",
      " [0 0 0 4 7 0 0 0 0 0]\n",
      " [0 0 0 0 0 0 2 0 8 0]\n",
      " [0 7 0 0 0 0 0 0 0 0]\n",
      " [0 0 0 0 0 0 0 0 0 2]]\n"
     ]
    }
   ],
   "source": [
    "board = load_puzzle('data/numberlink01.txt')\n",
    "print(board)"
   ]
  },
  {
   "attachments": {},
   "cell_type": "markdown",
   "id": "a9ed3606-be01-4d4b-a617-bf7b313036e7",
   "metadata": {},
   "source": [
    "## 解き方\n",
    "\n",
    "ナンバーリンクパズルを`add_circuit()`を用いて解く方法を説明します。このパズルでは、同じ数字のペアをつなぐルートを見つける必要がありますが、全てのマスを通る必要はありません。そこで、次のような方法を採用します。\n",
    "\n",
    "1. **数字のペアごとに1つの回路を対応させる**  \n",
    "   - すべての頂点（マス）を通る必要がないため、 **自己ループ** `(頂点番号, 頂点番号, 頂点変数)` を追加します。これにより、特定の頂点がルートから除外されることを許可できます。  \n",
    "   - 数字のペアに対応する頂点番号を`n1`と`n2`とした場合、これらを必ず結ぶための辺`(n2, n1, True)`を追加します。\n",
    "\n",
    "2. **各頂点は1つの回路にのみ属する制約を追加する**  \n",
    "   - 各マスには複数の数字のペアが通る可能性があるため、それぞれのペアに対して異なる回路を割り当てます。  \n",
    "   - しかし、1つのマスは1つの回路にしか属せないため、自己ループの変数が `True` の場合、そのマスはその数字の回路に含まれません。そのため、自己ループの変数のうち **1つだけを `False` にする制約** を追加します。これにより、あるマスが **1つの回路にのみ割り当てられ、それ以外の回路には含まれない** ことを保証します。"
   ]
  },
  {
   "cell_type": "markdown",
   "id": "cb3cc58a-2f31-46a8-b808-489d054637a1",
   "metadata": {},
   "source": [
    "次の`create_nodes_edges(board)`は盤面 (board) を受け取り、盤面上の各マスに対応するインデックス情報 (nodes) と、それぞれのマスを隣接するマスと結ぶ辺 (edges) を作成します。次の二つデータを返します。\n",
    "\n",
    "- `nodes`：各マスのインデックスを持つ2次元配列  \n",
    "- `edges`：隣接するマス同士を結ぶ辺のリスト  "
   ]
  },
  {
   "cell_type": "code",
   "execution_count": null,
   "id": "192bf649-6ff0-40b1-8f9d-329322d3c7ab",
   "metadata": {},
   "outputs": [],
   "source": [
    "def create_nodes_edges(board):\n",
    "    h, w = board.shape\n",
    "    nodes = np.arange(w * h).reshape((h, w))\n",
    "    edges = []\n",
    "    for r in range(h):\n",
    "        for c in range(w):\n",
    "            node = nodes[r, c]\n",
    "            if c + 1 < w:\n",
    "                right = nodes[r, c + 1]\n",
    "                edges.extend([(node, right), (right, node)])\n",
    "            if r + 1 < h:\n",
    "                bottom = nodes[r + 1, c]\n",
    "                edges.extend([(node, bottom), (bottom, node)])\n",
    "    return nodes, edges"
   ]
  },
  {
   "cell_type": "markdown",
   "id": "328c6dc5-d392-4ebf-ad3d-5bdcf05afa7b",
   "metadata": {},
   "source": [
    "次の`solve_number_link(board)`関数でナンバーリンクパズルを解きます。\n",
    "\n",
    "1. 各数字ごとに回路を作成\n",
    "   - `number_starts`：各数字の開始地点（1つ目の位置）  \n",
    "   - `layers_circuits`：各数字ごとの辺とブール変数の対応  \n",
    "   - `layers_nodes`：各数字ごとの自己ループの変数  \n",
    "\n",
    "2. 各マスに対する制約\n",
    "   - 1つのマスは1つの回路にしか属せないようにする制約を`model.add_exactly_one()`で追加します。\n",
    "\n",
    "3. 解を求め、結果を表示\n",
    "   - ヘルプ関数`get_circuit()` を用いて各回路の経路を取得し、結果のグリッドを表示します。"
   ]
  },
  {
   "cell_type": "code",
   "execution_count": null,
   "id": "ee6d084c-5238-42c7-a92b-6542f556ee31",
   "metadata": {},
   "outputs": [],
   "source": [
    "def solve_number_link(board):\n",
    "    h, w = board.shape\n",
    "    model = cp_model.CpModel()\n",
    "    nodes, edges = create_nodes_edges(board)\n",
    "    \n",
    "    number_starts = {}\n",
    "    layers_circuits = {}\n",
    "    layers_nodes = {}\n",
    "    \n",
    "    for n in range(1, board.max() + 1):\n",
    "        r, c = np.where(board == n)\n",
    "        loc1 = r[0], c[0]\n",
    "        loc2 = r[1], c[1]\n",
    "        node1 = nodes[loc1]\n",
    "        node2 = nodes[loc2]\n",
    "    \n",
    "        circuit_variables = [(s, t, model.new_bool_var(f\"{n}_{s}_{t}\")) for s, t in edges]\n",
    "        node_variables = [(s, s, model.new_bool_var(f\"{n}_{s}_{s}\")) for s in nodes.ravel()]\n",
    "    \n",
    "        model.add_circuit(circuit_variables + node_variables + [(node2, node1, True)])\n",
    "        number_starts[n] = node1\n",
    "    \n",
    "        layers_circuits[n] = circuit_variables\n",
    "        layers_nodes[n] = node_variables\n",
    "    \n",
    "    for node in nodes.ravel():\n",
    "        variables = [value[node][2] for value in layers_nodes.values()]\n",
    "        model.add_exactly_one([~v for v in variables])\n",
    "    \n",
    "    solver = cp_model.CpSolver()\n",
    "    solver.solve(model)\n",
    "\n",
    "    result = np.zeros(w * h, dtype=np.uint8)\n",
    "    for key, circuits in layers_circuits.items():\n",
    "        solution = {(s, t):solver.value(v) for s, t, v in circuits}\n",
    "        nodes = get_circuit(solution, start=number_starts[key])\n",
    "        result[nodes] = key\n",
    "    print(result.reshape(h, w))"
   ]
  },
  {
   "cell_type": "code",
   "execution_count": 19,
   "id": "3f205116-aa00-4ab1-94df-0c02fd1a2923",
   "metadata": {},
   "outputs": [
    {
     "name": "stdout",
     "output_type": "stream",
     "text": [
      "[[1 6 6 6 6 6 6 6 6 6]\n",
      " [1 6 8 8 8 8 8 8 5 6]\n",
      " [1 6 8 1 3 3 3 8 5 6]\n",
      " [1 8 8 1 3 4 3 8 5 6]\n",
      " [1 8 1 1 3 4 6 8 5 6]\n",
      " [1 8 1 3 3 4 6 8 8 6]\n",
      " [1 1 1 4 7 4 6 6 8 6]\n",
      " [4 4 4 4 7 4 2 6 8 6]\n",
      " [4 7 7 7 7 4 2 6 6 6]\n",
      " [4 4 4 4 4 4 2 2 2 2]]\n",
      "CPU times: total: 4.16 s\n",
      "Wall time: 1.03 s\n"
     ]
    }
   ],
   "source": [
    "%time solve_number_link(board)"
   ]
  }
 ],
 "metadata": {
  "kernelspec": {
   "display_name": "Python 3 (ipykernel)",
   "language": "python",
   "name": "python3"
  },
  "language_info": {
   "codemirror_mode": {
    "name": "ipython",
    "version": 3
   },
   "file_extension": ".py",
   "mimetype": "text/x-python",
   "name": "python",
   "nbconvert_exporter": "python",
   "pygments_lexer": "ipython3",
   "version": "3.12.2"
  }
 },
 "nbformat": 4,
 "nbformat_minor": 5
}
