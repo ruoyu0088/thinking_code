{
 "cells": [
  {
   "cell_type": "markdown",
   "id": "26ae5acd-e04d-4b04-bc05-3aa97c21b049",
   "metadata": {},
   "source": [
    "# グレーコード"
   ]
  },
  {
   "cell_type": "markdown",
   "id": "acebad1c-ddc3-4923-b7ab-9779b4ba5971",
   "metadata": {},
   "source": [
    "グレーコードとは、隣接する値同士が1ビットだけ異なるように設計された数列であり、主に誤り訂正、エンコーディング、回路設計などで利用されます。一般的な二進数と異なり、1つの値から次の値への変化が最小限に抑えられるため、アナログ-デジタル変換などの用途でも重要な役割を果たします。"
   ]
  },
  {
   "cell_type": "code",
   "execution_count": 1,
   "id": "19d73b56-e7d0-403b-8686-4bcfec0c79f9",
   "metadata": {},
   "outputs": [],
   "source": [
    "from z3 import *"
   ]
  },
  {
   "attachments": {},
   "cell_type": "markdown",
   "id": "1e615a8f-bba8-4fb9-82c0-1752d78824d4",
   "metadata": {},
   "source": [
    "## Int変数で解く\n",
    "\n",
    "以下は、Z3を用いて N ビットのグレイコードを生成するプログラムです。`x % 2 ** (i + 1) - x % 2 ** i` を用いて `x` の `i` 番目のビットを抽出し、2 つの整数から抽出したビットが一致しない数が 1 つだけであるという制約を課すことで、グレイコードの特性を満たすようにしています。  \n",
    "\n",
    "さらに、計算を高速化するために、連続する 2 つのコードの差分が 2 のべき乗であるという制約も追加しています。"
   ]
  },
  {
   "cell_type": "code",
   "execution_count": 2,
   "id": "ee540341-e006-459b-8cd8-2b930d6009a5",
   "metadata": {},
   "outputs": [
    {
     "name": "stdout",
     "output_type": "stream",
     "text": [
      "CPU times: total: 7.33 s\n",
      "Wall time: 7.95 s\n",
      "0000\n",
      "0100\n",
      "0110\n",
      "0111\n",
      "0011\n",
      "0010\n",
      "1010\n",
      "1110\n",
      "1111\n",
      "1011\n",
      "1001\n",
      "0001\n",
      "0101\n",
      "1101\n",
      "1100\n",
      "1000\n"
     ]
    }
   ],
   "source": [
    "def gray_code(nbits):\n",
    "    n = 2 ** nbits\n",
    "    codes = IntVector('code', n)\n",
    "    solver = Solver()\n",
    "    \n",
    "    for c in codes:\n",
    "        solver.add(0 <= c, c < n)\n",
    "        \n",
    "    solver.add(Distinct(codes))\n",
    "    \n",
    "    for c1, c2 in zip(codes, codes[1:] + codes[:1]):\n",
    "        diff = Abs(c1 - c2)\n",
    "        solver.add(Or([diff == 2**bit for bit in range(nbits)]))\n",
    "        bit_diff = [c1 % 2**(i + 1) - c1 % 2**(i) != c2 % 2**(i + 1) - c2 % 2**(i) for i in range(nbits)]\n",
    "        solver.add(Sum(bit_diff) == 1)\n",
    "           \n",
    "    solver.add(codes[0] == 0)\n",
    "    solver.check()\n",
    "    model = solver.model()\n",
    "    return [model[c].as_long() for c in codes]\n",
    "\n",
    "nbits = 4\n",
    "%time codes = gray_code(nbits)\n",
    "for c in codes:\n",
    "    print(f'{c:0{nbits}b}')"
   ]
  },
  {
   "attachments": {},
   "cell_type": "markdown",
   "id": "a46bdb7a-e1ed-4379-9155-dc68c08ac451",
   "metadata": {},
   "source": [
    "## BitVec変数で加速\n",
    "\n",
    "上記のコードは正しくグレーコードを生成できますが、整数 (`Int`) を使っているため、Z3 の制約解決が遅くなります。そこで、次に `BitVec` を用いてより効率的にグレーコードを生成する方法を示します。\n",
    "\n",
    "`Int` の代わりに `BitVec` を使用し、前後の2つのコードの差分を XOR 演算子 (`^`) で求めます。グレーコードの隣接する値は1ビットだけ異なるため、この差分が「1が1つだけ立っている」ことを判定する必要があります。そのため、以下の条件を追加します。\n",
    "\n",
    "```python\n",
    "diff = c1 ^ c2\n",
    "solver.add(diff & (diff - 1) == 0, diff != 0)\n",
    "```\n",
    "\n",
    "これは、`diff` が 2 のべき乗であることを確認するための一般的なビット演算テクニックです。"
   ]
  },
  {
   "cell_type": "code",
   "execution_count": 4,
   "id": "bf1f24dd-b38f-495d-8535-b6e0567bc872",
   "metadata": {},
   "outputs": [],
   "source": [
    "def gray_code_bv(nbits):\n",
    "    codes = [BitVec(f'code_{i}', nbits) for i in range(2**nbits)]\n",
    "    solver = Solver()\n",
    "    solver.add(Distinct(codes))\n",
    "    \n",
    "    for c1, c2 in zip(codes, codes[1:] + codes[:1]):\n",
    "        diff = c1 ^ c2\n",
    "        solver.add(diff & (diff - 1) == 0, diff != 0)\n",
    "    \n",
    "    solver.add(codes[0] == 0)\n",
    "    \n",
    "    solver.check()\n",
    "    model = solver.model()\n",
    "    return [model[c].as_long() for c in codes]"
   ]
  },
  {
   "cell_type": "markdown",
   "id": "d10edec3-64d5-4b70-9034-d2a3158be397",
   "metadata": {},
   "source": [
    "この方法では、`BitVec` を使用することで Z3 の処理が効率化され、整数 (`Int`) を使った場合と比べて数十倍高速にグレーコードを求めることができます。"
   ]
  },
  {
   "cell_type": "code",
   "execution_count": 5,
   "id": "ee1f0264-8705-4c5d-86a6-4234ef354bc8",
   "metadata": {},
   "outputs": [
    {
     "name": "stdout",
     "output_type": "stream",
     "text": [
      "CPU times: total: 46.9 ms\n",
      "Wall time: 79.9 ms\n",
      "0000\n",
      "0100\n",
      "0110\n",
      "0010\n",
      "1010\n",
      "1110\n",
      "1100\n",
      "1000\n",
      "1001\n",
      "1011\n",
      "0011\n",
      "0111\n",
      "1111\n",
      "1101\n",
      "0101\n",
      "0001\n"
     ]
    }
   ],
   "source": [
    "%time codes = gray_code_bv(nbits)\n",
    "for c in codes:\n",
    "    print(f'{c:0{nbits}b}')"
   ]
  }
 ],
 "metadata": {
  "kernelspec": {
   "display_name": "Python 3 (ipykernel)",
   "language": "python",
   "name": "python3"
  },
  "language_info": {
   "codemirror_mode": {
    "name": "ipython",
    "version": 3
   },
   "file_extension": ".py",
   "mimetype": "text/x-python",
   "name": "python",
   "nbconvert_exporter": "python",
   "pygments_lexer": "ipython3",
   "version": "3.12.2"
  }
 },
 "nbformat": 4,
 "nbformat_minor": 5
}
