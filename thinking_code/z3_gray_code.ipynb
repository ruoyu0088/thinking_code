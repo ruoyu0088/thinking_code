{
 "cells": [
  {
   "cell_type": "markdown",
   "id": "acebad1c-ddc3-4923-b7ab-9779b4ba5971",
   "metadata": {},
   "source": [
    "# グレーコード\n",
    "\n",
    "グレーコードとは。。。"
   ]
  },
  {
   "cell_type": "code",
   "execution_count": 1,
   "id": "19d73b56-e7d0-403b-8686-4bcfec0c79f9",
   "metadata": {},
   "outputs": [],
   "source": [
    "from z3 import *"
   ]
  },
  {
   "cell_type": "markdown",
   "id": "8fb1e4fd-fbef-4524-b186-65834f5ee581",
   "metadata": {},
   "source": [
    "以下はz3でNビットのグレーコードを生成するプログラムです。連続二つのコードの差分の絶対値は2の乗数という制約条件。。。。"
   ]
  },
  {
   "cell_type": "code",
   "execution_count": 36,
   "id": "ee540341-e006-459b-8cd8-2b930d6009a5",
   "metadata": {},
   "outputs": [
    {
     "name": "stdout",
     "output_type": "stream",
     "text": [
      "CPU times: total: 3.23 s\n",
      "Wall time: 3.36 s\n",
      "00000\n",
      "01000\n",
      "11000\n",
      "11010\n",
      "11100\n",
      "10100\n",
      "10000\n",
      "10001\n",
      "11001\n",
      "10101\n",
      "00101\n",
      "01001\n",
      "00001\n",
      "00011\n",
      "10011\n",
      "11011\n",
      "10111\n",
      "01111\n",
      "00111\n",
      "01011\n",
      "01101\n",
      "11101\n",
      "11111\n",
      "11110\n",
      "01110\n",
      "00110\n",
      "10110\n",
      "10010\n",
      "00010\n",
      "01010\n",
      "01100\n",
      "00100\n"
     ]
    }
   ],
   "source": [
    "def gray_code(nbits):\n",
    "    n = 2 ** nbits\n",
    "    codes = IntVector('code', n)\n",
    "    solver = Solver()\n",
    "    \n",
    "    for c in codes:\n",
    "        solver.add(0 <= c, c < n)\n",
    "        \n",
    "    solver.add(Distinct(codes))\n",
    "    \n",
    "    for c1, c2 in zip(codes, codes[1:] + codes[:1]):\n",
    "        diff = Abs(c1 - c2)\n",
    "        solver.add(Or([diff == 2**bit for bit in range(nbits)]))\n",
    "    \n",
    "    solver.add(codes[0] == 0)\n",
    "    solver.check()\n",
    "    model = solver.model()\n",
    "    return [model[c].as_long() for c in codes]\n",
    "\n",
    "nbits = 5\n",
    "%time codes = gray_code(nbits)\n",
    "for c in codes:\n",
    "    print(f'{c:0{nbits}b}')"
   ]
  },
  {
   "cell_type": "markdown",
   "id": "92b1cc1a-2299-44be-9459-f9d88cc20781",
   "metadata": {},
   "source": [
    "上のコードの実行速度は遅くて、次ぐは`Int`のかわりに`BitVec`を使います。前後二つコードの差分はXOR演算子(^)で計算し、差分は一つのビットが1しかないを判定するには、次の方法を使います。\n",
    "\n",
    "`d & (d - 1) = 0, d != 0`"
   ]
  },
  {
   "cell_type": "code",
   "execution_count": 47,
   "id": "bf1f24dd-b38f-495d-8535-b6e0567bc872",
   "metadata": {},
   "outputs": [],
   "source": [
    "def gray_code_bv(nbits):\n",
    "    max_value = 2 ** nbits - 1\n",
    "    codes = [BitVec(f'code_{i}', nbits) for i in range(2**nbits)]\n",
    "    solver = Solver()\n",
    "    solver.add(Distinct(codes))\n",
    "    \n",
    "    for c1, c2 in zip(codes, codes[1:] + codes[:1]):\n",
    "        diff = c1 ^ c2\n",
    "        # solver.add(Or([diff == 2**bit for bit in range(nbits)]))\n",
    "        solver.add(diff & (diff - 1) == 0, diff != 0)\n",
    "    \n",
    "    solver.add(codes[0] == 0)\n",
    "    \n",
    "    solver.check()\n",
    "    model = solver.model()\n",
    "    return [model[c].as_long() for c in codes]"
   ]
  },
  {
   "cell_type": "markdown",
   "id": "d10edec3-64d5-4b70-9034-d2a3158be397",
   "metadata": {},
   "source": [
    "これで速度は数十倍速くなります。"
   ]
  },
  {
   "cell_type": "code",
   "execution_count": 53,
   "id": "ee1f0264-8705-4c5d-86a6-4234ef354bc8",
   "metadata": {},
   "outputs": [
    {
     "name": "stdout",
     "output_type": "stream",
     "text": [
      "CPU times: total: 62.5 ms\n",
      "Wall time: 64.3 ms\n",
      "00000\n",
      "01000\n",
      "11000\n",
      "11001\n",
      "01001\n",
      "01101\n",
      "00101\n",
      "00100\n",
      "01100\n",
      "11100\n",
      "11110\n",
      "01110\n",
      "01010\n",
      "11010\n",
      "10010\n",
      "00010\n",
      "00110\n",
      "10110\n",
      "10111\n",
      "00111\n",
      "01111\n",
      "01011\n",
      "00011\n",
      "10011\n",
      "11011\n",
      "11111\n",
      "11101\n",
      "10101\n",
      "10100\n",
      "10000\n",
      "10001\n",
      "00001\n"
     ]
    }
   ],
   "source": [
    "%time codes = gray_code_bv(nbits)\n",
    "for c in codes:\n",
    "    print(f'{c:0{nbits}b}')"
   ]
  }
 ],
 "metadata": {
  "kernelspec": {
   "display_name": "Python 3 (ipykernel)",
   "language": "python",
   "name": "python3"
  },
  "language_info": {
   "codemirror_mode": {
    "name": "ipython",
    "version": 3
   },
   "file_extension": ".py",
   "mimetype": "text/x-python",
   "name": "python",
   "nbconvert_exporter": "python",
   "pygments_lexer": "ipython3",
   "version": "3.11.8"
  }
 },
 "nbformat": 4,
 "nbformat_minor": 5
}
