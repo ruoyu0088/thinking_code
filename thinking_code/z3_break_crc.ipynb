{
 "cells": [
  {
   "cell_type": "markdown",
   "id": "4f370e08-46dd-4ed5-875a-a0a335dc0e8c",
   "metadata": {},
   "source": [
    "# CRC32を破る"
   ]
  },
  {
   "cell_type": "code",
   "execution_count": 1,
   "id": "4be9998b-1c55-4404-b9c6-10b69d698519",
   "metadata": {},
   "outputs": [],
   "source": [
    "from z3 import *"
   ]
  },
  {
   "cell_type": "markdown",
   "id": "e8b8afe2-9afe-4999-af07-46420b64f765",
   "metadata": {},
   "source": [
    "## 問題の背景\n",
    "\n",
    "CRC32（Cyclic Redundancy Check 32-bit）は、データの整合性を検証するために使用されるハッシュ関数の一種です。これは特にネットワーク通信やファイルの整合性チェックに広く利用されています。しかし、CRC32は暗号学的に安全なハッシュ関数ではなく、特定の入力に対して出力が既知である場合、逆算して入力データを構築することが可能です。本章では、Z3 SMTソルバーを用いて、特定の条件を満たすデータをCRC32の値から逆算する方法について説明します。\n"
   ]
  },
  {
   "attachments": {},
   "cell_type": "markdown",
   "id": "f4e94df7-2ed0-4a56-a255-9952f3b9a99e",
   "metadata": {},
   "source": [
    "## CRC32の計算方法\n",
    "\n",
    "下のC言語コードでは、CRC32の計算が実装されています。\n",
    "\n",
    "```c\n",
    "static uint32_t crc32(uint32_t crc, unsigned char *buf, size_t len)\n",
    "{\n",
    "    int k;\n",
    "\n",
    "    crc = ~crc;\n",
    "    while (len--) {\n",
    "        crc ^= *buf++;\n",
    "        for (k = 0; k < 8; k++)\n",
    "            crc = crc & 1 ? (crc >> 1) ^ 0xedb88320 : crc >> 1;\n",
    "    }\n",
    "    return ~crc;\n",
    "}\n",
    "```\n",
    "\n",
    "この関数の特徴は、以下の点にあります：\n",
    "\n",
    "- 初期CRC値を反転（ビット反転）してから計算を開始\n",
    "- 各バイトを順番にXORし、ビット単位で処理\n",
    "- ビットシフトと多項式 `0xedb88320` を用いたフィードバック計算\n",
    "- 最終的に結果を再びビット反転\n",
    "\n",
    "このロジックをPythonのZ3ライブラリを用いて再現し、逆計算を試みます。"
   ]
  },
  {
   "cell_type": "code",
   "execution_count": 110,
   "id": "bb49f88f-80af-40ea-b75f-63914c33b693",
   "metadata": {},
   "outputs": [],
   "source": [
    "def z3_crc32(data, crc = 0):\n",
    "    crc = ~crc\n",
    "    for c in data:\n",
    "        crc ^= ZeroExt(24, c)\n",
    "        for i in range(8):\n",
    "            crc = If(crc & 1 == BitVecVal(1, 32), LShR(crc, 1) ^ 0xedb88320, LShR(crc, 1))\n",
    "    return ~crc"
   ]
  },
  {
   "cell_type": "markdown",
   "id": "cf86cfa1-2e82-4cc5-89cb-54b1eb27b580",
   "metadata": {},
   "source": [
    "ここで使用されているZ3の関数と演算子について説明します。\n",
    "- `ZeroExt(24, c)`: 8ビットの値 `c` を32ビットに拡張する。\n",
    "- `BitVecVal(1, 32)`: 32ビット整数の定数値 `1` を作成。\n",
    "- `LShR(crc, 1)`: 符号なしの右シフトを実行。\n",
    "- `If(condition, true_case, false_case)`: 条件 `condition` に応じて `true_case` または `false_case` を返す。\n",
    "- `~crc`: CRC値のビット反転。\n",
    "- `^`, `&`: XOR演算とAND演算を適用。\n",
    "\n",
    "この関数を用いることで、与えられたバイト列 `data` のCRC32をZ3の制約ソルバーに適用可能な形式で計算できます。\n",
    "\n",
    "次に、`binascii.crc32()` との結果を比較してみます。\n",
    "\n",
    "* `BitVecVal()` は固定値の `BitVec` を作成します。\n",
    "* `simplify()` は演算式を簡略化する関数で、すべての値が既知の場合、結果は数値になります。"
   ]
  },
  {
   "cell_type": "code",
   "execution_count": 111,
   "id": "3e373190-89f3-4274-86cf-e8b88aa66316",
   "metadata": {},
   "outputs": [
    {
     "name": "stdout",
     "output_type": "stream",
     "text": [
      "2909492980\n"
     ]
    }
   ],
   "source": [
    "from binascii import crc32\n",
    "\n",
    "data = b'hello world!!'\n",
    "print(crc32(data))"
   ]
  },
  {
   "cell_type": "code",
   "execution_count": 112,
   "id": "3b6745d3-a1c6-4bc6-a267-1c6b3563dc1e",
   "metadata": {},
   "outputs": [
    {
     "data": {
      "text/html": [
       "2909492980"
      ],
      "text/plain": [
       "2909492980"
      ]
     },
     "execution_count": 112,
     "metadata": {},
     "output_type": "execute_result"
    }
   ],
   "source": [
    "simplify(z3_crc32([BitVecVal(x, 8) for x in data]))"
   ]
  },
  {
   "cell_type": "markdown",
   "id": "4a2d7885-5ae5-400f-85b4-468a935166f7",
   "metadata": {},
   "source": [
    "## CRC32の逆算\n",
    "\n",
    "CRC32の値から元データを逆算するため、Z3の制約解決機能を活用します。\n",
    "\n",
    "- `starts_with(data, head)`: 文字列が `head` で始まることを制約。\n",
    "- `ends_with(data, tail)`: 文字列が `tail` で終わることを制約。\n",
    "- `is_between(b, 'a', 'z')`: 変数 `b` が `a-z` の範囲にあることを制約。\n",
    "- `is_between(b, 'A', 'Z')`: 変数 `b` が `A-Z` の範囲にあることを制約。\n",
    "- `solver.add(crc == crc_code)`: 計算されたCRC32が `crc_code` に一致することを制約。"
   ]
  },
  {
   "cell_type": "code",
   "execution_count": 127,
   "id": "e273943b-48ce-4f9e-a4a3-7b3c3ecf9c77",
   "metadata": {},
   "outputs": [],
   "source": [
    "def is_between(b, start, end):\n",
    "    return And(b >= ord(start), b <= ord(end))\n",
    "\n",
    "def starts_with(bv_list, string):\n",
    "    return And([b == ord(s) for b, s in zip(bv_list, string)])\n",
    "\n",
    "def ends_with(bv_list, string):\n",
    "    return And([b == ord(s) for b, s in zip(bv_list[::-1], string[::-1])])\n",
    "\n",
    "def break_crc32(n, head, tail, crc_code):\n",
    "    data = [BitVec(f'b{i:02d}', 8) for i in range(n)]\n",
    "    \n",
    "    solver = Solver()\n",
    "    solver.add(starts_with(data, head))\n",
    "    solver.add(ends_with(data, tail))\n",
    "    \n",
    "    for b in data[len(head):-len(tail)]:\n",
    "        solver.add(Or(is_between(b, 'a', 'z'), is_between(b, 'A', 'Z')))\n",
    "        \n",
    "    crc = z3_crc32(data)\n",
    "    solver.add(crc == crc_code)\n",
    "    if solver.check() == sat:\n",
    "        m = solver.model()\n",
    "        res = bytes([m[d].as_long() for d in data])\n",
    "        return res\n",
    "    else:\n",
    "        return None\n",
    "\n",
    "def test(n, head, tail, crc_code):\n",
    "    res = break_crc32(n, head, tail, crc_code)\n",
    "    if res is not None:\n",
    "        print(res, hex(crc32(res)))\n",
    "    else:\n",
    "        print('unsat')"
   ]
  },
  {
   "cell_type": "markdown",
   "id": "34b67c20-2a3a-41c7-a4e3-2070ea82bb29",
   "metadata": {},
   "source": [
    "次のテストケースでは、`\"hello \"` で始まり、`\"!!\"` で終わる長さ20の文字列を生成します。中間の文字は英字であり、CRC32の値が `0x12345678` となるように求めます。"
   ]
  },
  {
   "cell_type": "code",
   "execution_count": 128,
   "id": "cf0b6d6f-5eca-4e93-9289-82e61941ecf5",
   "metadata": {},
   "outputs": [
    {
     "name": "stdout",
     "output_type": "stream",
     "text": [
      "b'hello bHvabzZENYUs!!' 0x12345678\n"
     ]
    }
   ],
   "source": [
    "test(20, 'hello ', '!!', 0x12345678)"
   ]
  },
  {
   "cell_type": "markdown",
   "id": "5b1b7fbe-b6b0-43c7-bef2-9c8540cf6b83",
   "metadata": {},
   "source": [
    "文字列の長さが足りない場合、条件を満たすデータを作成できず `unsat` となります。"
   ]
  },
  {
   "cell_type": "code",
   "execution_count": 130,
   "id": "3a2bd0b5-753c-468e-af05-bf686fafe945",
   "metadata": {},
   "outputs": [
    {
     "name": "stdout",
     "output_type": "stream",
     "text": [
      "unsat\n"
     ]
    }
   ],
   "source": [
    "test(13, 'hello ', '!!', 0x00000000)"
   ]
  },
  {
   "cell_type": "markdown",
   "id": "b88959dc-ca96-402e-b864-5a7ef802f3a3",
   "metadata": {},
   "source": [
    "長さを増やせば解が見つかりました。"
   ]
  },
  {
   "cell_type": "code",
   "execution_count": 131,
   "id": "bc7b3c6c-8987-42a5-8d01-55d1b484105e",
   "metadata": {},
   "outputs": [
    {
     "name": "stdout",
     "output_type": "stream",
     "text": [
      "b'hello zXforl!!' 0x0\n"
     ]
    }
   ],
   "source": [
    "test(14, 'hello ', '!!', 0x00000000)"
   ]
  }
 ],
 "metadata": {
  "kernelspec": {
   "display_name": "Python 3 (ipykernel)",
   "language": "python",
   "name": "python3"
  },
  "language_info": {
   "codemirror_mode": {
    "name": "ipython",
    "version": 3
   },
   "file_extension": ".py",
   "mimetype": "text/x-python",
   "name": "python",
   "nbconvert_exporter": "python",
   "pygments_lexer": "ipython3",
   "version": "3.12.2"
  }
 },
 "nbformat": 4,
 "nbformat_minor": 5
}
