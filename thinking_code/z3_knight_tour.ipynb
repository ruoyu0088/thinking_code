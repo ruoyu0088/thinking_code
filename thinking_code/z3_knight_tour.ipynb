{
 "cells": [
  {
   "cell_type": "markdown",
   "metadata": {},
   "source": [
    "# ナイト・ツアー問題"
   ]
  },
  {
   "cell_type": "markdown",
   "metadata": {},
   "source": [
    "ナイトツアー問題は、チェスのナイト（騎士）がボード上で1回ずつすべてのマスを訪れ、再び最初の位置に戻るという問題です。ナイトはL字型の移動を行うため、移動可能な場所に制約があります。ナイトツアー問題は、これらの制約を満たすルートを見つける問題です。"
   ]
  },
  {
   "cell_type": "code",
   "execution_count": 18,
   "metadata": {},
   "outputs": [],
   "source": [
    "from z3 import *\n",
    "from itertools import product"
   ]
  },
  {
   "cell_type": "markdown",
   "metadata": {},
   "source": [
    "## 困難点と解き方\n",
    "\n",
    "この問題の困難な点は、ナイトが次にどのマスに移動するかという選択肢が周囲の8つのマスに限られていること、さらに64回の移動を経てすべてのマスを訪れる必要があるため、膨大な探索空間を持つことです。Z3を使ってこの問題を解決するために、各マスに0から63の整数を割り当て、その整数がナイトの移動順番を表すようにします。このようにすると、制約条件は以下のように表現できます：\n",
    "\n",
    "- 各マスの値とその周辺のマスの値の差は必ず1であるという制約を設けます。\n",
    "\n",
    "この方法で、ナイトが順番に移動し、すべてのマスを訪れるルートを探索することができます。"
   ]
  },
  {
   "cell_type": "markdown",
   "metadata": {},
   "source": [
    "## コード\n",
    "\n",
    "次のコードでは、ナイトツアー問題を解きます。"
   ]
  },
  {
   "cell_type": "code",
   "execution_count": 20,
   "metadata": {},
   "outputs": [
    {
     "name": "stdout",
     "output_type": "stream",
     "text": [
      "32 37 34 13 10  1 28 57 \n",
      "35 14 31  0 29 58 11  2 \n",
      "38 33 36 59 12  9 56 27 \n",
      "15 20 63 30 55 26  3 46 \n",
      "62 39 60 19  4 45  8 53 \n",
      "21 16 23 50 25 54 47 44 \n",
      "40 61 18  5 42 49 52  7 \n",
      "17 22 41 24 51  6 43 48 \n"
     ]
    }
   ],
   "source": [
    "w, h = 8, 8\n",
    "cells = {}\n",
    "s = Solver()\n",
    "\n",
    "directs = [(1, 2), (2, 1), (-1, 2), (2, -1), (-2, 1), (1, -2), (-1, -2), (-2, -1)]\n",
    "for i, j in product(range(h), range(w)):\n",
    "    c = cells[i, j] = Int(\"c_{}_{}\".format(i, j))\n",
    "    s.add(c >= 0, c <= w * h - 1)\n",
    "    \n",
    "s.add(Distinct(list(cells.values())))\n",
    "    \n",
    "for i, j in product(range(h), range(w)):\n",
    "    c = cells[i, j]\n",
    "    neighbours = []\n",
    "    for di, dj in directs:\n",
    "        i2, j2 = i + di, j + dj\n",
    "        if (i2, j2) in cells:\n",
    "            neighbours.append(cells[i2, j2])\n",
    "\n",
    "    equal_minus_1 = [(x == c - 1, 1) for x in neighbours]\n",
    "    equal_plus_1 = [(x == c + 1, 1) for x in neighbours]\n",
    "    equal_zero = [(x == 0, 1) for x in neighbours]\n",
    "    \n",
    "    s.append(Implies(c < w * h - 1, PbEq(equal_plus_1, 1)))\n",
    "    s.append(Implies(c > 0,     PbEq(equal_minus_1, 1)))\n",
    "    s.append(Implies(c == w * h - 1, PbEq(equal_zero, 1)))\n",
    "\n",
    "s.check()\n",
    "\n",
    "m = s.model()\n",
    "for i in range(h):\n",
    "    for j in range(w):\n",
    "        c = cells[i, j]\n",
    "        print(f'{m[c].as_long():2d}', end=' ')\n",
    "    print()"
   ]
  },
  {
   "cell_type": "markdown",
   "metadata": {},
   "source": [
    "ナイトのルートは以下の制約条件を用いて表現されます：\n",
    "\n",
    "1. **値が63未満の変数 `c` に対して**、その周囲の8個の変数の中には必ず1つの変数が `c + 1` である必要があります。\n",
    "2. **値が0より大きい変数 `c` に対して**、その周囲の8個の変数の中には必ず1つの変数が `c - 1` である必要があります。\n",
    "3. **値が63の変数 `c` に対して**、その周囲の8個の変数の中には必ず1つの変数が `0` である必要があります。\n",
    "\n",
    "また、`PbEq()` は「ちょうど1つの変数が特定の値を持つ」制約を表すために使用されます。"
   ]
  },
  {
   "cell_type": "markdown",
   "metadata": {},
   "source": [
    "## `PbEq()`\n",
    "\n",
    "`PbEq(args, k)` は、指定した条件に基づいて、リスト内の Bool 式の重み付き合計がちょうど `k` になるように制約を設定します。`args` はリストで、各項目は (Bool演算式, 重み) のペアです。Bool演算式が `True` である場合、その項目の重みが合計に加算されます。そして、この合計が `k` になるように制約を定義します。\n",
    "\n",
    "例えば、次のコードは次のように説明できます："
   ]
  },
  {
   "cell_type": "code",
   "execution_count": 17,
   "metadata": {},
   "outputs": [
    {
     "name": "stdout",
     "output_type": "stream",
     "text": [
      "[z = True, y = True, x = False]\n"
     ]
    }
   ],
   "source": [
    "x, y, z = Bools('x y z')\n",
    "solve(PbEq([(x, 1), (y, 2), (z, 3)], 5))"
   ]
  },
  {
   "cell_type": "markdown",
   "metadata": {},
   "source": [
    "ここで、`x`, `y`, `z` は Boolean 変数です。`PbEq()` の引数 `[(x, 1), (y, 2), (z, 3)]` は、`x` が `True` の場合に1、`y` が `True` の場合に2、`z` が `True` の場合に3の重みを持つことを意味します。そして、この重みの合計がちょうど `5` になるように制約を設定しています。\n",
    "\n",
    "ナイト問題を解くコードでは、すべての重みが1に設定されているため、`PbEq()` は Bool演算式が `True` の数がちょうど1になるような制約条件を表現します。"
   ]
  }
 ],
 "metadata": {
  "kernelspec": {
   "display_name": "Python 3 (ipykernel)",
   "language": "python",
   "name": "python3"
  },
  "language_info": {
   "codemirror_mode": {
    "name": "ipython",
    "version": 3
   },
   "file_extension": ".py",
   "mimetype": "text/x-python",
   "name": "python",
   "nbconvert_exporter": "python",
   "pygments_lexer": "ipython3",
   "version": "3.12.2"
  }
 },
 "nbformat": 4,
 "nbformat_minor": 4
}
