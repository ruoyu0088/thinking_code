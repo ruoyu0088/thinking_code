{
 "cells": [
  {
   "cell_type": "markdown",
   "id": "ab82e798-0b9a-43a1-96a8-f27fa4d1adea",
   "metadata": {},
   "source": [
    "# FixedPoint"
   ]
  },
  {
   "cell_type": "markdown",
   "id": "398fff45-f634-438b-af7b-bd54937806b3",
   "metadata": {},
   "source": [
    "Z3のFixedpointは、再帰的な論理関係を解くためのエンジンであり、特にデータフロー解析や到達可能性解析（reachability analysis）などの問題に適用されます。Fixedpointは、再帰的な述語を扱うことができ、プログラムの性質検証、モデル検査、関係データベースのクエリ処理などに利用されます。\n",
    "\n",
    "デフォルトのFixedpointエンジンは、ボトムアップ型のDatalogエンジンです。Datalogエンジンとは、関係データベースの問い合わせや論理推論を行うためのエンジンです。主に 関係データの推論や再帰的なクエリ処理 に利用されます。述語論理をベースにしたデータ操作が可能であり、データベースの問い合わせ（SQLの再帰的クエリに相当）に似た動作をします。"
   ]
  },
  {
   "cell_type": "markdown",
   "id": "06933d0b-95a4-4aaf-a8fc-d5c759c5d807",
   "metadata": {},
   "source": [
    "## グラフの到達可能性\n",
    "\n",
    "以下の例では、Datalogエンジンを使用してグラフの到達可能性を求めます。対象となるのは、以下の無向グラフです。頂点1から頂点6へ到達できるかどうかを調べ、到達可能な場合はその経路を出力します。  \n",
    "\n",
    "```mermaid\n",
    "flowchart LR\n",
    "1 --- 2\n",
    "1 --- 5\n",
    "5 --- 2\n",
    "4 --- 5\n",
    "2 --- 3\n",
    "4 --- 3\n",
    "4 --- 6\n",
    "```  "
   ]
  },
  {
   "cell_type": "code",
   "execution_count": 7,
   "id": "079b3f70-4e70-4eff-81af-3a871b124280",
   "metadata": {},
   "outputs": [],
   "source": [
    "from z3 import *"
   ]
  },
  {
   "cell_type": "markdown",
   "id": "dd6ae56f-6ea4-4a06-b003-8408e081369c",
   "metadata": {},
   "source": [
    "次のコードは、Z3のDatalogエンジンを使って無向グラフの到達可能性を判定するものです。"
   ]
  },
  {
   "cell_type": "code",
   "execution_count": 8,
   "id": "f7a86041-430d-41fe-9b57-a5d9be275946",
   "metadata": {},
   "outputs": [],
   "source": [
    "fp = Fixedpoint()\n",
    "fp.set(engine='datalog')\n",
    "fp.set('datalog.generate_explanations', True)\n",
    "s = BitVecSort(8)\n",
    "\n",
    "connect = Function('connect', s, s, BoolSort())\n",
    "edge = Function('edge', s, s, BoolSort())\n",
    "path = Function('path', s, s, BoolSort())\n",
    "\n",
    "a = Const('a', s)\n",
    "b = Const('b', s)\n",
    "c = Const('c', s)\n",
    "\n",
    "fp.register_relation(path, edge, connect)\n",
    "\n",
    "fp.declare_var(a, b, c)\n",
    "fp.rule(path(a, b), connect(a, b))\n",
    "fp.rule(path(a, c), [connect(a, b), path(b, c)])\n",
    "\n",
    "fp.rule(connect(a, b), edge(a, b))\n",
    "fp.rule(connect(a, b), edge(b, a))\n",
    "\n",
    "fp.fact(edge(1, 2))\n",
    "fp.fact(edge(1, 5))\n",
    "fp.fact(edge(5, 2))\n",
    "fp.fact(edge(4, 5))\n",
    "fp.fact(edge(2, 3))\n",
    "fp.fact(edge(4, 3))\n",
    "fp.fact(edge(4, 6))"
   ]
  },
  {
   "cell_type": "markdown",
   "id": "f6caab59-c1d1-4728-afc2-b8c64acedd2c",
   "metadata": {},
   "source": [
    "まず、次のコードでFixedpointエンジンの設定を行います。\n",
    "\n",
    "```python\n",
    "fp = Fixedpoint()\n",
    "fp.set(engine='datalog')  \n",
    "fp.set('datalog.generate_explanations', True)\n",
    "```\n",
    "\n",
    "- `engine='datalog'`：Datalogエンジンを使用  \n",
    "- `datalog.generate_explanations = True`：推論の説明（explanations）を取得可能にします。この説明から到達ルートを抽出することができます。\n",
    "\n",
    "---\n",
    "\n",
    "次に、8ビットのビットベクトル型 `BitVecSort(8)`を定義し、頂点の識別子のデータ型として使用します。\n",
    "\n",
    "```python\n",
    "s = BitVecSort(8)\n",
    "```\n",
    "\n",
    "---\n",
    "\n",
    "次に、グラフの関係（述語）を定義します。\n",
    "\n",
    "```python\n",
    "connect = Function('connect', s, s, BoolSort())\n",
    "edge = Function('edge', s, s, BoolSort())\n",
    "path = Function('path', s, s, BoolSort())\n",
    "```\n",
    "\n",
    "- `edge(a, b)`：頂点 `a` から `b` へ直接つながっている（辺がある）\n",
    "- `connect(a, b)`：`a` から `b` へ移動可能（無向グラフのため双方向を考慮）  \n",
    "- `path(a, b)`：`a` から `b` へ到達可能な場合に成り立つ（再帰的に探索）  \n",
    "\n",
    "---\n",
    "\n",
    "次に、Datalogルールを定義するときに使用する変数を宣言します。\n",
    "\n",
    "```python\n",
    "a = Const('a', s)\n",
    "b = Const('b', s)\n",
    "c = Const('c', s)\n",
    "```\n",
    "\n",
    "---\n",
    "\n",
    "Fixedpointエンジンに述語を登録し、変数を宣言します。\n",
    "\n",
    "```python\n",
    "fp.register_relation(path, edge, connect)\n",
    "fp.declare_var(a, b, c)\n",
    "```\n",
    "\n",
    "---\n",
    "\n",
    "次に、推論ルールを定義します。\n",
    "\n",
    "```python\n",
    "fp.rule(path(a, b), connect(a, b))\n",
    "fp.rule(path(a, c), [connect(a, b), path(b, c)])\n",
    "```\n",
    "\n",
    "- `a` から `b` へ 直接つながっていれば（`connect(a, b)`）、`a` から `b` へ到達可能（`path(a, b)`）  \n",
    "- `a` から `b` へ移動でき、さらに `b` から `c` へ到達可能なら、`a` から `c` へも到達可能  \n",
    "\n",
    "```python\n",
    "fp.rule(connect(a, b), edge(a, b))\n",
    "fp.rule(connect(a, b), edge(b, a))\n",
    "```\n",
    "\n",
    "- `a` から `b` に直接つながっているなら（`edge(a, b)`）、移動可能（`connect(a, b)`）  \n",
    "- 無向グラフなので、`b` から `a` に直接つながっている場合も移動可能とする  \n",
    "\n",
    "---\n",
    "\n",
    "次に、グラフの辺（edge）を事実（fact）として登録します。\n",
    "\n",
    "```python\n",
    "fp.fact(edge(1, 2))\n",
    "fp.fact(edge(1, 5))\n",
    "fp.fact(edge(5, 2))\n",
    "fp.fact(edge(4, 5))\n",
    "fp.fact(edge(2, 3))\n",
    "fp.fact(edge(4, 3))\n",
    "fp.fact(edge(4, 6))\n",
    "```"
   ]
  },
  {
   "cell_type": "markdown",
   "id": "0d9ecf3d-7cc6-4520-9a35-b14c55255f4a",
   "metadata": {},
   "source": [
    "次のコードで、頂点 1 から 頂点 6 へ到達可能かどうかを問い合わせ（クエリ）し、結果を取得・出力します。"
   ]
  },
  {
   "cell_type": "code",
   "execution_count": 9,
   "id": "ad309b63-fa59-4c11-8e6b-e6b12ebca02a",
   "metadata": {},
   "outputs": [
    {
     "name": "stdout",
     "output_type": "stream",
     "text": [
      "sat\n",
      "And(Var(0) ==\n",
      "    query!6() :-  path(#x01,#x06).(path(#2,#0) :-  path(#1,#0), connect(#2,#1).(path(#2,#0) :-  path(#1,#0), connect(#2,#1).(path(#1,#0) :-  connect(#1,#0).(connect(#1,#0) :-  edge(#1,#0).(edge(#x04,#x06).)),\n",
      "                                        connect(#1,#0) :-  edge(#0,#1).(edge(#x04,#x05).)),\n",
      "                                        connect(#1,#0) :-  edge(#1,#0).(edge(#x01,#x05).))))\n"
     ]
    }
   ],
   "source": [
    "print(fp.query(path(1, 6)))\n",
    "ans = fp.get_answer()\n",
    "print(ans)"
   ]
  },
  {
   "cell_type": "markdown",
   "id": "5fd8bfc5-1428-4b90-8ecc-f9bfbfdff996",
   "metadata": {},
   "source": [
    "`ans` の結果は木構造になっており、各ノードは`children()`を使って、その子ノードを取得できます。次の `iter_all_children()` 関数は、 木構造内のすべてのノードを再帰的に取得する関数です。この関数を利用して、名前が`edge`で始まるノードを抽出し、逆順で出力します。これにより、頂点 1 から 頂点 6 までの経路を取得できます。"
   ]
  },
  {
   "cell_type": "code",
   "execution_count": 10,
   "id": "992b448e-c984-4625-866a-8138d84b22a1",
   "metadata": {},
   "outputs": [
    {
     "name": "stdout",
     "output_type": "stream",
     "text": [
      "edge(#x01,#x05).\n",
      "edge(#x04,#x05).\n",
      "edge(#x04,#x06).\n"
     ]
    }
   ],
   "source": [
    "def iter_all_children(ans):\n",
    "    yield ans\n",
    "    for child in ans.children():\n",
    "        yield from iter_all_children(child)\n",
    "\n",
    "for node in list(iter_all_children(ans))[::-1]:\n",
    "    if str(node).startswith(\"edge\"):\n",
    "        print(node)"
   ]
  },
  {
   "cell_type": "markdown",
   "id": "ed66d0fb-6c45-4543-bdf4-961155fbb45d",
   "metadata": {},
   "source": [
    "また、頂点1から頂点7への経路を調べた結果、**unsat**（解なし）が得られ、経路が存在しないことが確認されました。"
   ]
  },
  {
   "cell_type": "code",
   "execution_count": 31,
   "id": "9a576623-3f94-4958-9ea5-d9aa09a86699",
   "metadata": {},
   "outputs": [
    {
     "data": {
      "text/html": [
       "<b>unsat</b>"
      ],
      "text/plain": [
       "unsat"
      ]
     },
     "execution_count": 31,
     "metadata": {},
     "output_type": "execute_result"
    }
   ],
   "source": [
    "fp.query(path(1, 7))"
   ]
  },
  {
   "cell_type": "markdown",
   "id": "3fbcd7d4-c115-4978-8741-0ca576576930",
   "metadata": {},
   "source": [
    "## 3つのバケツ問題\n",
    "\n",
    "3つのバケツ問題とは、3リットル、5リットル、8リットルのバケツを使って、指定された量の水を測る問題です。初期状態では、8リットルのバケツに水が一杯入っており、他の2つのバケツは空です。目的は、2つのバケツにそれぞれ4リットルずつ分けることです。\n",
    "\n",
    "この問題は、有向辺を持つグラフの到達可能性問題に変換できます。グラフの頂点は3つのバケツの水の状態を表し、有向辺はその状態から別の状態に移行できるかどうかを示します。\n",
    "\n",
    "次のコードでは、すべての可能な状態 `states` を計算し、二つの状態の間で直接移行できる場合、それを辺として `transitions` に追加します。"
   ]
  },
  {
   "cell_type": "code",
   "execution_count": 11,
   "id": "93c2cf45-c9bf-4e4c-aee0-edcc996ab8f6",
   "metadata": {},
   "outputs": [],
   "source": [
    "from itertools import product\n",
    "\n",
    "states = []\n",
    "sizes = (8, 5, 3)\n",
    "for a, b, c in product(*[range(size + 1) for size in sizes]):\n",
    "    if a + b + c == 8:\n",
    "        states.append((a, b, c))\n",
    "\n",
    "transitions = []\n",
    "for s1, s2 in product(states, states):\n",
    "    buckets = [(v, v2) for (v, v1, v2) in zip(sizes, s1, s2) if v1 != v2]\n",
    "    if len(buckets) != 2:\n",
    "        continue\n",
    "    if any([v1 == v2 or v2 == 0 for v1, v2 in buckets]):\n",
    "        transitions.append((s1, s2))"
   ]
  },
  {
   "cell_type": "markdown",
   "id": "fcae8964-8fe5-41bf-a622-f05023c51f9f",
   "metadata": {},
   "source": [
    "次にFixedpointを使って到達ルートを探します。基本的な考え方は前と同じです。\n",
    "\n",
    "* **`pour`述語**：水を1つのバケツから別のバケツに移動する操作を表す述語（関数）を定義します。`pour(a, b, c, a2, b2, c2)`は、バケツの状態`a, b, c`から状態`a2, b2, c2`に移行できるかどうかを判定します。\n",
    "* **`plan`述語**：水を移動する計画を表す述語（関数）で、指定された初期状態から目標状態に至るまでの移動計画が存在するかを調べます。\n",
    "\n",
    "`pour`を事実として登録する際、その事実を代表する文字列を指定することで、後で抽出しやすくなります。"
   ]
  },
  {
   "cell_type": "code",
   "execution_count": null,
   "id": "d706567b-6f58-4bb1-a6f2-37737a408c78",
   "metadata": {},
   "outputs": [
    {
     "name": "stdout",
     "output_type": "stream",
     "text": [
      "sat\n",
      "CPU times: total: 31.2 ms\n",
      "Wall time: 32 ms\n"
     ]
    }
   ],
   "source": [
    "fp = Fixedpoint()\n",
    "fp.set(engine='datalog')\n",
    "fp.set('datalog.generate_explanations', True)\n",
    "s = BitVecSort(5)\n",
    "pour = Function('pour', s, s, s, s, s, s, BoolSort())\n",
    "plan = Function('plan', s, s, s, s, s, s, BoolSort())\n",
    "a, b, c, a1, b1, c1, a2, b2, c2 = Consts(['a', 'b', 'c', 'a1', 'b1', 'c1', 'a2', 'b2', 'c2'], s)\n",
    "fp.register_relation(pour, plan)\n",
    "fp.declare_var(a, b, c, a1, b1, c1, a2, b2, c2)\n",
    "\n",
    "fp.rule(\n",
    "    plan(a, b, c, a2, b2, c2),\n",
    "    pour(a, b, c, a2, b2, c2)\n",
    ")\n",
    "\n",
    "fp.rule(\n",
    "    plan(a, b, c, a2, b2, c2),\n",
    "    [pour(a, b, c, a1, b1, c1), plan(a1, b1, c1, a2, b2, c2)]\n",
    ")\n",
    "\n",
    "for (a1, b1, c1), (a2, b2, c2) in transitions:\n",
    "    fp.fact(pour(a1, b1, c1, a2, b2, c2), f'pour: {a1}, {b1}, {c1} -> {a2}, {b2}, {c2}')\n",
    "\n",
    "%time print(fp.query(plan(8, 0, 0, 4, 4, 0)))\n",
    "ans = fp.get_answer()"
   ]
  },
  {
   "cell_type": "markdown",
   "id": "7af517d2-3f10-4171-8fd2-40f0905c12df",
   "metadata": {},
   "source": [
    "次に作成したルールと事実を確認します。"
   ]
  },
  {
   "cell_type": "code",
   "execution_count": 41,
   "id": "11964716-bbd7-4c62-a23a-5790042ee6f6",
   "metadata": {},
   "outputs": [
    {
     "name": "stdout",
     "output_type": "stream",
     "text": [
      "ForAll([A, B, C, D, E, F],\n",
      "       Implies(pour(A, B, C, D, E, F),\n",
      "               plan(A, B, C, D, E, F)))\n",
      "ForAll([A, B, C, D, E, F, G, H, I],\n",
      "       Implies(And(plan(D, E, F, G, H, I),\n",
      "                   pour(A, B, C, D, E, F)),\n",
      "               plan(A, B, C, G, H, I)))\n",
      "pour(0, 5, 3, 3, 5, 0)\n",
      "pour(0, 5, 3, 5, 0, 3)\n",
      "pour(1, 4, 3, 0, 5, 3)\n",
      "...\n"
     ]
    }
   ],
   "source": [
    "for rule in fp.get_rules()[:5]:\n",
    "    print(rule)\n",
    "print(\"...\")"
   ]
  },
  {
   "cell_type": "markdown",
   "id": "8be6daaa-3cf7-4448-b270-e99257ee82e0",
   "metadata": {},
   "source": [
    "次に、`pour:`から始まるノードを抽出し、逆順で表示します。これが初期状態から目標状態までのルートになります。"
   ]
  },
  {
   "cell_type": "code",
   "execution_count": 34,
   "id": "0f77c2af-d29f-4955-86f8-010d8e5d5940",
   "metadata": {},
   "outputs": [
    {
     "name": "stdout",
     "output_type": "stream",
     "text": [
      "pour: 8, 0, 0 -> 3, 5, 0\n",
      "pour: 3, 5, 0 -> 3, 2, 3\n",
      "pour: 3, 2, 3 -> 6, 2, 0\n",
      "pour: 6, 2, 0 -> 6, 0, 2\n",
      "pour: 6, 0, 2 -> 1, 5, 2\n",
      "pour: 1, 5, 2 -> 1, 4, 3\n",
      "pour: 1, 4, 3 -> 4, 4, 0\n"
     ]
    }
   ],
   "source": [
    "steps = []\n",
    "for node in iter_all_children(ans):\n",
    "    if str(node).startswith(\"pour:\"):\n",
    "        steps.append(node)\n",
    "\n",
    "for step in steps[::-1]:\n",
    "    print(step)"
   ]
  },
  {
   "cell_type": "markdown",
   "id": "4953509c-3966-46f1-9440-eeef49e9ff52",
   "metadata": {},
   "source": [
    "## pour述語をルールにする\n",
    "\n",
    "上の節では、Pythonのコードですべての辺を計算し、`pour`述語を事実として登録しました。今回は`pour`述語をルールとして登録し、`state`述語を事実として登録します。"
   ]
  },
  {
   "cell_type": "code",
   "execution_count": 12,
   "id": "b8fcedb8-98dc-4d04-9056-407970027963",
   "metadata": {},
   "outputs": [
    {
     "name": "stdout",
     "output_type": "stream",
     "text": [
      "sat\n",
      "CPU times: total: 438 ms\n",
      "Wall time: 460 ms\n"
     ]
    }
   ],
   "source": [
    "fp = Fixedpoint()\n",
    "fp.set(engine='datalog')\n",
    "fp.set('datalog.generate_explanations', True)\n",
    "\n",
    "s = BitVecSort(5)\n",
    "state = Function('state', s, s, s, BoolSort())\n",
    "pour = Function('pour', s, s, s, s, s, s, BoolSort())\n",
    "plan = Function('plan', s, s, s, s, s, s, BoolSort())\n",
    "a, b, c, a1, b1, c1, a2, b2, c2 = Consts(['a', 'b', 'c', 'a1', 'b1', 'c1', 'a2', 'b2', 'c2'], s)\n",
    "fp.register_relation(state, pour, plan)\n",
    "fp.declare_var(a, b, c, a1, b1, c1, a2, b2, c2)\n",
    "\n",
    "fp.rule(\n",
    "    plan(a, b, c, a2, b2, c2),\n",
    "    pour(a, b, c, a2, b2, c2)\n",
    ")\n",
    "\n",
    "fp.rule(\n",
    "    plan(a, b, c, a2, b2, c2),\n",
    "    [pour(a, b, c, a1, b1, c1), plan(a1, b1, c1, a2, b2, c2)]\n",
    ")\n",
    "\n",
    "fp.rule(\n",
    "    pour(a, b, c, a1, b1, c1),\n",
    "    [\n",
    "        state(a, b, c),\n",
    "        state(a1, b1, c1),\n",
    "         Or(\n",
    "             And(a == a1, b != b1, Or(b1 == 0, b1 == 5, c1 == 0, c1 == 3)),\n",
    "             And(b == b1, a != a1, Or(a1 == 0, a1 == 8, c1 == 0, c1 == 3)),\n",
    "             And(c == c1, a != a1, Or(a1 == 0, a1 == 8, b1 == 0, b1 == 5)),\n",
    "         )\n",
    "    ], \n",
    ")\n",
    "\n",
    "for a, b, c in product(range(9), range(6), range(4)):\n",
    "    if a + b + c == 8:\n",
    "        fp.fact(state(a, b, c), f'{a}, {b}, {c}')\n",
    "\n",
    "%time print(fp.query(plan(8, 0, 0, 4, 4, 0)))\n",
    "ans = fp.get_answer()"
   ]
  },
  {
   "cell_type": "code",
   "execution_count": 13,
   "id": "a8e3e59f-1494-43f1-9aa4-41b99acacecb",
   "metadata": {},
   "outputs": [
    {
     "name": "stdout",
     "output_type": "stream",
     "text": [
      "8, 0, 0 -> 3, 5, 0\n",
      "3, 5, 0 -> 3, 2, 3\n",
      "3, 2, 3 -> 6, 2, 0\n",
      "6, 2, 0 -> 6, 0, 2\n",
      "6, 0, 2 -> 1, 5, 2\n",
      "1, 5, 2 -> 1, 4, 3\n",
      "1, 4, 3 -> 4, 4, 0\n"
     ]
    }
   ],
   "source": [
    "steps = []\n",
    "for node in iter_all_children(ans):\n",
    "    if str(node).startswith(\"pour(\"):\n",
    "        steps.append(f'{node.arg(0)} -> {node.arg(1)}')\n",
    "\n",
    "for step in steps[::-1]:\n",
    "    print(step)"
   ]
  },
  {
   "cell_type": "markdown",
   "id": "457c56e4-1f3b-42f1-8600-bad2cd97b2ab",
   "metadata": {},
   "source": [
    "次は`state`述語を宣言します。`state(a, b, c)` は、バケツ `a`, `b`, `c` の水の状態を表します。\n",
    "\n",
    "```python\n",
    "s = BitVecSort(5)\n",
    "state = Function('state', s, s, s, BoolSort())\n",
    "```\n",
    "\n",
    "次は`pour`述語のルールです。このルールでは、`state(a, b, c)` と `state(a1, b1, c1)` の間で、どのバケツからどのバケツへ水を移動できるかを定義しています。移動可能な条件として、特定のバケツに水を移動できるかどうかを `Or` と `And` を使って指定しています。\n",
    "\n",
    "```python\n",
    "fp.rule(\n",
    "   pour(a, b, c, a1, b1, c1),\n",
    "   [\n",
    "       state(a, b, c),\n",
    "       state(a1, b1, c1),\n",
    "       Or(\n",
    "           And(a == a1, b != b1, Or(b1 == 0, b1 == 5, c1 == 0, c1 == 3)),\n",
    "           And(b == b1, a != a1, Or(a1 == 0, a1 == 8, c1 == 0, c1 == 3)),\n",
    "           And(c == c1, a != a1, Or(a1 == 0, a1 == 8, b1 == 0, b1 == 5)),\n",
    "       )\n",
    "   ],\n",
    ")\n",
    "```\n",
    "\n",
    "最後に、`state`を事実として登録します。水の量が合計8リットルである状態をすべて列挙します。\n",
    "\n",
    "```python\n",
    "for a, b, c in product(range(9), range(6), range(4)):\n",
    "   if a + b + c == 8:\n",
    "       fp.fact(state(a, b, c), f'{a}, {b}, {c}')\n",
    "```"
   ]
  },
  {
   "cell_type": "markdown",
   "id": "0423d4d6-1e15-489b-952a-d97c470ffa26",
   "metadata": {},
   "source": [
    "## state述語をルールにする\n",
    "\n",
    "次のコードでは、`state`述語もルールとして定義します。この場合、`bucket_a`、`bucket_b`、`bucket_c`の三つの述語を定義し、これらを使って各バケツに可能な水の量を事実として登録します。"
   ]
  },
  {
   "cell_type": "code",
   "execution_count": 14,
   "id": "58ce489a-8962-4f16-90e4-edc832a9a03e",
   "metadata": {},
   "outputs": [
    {
     "name": "stdout",
     "output_type": "stream",
     "text": [
      "sat\n",
      "CPU times: total: 5.97 s\n",
      "Wall time: 6.31 s\n"
     ]
    }
   ],
   "source": [
    "fp = Fixedpoint()\n",
    "fp.set(engine='datalog')\n",
    "fp.set('datalog.generate_explanations', True)\n",
    "s = BitVecSort(5)\n",
    "\n",
    "bucket_a = Function('bucket_a', s, BoolSort())\n",
    "bucket_b = Function('bucket_b', s, BoolSort())\n",
    "bucket_c = Function('bucket_c', s, BoolSort())\n",
    "state = Function('state', s, s, s, BoolSort())\n",
    "pour = Function('pour', s, s, s, s, s, s, BoolSort())\n",
    "plan = Function('plan', s, s, s, s, s, s, BoolSort())\n",
    "a, b, c, a1, b1, c1, a2, b2, c2 = Consts(['a', 'b', 'c', 'a1', 'b1', 'c1', 'a2', 'b2', 'c2'], s)\n",
    "fp.register_relation(state, pour, plan, bucket_a, bucket_b, bucket_c)\n",
    "fp.declare_var(a, b, c, a1, b1, c1, a2, b2, c2)\n",
    "\n",
    "fp.rule(\n",
    "    plan(a, b, c, a2, b2, c2),\n",
    "    pour(a, b, c, a2, b2, c2)\n",
    ")\n",
    "\n",
    "fp.rule(\n",
    "    plan(a, b, c, a2, b2, c2),\n",
    "    [pour(a, b, c, a1, b1, c1), plan(a1, b1, c1, a2, b2, c2)]\n",
    ")\n",
    "\n",
    "fp.rule(\n",
    "    pour(a, b, c, a1, b1, c1),\n",
    "    [\n",
    "        state(a, b, c),\n",
    "        state(a1, b1, c1),\n",
    "         Or(\n",
    "             And(a == a1, b != b1, Or(b1 == 0, b1 == 5, c1 == 0, c1 == 3)),\n",
    "             And(b == b1, a != a1, Or(a1 == 0, a1 == 8, c1 == 0, c1 == 3)),\n",
    "             And(c == c1, a != a1, Or(a1 == 0, a1 == 8, b1 == 0, b1 == 5)),\n",
    "         )\n",
    "    ], \n",
    ")\n",
    "\n",
    "fp.rule(\n",
    "    state(a, b, c),\n",
    "    [bucket_a(a), bucket_b(b), bucket_c(c), a + b + c == 8],\n",
    ")\n",
    "\n",
    "for i in range(sizes[0] + 1):\n",
    "    fp.fact(bucket_a(i), str(i))\n",
    "\n",
    "for i in range(sizes[1] + 1):\n",
    "    fp.fact(bucket_b(i), str(i))\n",
    "\n",
    "for i in range(sizes[2] + 1):\n",
    "    fp.fact(bucket_c(i), str(i))\n",
    "\n",
    "%time print(fp.query(plan(8, 0, 0, 4, 4, 0)))\n",
    "ans = fp.get_answer()"
   ]
  },
  {
   "cell_type": "markdown",
   "id": "72165066-1b1d-4def-81d4-74f682466181",
   "metadata": {},
   "source": [
    "同じ結果が得られますが、かなり時間がかかりました。原因は、`state`述語のルールを追加したことで、計算の対象となる状態の数が増えたため、探索すべき状態が増加したことです。そのため、計算に時間がかかるようになりました。"
   ]
  },
  {
   "cell_type": "code",
   "execution_count": 15,
   "id": "6361b066-9e0e-4a6c-99d5-b123320c0574",
   "metadata": {},
   "outputs": [
    {
     "name": "stdout",
     "output_type": "stream",
     "text": [
      "8, 0, 0 -> 3, 5, 0\n",
      "3, 5, 0 -> 3, 2, 3\n",
      "3, 2, 3 -> 6, 2, 0\n",
      "6, 2, 0 -> 6, 0, 2\n",
      "6, 0, 2 -> 1, 5, 2\n",
      "1, 5, 2 -> 1, 4, 3\n",
      "1, 4, 3 -> 4, 4, 0\n"
     ]
    }
   ],
   "source": [
    "steps = []\n",
    "for node in iter_all_children(ans):\n",
    "    if str(node).startswith(\"pour(\"):\n",
    "        node1 = \", \".join(map(str, node.arg(0).children()))\n",
    "        node2 = \", \".join(map(str, node.arg(1).children()))\n",
    "        steps.append(f\"{node1} -> {node2}\")\n",
    "\n",
    "for step in steps[::-1]:\n",
    "    print(step)"
   ]
  }
 ],
 "metadata": {
  "kernelspec": {
   "display_name": "Python 3 (ipykernel)",
   "language": "python",
   "name": "python3"
  },
  "language_info": {
   "codemirror_mode": {
    "name": "ipython",
    "version": 3
   },
   "file_extension": ".py",
   "mimetype": "text/x-python",
   "name": "python",
   "nbconvert_exporter": "python",
   "pygments_lexer": "ipython3",
   "version": "3.12.2"
  }
 },
 "nbformat": 4,
 "nbformat_minor": 5
}
