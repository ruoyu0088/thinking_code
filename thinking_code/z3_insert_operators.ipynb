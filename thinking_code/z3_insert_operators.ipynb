{
 "cells": [
  {
   "attachments": {},
   "cell_type": "markdown",
   "id": "e03e2916-42d0-4edb-87ad-1185543ddb4f",
   "metadata": {},
   "source": [
    "# 数式の演算子配置問題\n",
    "\n",
    "> 次の式に対して、`?` に `+`, `-`, `*` のいずれかを入れ、括弧を適切に配置して式の値が 99 になるようにしてください。\n",
    "> \n",
    "> `1 ? 2 ? 3 ? 4 ? 5 ? 6 ? 7 ? 8 ? 9 = 99`"
   ]
  },
  {
   "cell_type": "code",
   "execution_count": 1,
   "id": "17d0809a-e425-4138-955d-e5082a2d4d3b",
   "metadata": {},
   "outputs": [],
   "source": [
    "from z3 import *\n",
    "from helper.z3 import all_solutions"
   ]
  },
  {
   "cell_type": "markdown",
   "id": "4ad5c7a2-e12f-4b7f-8884-62caf5cdb004",
   "metadata": {},
   "source": [
    "## 解き方"
   ]
  },
  {
   "cell_type": "markdown",
   "id": "a4b07600-0de6-4015-b3ae-8805c79197ce",
   "metadata": {},
   "source": [
    "24を求める問題では、数式中の数値の順番は自由に選べますが、この問題では数値の順番が固定されています。ただし、括弧を用いることで計算の順序を変えることが可能です。そのため、次のグラフのように計算を進めます。\n",
    "\n",
    "```{mermaid}\n",
    "graph\n",
    "a1[1]\n",
    "a2[2]\n",
    "a3[3+4]\n",
    "a4[5]\n",
    "b1[1*2]\n",
    "b2[3+4]\n",
    "b3[5]\n",
    "c1[1*2]\n",
    "c2[3+4-5]\n",
    "d1[1*2+3+4-5]\n",
    "1 --> a1\n",
    "2 --> a2\n",
    "3 --> a3\n",
    "4 --> a3\n",
    "5 --> a4\n",
    "a1 --> b1\n",
    "a2 --> b1\n",
    "a3 --> b2\n",
    "a4 --> b3\n",
    "b1 --> c1\n",
    "b2 --> c2\n",
    "b3 --> c2\n",
    "c1 --> d1\n",
    "c2 --> d1\n",
    "```\n",
    "\n",
    "この例では、1～5の数値があり、まず演算子を挿入する位置と種類を決定し、その演算を実行します。演算を行うたびに数値の個数が1つ減り、この操作を繰り返すことで、最終的に1つの数値だけが残ります。\n",
    "\n",
    "この処理は、以下のようにプログラムで実装できます。"
   ]
  },
  {
   "cell_type": "code",
   "execution_count": 5,
   "id": "ea72e275-6092-48f1-8b9a-bc2b9f58f9d7",
   "metadata": {},
   "outputs": [],
   "source": [
    "def calc_op(x1, x2, op):\n",
    "    return If(op == 0, x1 + x2, If(op == 1, x1 - x2, x1 * x2))\n",
    "\n",
    "def calc_tree(f, locs, ops):\n",
    "    exprs = []\n",
    "    for l, fn in enumerate(f[1:], 1):\n",
    "        fp = f[l - 1]\n",
    "        for i in range(len(f[l])):\n",
    "            exprs.extend([\n",
    "                Implies(i  < locs[l - 1], fn[i] == fp[i]),\n",
    "                Implies(i == locs[l - 1], fn[i] == calc_op(fp[i], fp[i + 1], ops[l - 1])),\n",
    "                Implies(i  > locs[l - 1], fn[i] == fp[i + 1])\n",
    "            ])\n",
    "    return exprs"
   ]
  },
  {
   "cell_type": "markdown",
   "id": "307f6c97-df5d-47df-811c-1844b8d71d34",
   "metadata": {},
   "source": [
    "次に、演算子の位置と種類を固定し、動作を確認します。"
   ]
  },
  {
   "cell_type": "code",
   "execution_count": 6,
   "id": "c32bd317-593f-4668-a2a8-557c0829d8bd",
   "metadata": {},
   "outputs": [
    {
     "name": "stdout",
     "output_type": "stream",
     "text": [
      "[f2_2 = 5,\n",
      " f0_4 = 5,\n",
      " f1_3 = 5,\n",
      " f0_1 = 2,\n",
      " f3_0 = 2,\n",
      " f1_0 = 1,\n",
      " f2_0 = 2,\n",
      " f0_2 = 3,\n",
      " f3_1 = 2,\n",
      " f1_1 = 2,\n",
      " f2_1 = 7,\n",
      " f0_3 = 4,\n",
      " f4_0 = 4,\n",
      " f1_2 = 7,\n",
      " f0_0 = 1]\n"
     ]
    }
   ],
   "source": [
    "n = 5\n",
    "f = [[Int(f'f{l}_{i}') for i in range(n - l)] for l in range(n)]\n",
    "init = [f[0][i] == i + 1 for i in range(n)]\n",
    "locs = [2, 0, 1, 0]\n",
    "ops = [0, 2, 1, 0]\n",
    "solve(init + calc_tree(f, locs, ops))"
   ]
  },
  {
   "attachments": {},
   "cell_type": "markdown",
   "id": "1f812989-1c54-47d2-a9d4-0f818d324a3f",
   "metadata": {},
   "source": [
    "## If 関数  \n",
    "\n",
    "上のコードでは、`If` 関数を使って、数値で表された演算子に応じた演算結果を計算しています。  \n",
    "`If` 関数は `If(condition, true_value, false_value)` の形式で条件分岐を行い、条件が真の場合と偽の場合で異なる値を返します。  \n",
    "\n",
    "次のコードでは、`If` 関数を使って `op` の値に応じた異なる演算（`+`, `-`, `*`）を選択しています：  \n",
    "\n",
    "```python\n",
    "If(op == 0, x1 + x2, If(op == 1, x1 - x2, x1 * x2))\n",
    "```\n",
    "\n",
    "これは、`op` の値に応じて以下のように動作します：  \n",
    "\n",
    "- `op == 0` の場合：`x1 + x2`  \n",
    "- `op == 1` の場合：`x1 - x2`  \n",
    "- `op == 2` の場合：`x1 * x2`  \n",
    "\n",
    "このように、`If` を入れ子にすることで、複数の条件分岐を扱うことができます。  "
   ]
  },
  {
   "attachments": {},
   "cell_type": "markdown",
   "id": "bfd31d77-fd5e-47fb-bdcf-82664eeb61b4",
   "metadata": {},
   "source": [
    "## コード\n",
    "\n",
    "以下のコードでは、上の`calc_op()`と`calc_tree()`を使用して演算子と計算の組み合わせを探索し、`1 から 9 までの数値` を使って `99` を作る組み合わせを求めます。"
   ]
  },
  {
   "cell_type": "code",
   "execution_count": 3,
   "id": "44d800a5-2a10-45a6-8593-7d7769cbbe33",
   "metadata": {},
   "outputs": [
    {
     "name": "stdout",
     "output_type": "stream",
     "text": [
      "sat\n",
      "levels\n",
      "[1, 2, 3, 4, 5, 6, 7, 8, 9]\n",
      "[1, 2, 7, 5, 6, 7, 8, 9]\n",
      "[1, 2, 7, 5, 6, -1, 9]\n",
      "[1, 2, 7, 5, 7, 9]\n",
      "[1, 9, 5, 7, 9]\n",
      "[1, 4, 7, 9]\n",
      "[1, 11, 9]\n",
      "[11, 9]\n",
      "[99]\n",
      "locations\n",
      "[2, 5, 4, 1, 1, 1, 0, 0]\n",
      "ops\n",
      "['+', '-', '-', '+', '-', '+', '*', '*']\n"
     ]
    }
   ],
   "source": [
    "solver = Solver()\n",
    "\n",
    "n = 9\n",
    "f = [[Int(f'f{l}_{i}') for i in range(n - l)] for l in range(n)]\n",
    "\n",
    "for i in range(n):\n",
    "    solver.add(f[0][i] == i + 1)\n",
    "\n",
    "locs = IntVector('loc', n - 1)\n",
    "ops = IntVector('op', n - 1)\n",
    "\n",
    "for i, loc in enumerate(locs):\n",
    "    solver.add(0 <= loc, loc < n - i - 1)\n",
    "\n",
    "for op in ops:\n",
    "    solver.add(0 <= op, op <= 2)\n",
    "\n",
    "solver.add(calc_tree(f, locs, ops))\n",
    "\n",
    "solver.add(f[-1][0] == 99)\n",
    "\n",
    "print(solver.check())\n",
    "m = solver.model()\n",
    "print(\"levels\")\n",
    "for level in range(n):\n",
    "    print([m[f[level][i]] for i in range(n - level)])\n",
    "\n",
    "print(\"locations\")\n",
    "print([m[x] for x in locs])\n",
    "print(\"ops\")\n",
    "print(['+-*'[m[x].as_long()] for x in ops])"
   ]
  },
  {
   "cell_type": "markdown",
   "id": "c374fb2b-81ff-4404-a77a-0fb5b5156ecc",
   "metadata": {},
   "source": [
    "## 数式に出力"
   ]
  },
  {
   "cell_type": "markdown",
   "id": "fb8d4f3d-40a9-4de3-8cf2-06ee5de9bc61",
   "metadata": {},
   "source": [
    "以下のコードでは、演算子の位置と種類を用いて数式を出力します。"
   ]
  },
  {
   "cell_type": "code",
   "execution_count": 4,
   "id": "c602f55f-9955-4077-9196-3236a6fe7894",
   "metadata": {},
   "outputs": [
    {
     "name": "stdout",
     "output_type": "stream",
     "text": [
      "1 * (2 + 3 + 4 - 5 + 6 - (7 - 8)) * 9 99\n"
     ]
    }
   ],
   "source": [
    "class Expr:\n",
    "    def __init__(self, expr_l, op, expr_r):\n",
    "        self.expr_l = expr_l\n",
    "        self.op = op\n",
    "        self.expr_r = expr_r\n",
    "\n",
    "    def __str__(self):\n",
    "        if isinstance(self.expr_l, Expr) and self.op in '*' and self.expr_l.op in '+-':\n",
    "            left = f'({self.expr_l})'\n",
    "        else:\n",
    "            left = f'{self.expr_l}'\n",
    "\n",
    "        if isinstance(self.expr_r, Expr) and self.op in '*-' and self.expr_r.op in '+-':\n",
    "            right = f'({self.expr_r})'\n",
    "        else:\n",
    "            right = f'{self.expr_r}'\n",
    "\n",
    "        return f'{left} {self.op} {right}'\n",
    "\n",
    "def output(numbers, locs, ops):\n",
    "    numbers = [str(x) for x in numbers]\n",
    "    for i, op in zip(locs, ops):\n",
    "        op = '+-*'[op]\n",
    "        n1, n2 = numbers[i], numbers[i + 1]\n",
    "        numbers[i] = Expr(n1, op, n2)\n",
    "        del numbers[i + 1]\n",
    "    return str(numbers[0])\n",
    "\n",
    "expr = output(\n",
    "    [m[x].as_long() for x in f[0]],\n",
    "    [m[x].as_long() for x in locs],\n",
    "    [m[x].as_long() for x in ops]\n",
    ")\n",
    "print(expr, eval(expr))"
   ]
  }
 ],
 "metadata": {
  "kernelspec": {
   "display_name": "Python 3 (ipykernel)",
   "language": "python",
   "name": "python3"
  },
  "language_info": {
   "codemirror_mode": {
    "name": "ipython",
    "version": 3
   },
   "file_extension": ".py",
   "mimetype": "text/x-python",
   "name": "python",
   "nbconvert_exporter": "python",
   "pygments_lexer": "ipython3",
   "version": "3.12.2"
  }
 },
 "nbformat": 4,
 "nbformat_minor": 5
}
