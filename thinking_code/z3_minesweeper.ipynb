{
 "cells": [
  {
   "cell_type": "markdown",
   "id": "f5789bc2-2b4c-47ef-a331-3b3701b62ef0",
   "metadata": {},
   "source": [
    "# マインスイーパー"
   ]
  },
  {
   "cell_type": "markdown",
   "id": "437a2a7a-0985-4b3f-a49b-15e7b7bba25f",
   "metadata": {},
   "source": [
    "マインスイーパーは、数字で示された周囲のセルに爆弾（地雷）がいくつ存在するかをヒントに、安全なセルを見つけるパズルです。プレイヤーは、各セルに対して爆弾があるかどうかを推理しながらマスを開けていきます。数字は、開かれたセルの周りにある爆弾の数を示しています。空白のセルは爆弾がないことを意味します。\n",
    "\n",
    "この問題をZ3のSATソルバーを使って解く方法について考えていきます。与えられたボードの中から爆弾がない、安全なセルを求めるプログラムを作成します。"
   ]
  },
  {
   "cell_type": "code",
   "execution_count": 21,
   "id": "09d1a723-fd8c-4d33-a096-6b5b49fa82a7",
   "metadata": {},
   "outputs": [],
   "source": [
    "from z3 import *"
   ]
  },
  {
   "cell_type": "markdown",
   "id": "2ed0da7d-24f8-426c-9ad0-7ada80f50a76",
   "metadata": {},
   "source": [
    "## 考える点\n",
    "\n",
    "- マインスイーパーのルールに従い、各数字はその周囲にある地雷の数を示しており、すべての周囲のセルをチェックしなければならない。\n",
    "- 解を求めるためには、各セルが地雷でない（爆弾でない）という制約をSATソルバーに与え、矛盾が発生しないかチェックする必要がある。\n",
    "- そのためには、まず各セルの隣接セルを調べ、それぞれに対して制約条件を追加していく必要がある。"
   ]
  },
  {
   "cell_type": "markdown",
   "id": "e6c8e3ec-d7bd-4336-a88e-f7ea2dd0fa5d",
   "metadata": {},
   "source": [
    "## 解法の概要\n",
    "\n",
    "1. **隣接セルを取得する関数 (`get_neighbors`)**  \n",
    "   各セルの周囲にある隣接セルをリストとして返す関数です。この関数は、与えられたセルの位置（x, y）とボードの幅と高さをもとに、セルの8方向（斜めを含む）を計算します。\n",
    "\n",
    "2. **ボードの状態を解く関数 (`solve_board`)**  \n",
    "   ボードを表す文字列から、各セルの情報を取り出して、隣接するセルの情報をZ3の制約に変換していきます。具体的には、数字で示されたセル周りにある隣接セルがすべて爆弾でないことを制約条件として追加します。\n",
    "\n",
    "3. **安全なセルの特定 (`solver.push()`, `solver.add()`, `solver.pop()`)**  \n",
    "   各セルが安全であるかどうかを確認するために、ソルバーの状態を変更し、矛盾（unsat）を検出して安全なセルを特定します。"
   ]
  },
  {
   "cell_type": "markdown",
   "id": "ca22d5b2-ceae-46a2-a28b-70353285e8b8",
   "metadata": {},
   "source": [
    "## コード\n",
    "\n",
    "次はマインスイーパーを解くプログラムです。`solve_board()` 関数は安全なセルのリストを返します。"
   ]
  },
  {
   "cell_type": "code",
   "execution_count": null,
   "id": "47e11e95-33c0-44b0-8bac-d38b5ea93239",
   "metadata": {},
   "outputs": [],
   "source": [
    "def get_neighbors(cell, h, w):\n",
    "    cx, cy = cell\n",
    "    directions = [\n",
    "        (-1, -1), (-1, 0), (-1, 1),\n",
    "        (0, -1),         (0, 1),\n",
    "        (1, -1), (1, 0), (1, 1)\n",
    "    ]\n",
    "\n",
    "    neighbors = []\n",
    "\n",
    "    for dy, dx in directions:\n",
    "        nx, ny = cx + dx, cy + dy\n",
    "        if 0 <= ny < h and 0 <= nx < w:\n",
    "            neighbors.append((nx, ny))\n",
    "    return neighbors\n",
    "\n",
    "def solve_board(board_str):\n",
    "    board = board_str.strip().split()\n",
    "    h = len(board)\n",
    "    w = len(board[0])\n",
    "    cells = {}\n",
    "    for y, row in enumerate(board):\n",
    "        for x, v in enumerate(row):\n",
    "            if v != '.':\n",
    "                for nx, ny in get_neighbors((x, y), h, w):\n",
    "                    if board[ny][nx] == '.':\n",
    "                        cells[nx, ny] = Bool(f'{ny}-{nx}')\n",
    "    \n",
    "    solver = Solver()\n",
    "    for y, row in enumerate(board):\n",
    "        for x, v in enumerate(row):\n",
    "            if v != '.':\n",
    "                near_cells = [cells[loc] for loc in get_neighbors((x, y), h, w) if loc in cells]\n",
    "                if near_cells:\n",
    "                    solver.add(Sum(near_cells) == int(v))\n",
    "    \n",
    "    safe_positions = []            \n",
    "    for cell in cells.values():\n",
    "        solver.push()\n",
    "        solver.add(cell == True)\n",
    "        if solver.check() == unsat:\n",
    "            safe_positions.append(str(cell))\n",
    "        solver.pop()\n",
    "    return safe_positions\n",
    "\n",
    "def show_result(board_str, safe_positions):\n",
    "    board = [list(row) for row in board_str.strip().split()]\n",
    "    for cell in safe_positions:\n",
    "        y, x = map(int, cell.split('-'))\n",
    "        board[y][x] = '#'\n",
    "    print(\"\\n\".join(\" \".join(row) for row in board))"
   ]
  },
  {
   "cell_type": "markdown",
   "id": "ffc2348d-5cb1-4e97-aef2-e0d69dd7b083",
   "metadata": {},
   "source": [
    "## 実行例"
   ]
  },
  {
   "attachments": {},
   "cell_type": "markdown",
   "id": "f411062d-ebe4-47ea-b37d-0e8776147b9e",
   "metadata": {},
   "source": [
    "上の関数を使って、次のマインスイーパーの状態を解いてみます。\n",
    "\n",
    "![minesweeper](images/minesweeper01.png)"
   ]
  },
  {
   "cell_type": "code",
   "execution_count": 22,
   "id": "d4867b3a-482c-4d77-bec1-fc59c3efeb9e",
   "metadata": {},
   "outputs": [
    {
     "name": "stdout",
     "output_type": "stream",
     "text": [
      "['0-6', '2-2', '3-2', '1-7', '4-2', '3-8', '3-9', '3-11', '4-11', '4-1', '4-12', '4-13', '4-15', '4-16', '4-17', '4-19', '4-20', '6-21', '7-21', '8-21', '9-5', '9-21', '10-21', '13-5', '14-5', '12-22', '15-5', '16-7', '16-9', '16-10', '16-11', '16-19', '16-22', '17-18', '17-19', '17-11', '18-11', '18-12', '18-13', '18-14', '18-15', '18-16', '18-17']\n",
      ". . . 2 0 1 # . . . . . . . . . . . . . . . . .\n",
      ". . . 2 0 1 . # . . . . . . . . . . . . . . . .\n",
      ". . # 1 0 1 3 . . . . . . . . . . . . . . . . .\n",
      ". . # 1 1 0 2 . # # . # . . . . . . . . . . . .\n",
      ". # # . 1 0 1 1 1 2 3 # # # . # # # . # # . . .\n",
      ". . 2 1 1 0 0 0 1 2 . . . 2 2 2 1 1 1 2 2 . . .\n",
      ". . 2 0 0 0 0 1 2 . 3 3 2 1 2 . 3 1 1 1 . # . .\n",
      ". . 4 2 1 0 0 2 . 3 1 0 0 0 2 . 3 . 1 2 2 # . .\n",
      ". . . . 3 2 2 4 . 3 1 0 0 0 1 1 2 1 1 1 . # . .\n",
      ". . . . . # . . 4 . 2 0 0 0 0 0 0 1 1 2 1 # . .\n",
      ". . . . . . . 4 3 . 2 0 0 0 0 0 1 2 . 1 1 # . .\n",
      ". . . . . . . 3 1 2 2 2 1 1 0 0 1 . 2 1 2 . . .\n",
      ". . . . . . . 2 0 2 . 3 . 1 0 0 1 1 2 1 3 . # .\n",
      ". . . . . # 2 1 0 3 . 4 2 2 1 0 0 0 1 . 2 1 3 .\n",
      ". . . . . # 1 1 1 2 . 4 3 . 1 1 1 2 3 3 2 0 2 .\n",
      ". . . . . # 2 . 2 2 2 . . 3 1 1 . 3 . . 2 1 2 .\n",
      ". . . . . . . # . # # # . 2 1 2 4 . 4 # . . # .\n",
      ". . . . . . . . . . . # 1 1 1 . 3 . # # . . . .\n",
      ". . . . . . . . . . . # # # # # # # . . . . . .\n",
      ". . . . . . . . . . . . . . . . . . . . . . . .\n"
     ]
    }
   ],
   "source": [
    "board_str = \"\"\"\n",
    "...201..................\n",
    "...201..................\n",
    "...1013.................\n",
    "...1102.................\n",
    "....1011123.............\n",
    "..21100012...22211122...\n",
    "..2000012.33212.3111....\n",
    "..421002.310002.3.122...\n",
    "....3224.31000112111....\n",
    "........4.20000001121...\n",
    ".......43.20000012.11...\n",
    ".......3122211001.212...\n",
    ".......202.3.10011213...\n",
    "......2103.42210001.213.\n",
    "......1112.43.111233202.\n",
    "......2.222..311.3..212.\n",
    ".............2124.4.....\n",
    "............111.3.......\n",
    "........................\n",
    "........................\n",
    "\"\"\"\n",
    "\n",
    "safe_positions = solve_board(board_str)\n",
    "print(safe_positions)\n",
    "show_result(board_str, safe_positions)"
   ]
  },
  {
   "cell_type": "markdown",
   "id": "0fd5a8dd-c65c-44a0-9410-95d5503e73a4",
   "metadata": {},
   "source": [
    "## コードの詳細な説明"
   ]
  },
  {
   "cell_type": "markdown",
   "id": "6feac57a-38a2-4ad1-9266-9b41fd7514f2",
   "metadata": {},
   "source": [
    "### 変数作成"
   ]
  },
  {
   "cell_type": "markdown",
   "id": "b2868ec7-357e-43a4-a89c-3c606ea93b69",
   "metadata": {},
   "source": [
    "`cells` 辞書は、マインスイーパーのボード上の各セルに対してブール変数を管理するために使用されます。辞書のキーはセルの座標 `(x, y)` であり、対応する値はそのセルが「安全であるかどうか」を示すブール変数です。この変数は Z3 の `Bool` 型で表され、後で問題の制約条件として使用されます。\n",
    "\n",
    "以下のコード部分では、ボード上の数字セルの周辺の未開きセルに対してブール変数を作成して`cells`辞書に格納しています：\n",
    "\n",
    "```python\n",
    "cells = {}\n",
    "for y, row in enumerate(board):\n",
    "    for x, v in enumerate(row):\n",
    "        if v != '.':\n",
    "            for nx, ny in get_neighbors((x, y), h, w):\n",
    "                if board[ny][nx] == '.':\n",
    "                    cells[nx, ny] = Bool(f'{ny}-{nx}')\n",
    "```\n",
    "\n",
    "数字セルと隣接しないセルの状態が判定できないので、`cells` には格納しません。"
   ]
  },
  {
   "cell_type": "markdown",
   "id": "b32d527b-7b01-46e9-b1fa-6f1094b569f7",
   "metadata": {},
   "source": [
    "### 制約条件の追加"
   ]
  },
  {
   "cell_type": "markdown",
   "id": "baf9961b-02cb-4513-99e9-a359492865cb",
   "metadata": {},
   "source": [
    "制約条件の部分では、各数字セルに対してその周辺の未開きセルの総和がそのセルの値（数字）に等しいという条件を追加しています。これにより、数字セルが示す地雷の数を満たすように、未開きセルの状態（安全か地雷か）が決定されます。\n",
    "\n",
    "以下のコード部分で制約が追加されています：\n",
    "\n",
    "```python\n",
    "for y, row in enumerate(board):\n",
    "    for x, v in enumerate(row):\n",
    "        if v != '.':  # 数字セルの場合\n",
    "            near_cells = [cells[loc] for loc in get_neighbors((x, y), h, w) if loc in cells]\n",
    "            if near_cells:\n",
    "                solver.add(Sum(near_cells) == int(v))  # 周囲の未開きセルの総和がその数字セルの値に等しい\n",
    "```"
   ]
  },
  {
   "cell_type": "markdown",
   "id": "0ad0c520-d25d-476e-a09f-975ee304b551",
   "metadata": {},
   "source": [
    "### 安全なセルを取得"
   ]
  },
  {
   "cell_type": "markdown",
   "id": "d4669fae-3213-4efb-9ef2-5af901eb3ec0",
   "metadata": {},
   "source": [
    "制約条件を使って直接解を求めるのではなく、絶対に安全なセルを検出するために、`cells` の中の各セルに「水雷がある」という制約条件を一時的に追加して解いてみます。もし解が得られなかった場合、そのセルは安全なセルであると判断できます。こ追加時的な制約条件を削除するために、次のように処理します。\n",
    "\n",
    "1. **一時的に水雷がある制約を追加**:\n",
    "   - 各セルに対して「このセルに水雷がある」という仮定を追加します。これを一時的な制約として、`solver.push()` で解に追加します。\n",
    "\n",
    "2. **制約の解決**:\n",
    "   - `solver.check()` を使って、制約が満たされるかを確認します。もし `unsat` が返された場合、つまり矛盾が生じた場合、そのセルには水雷がない（安全なセル）と判断します。\n",
    "\n",
    "3. **制約の削除**:\n",
    "   - `solver.pop()` を使用して、一時的に追加した制約を削除します。このステップにより次のセルに対して新たな仮定を追加して検証することができます。\n",
    "\n",
    "```python\n",
    "safe_positions = []            \n",
    "for cell in cells.values():\n",
    "    solver.push()  # 一時的な制約を追加する前にsolverの状態を保存\n",
    "    solver.add(cell == True)  # セルに水雷があると仮定\n",
    "    if solver.check() == unsat:  # 矛盾が生じた場合、このセルは安全\n",
    "        safe_positions.append(str(cell))\n",
    "    solver.pop()  # 一時的な制約を削除\n",
    "```\n",
    "\n",
    "- **`solver.push()`**:\n",
    "  - `push()` は Z3 の状態を保存し、新たな制約を追加できるようにします。これにより一時的に水雷があるという制約を追加しても、その後の制約を変更する前に元の状態に戻せるようになります。\n",
    "\n",
    "- **`solver.add(cell == True)`**:\n",
    "  - この行では、セル `cell` に水雷があると仮定します。`cell == True` は、このセルが地雷であるという制約を追加することになります。\n",
    "\n",
    "- **`solver.check()`**:\n",
    "  - `check()` は制約を満たす解が存在するかどうかを確認します。`unsat` は「矛盾が生じて解がない」という意味で返されるため、この場合はそのセルには地雷がない、安全なセルだと判断できます。\n",
    "\n",
    "- **`solver.pop()`**:\n",
    "  - `pop()` は `push()` で保存された Z3 の状態を元に戻します。この操作で一時的に追加した制約を削除し、次のセルに対して新しい仮定を試す準備をします。"
   ]
  }
 ],
 "metadata": {
  "kernelspec": {
   "display_name": "Python 3 (ipykernel)",
   "language": "python",
   "name": "python3"
  },
  "language_info": {
   "codemirror_mode": {
    "name": "ipython",
    "version": 3
   },
   "file_extension": ".py",
   "mimetype": "text/x-python",
   "name": "python",
   "nbconvert_exporter": "python",
   "pygments_lexer": "ipython3",
   "version": "3.12.2"
  }
 },
 "nbformat": 4,
 "nbformat_minor": 5
}
