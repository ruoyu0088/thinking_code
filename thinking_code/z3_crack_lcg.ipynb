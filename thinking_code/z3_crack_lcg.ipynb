{
 "cells": [
  {
   "cell_type": "markdown",
   "id": "4ea36a80-9e0e-4773-9982-a61e2254c18d",
   "metadata": {},
   "source": [
    "# 擬似乱数列の予測"
   ]
  },
  {
   "cell_type": "markdown",
   "id": "8e98f528-9594-4dec-9d1e-4d62b682c8b0",
   "metadata": {},
   "source": [
    "疑似乱数は一見ランダムに見えますが、生成アルゴリズムが分かっていれば、その内部状態を推測し、次の値を予測することが可能です。本章では、線形合同法（LCG）を用いた乱数生成の仕組みを解析し、Z3 を用いてシードを逆算し、次に生成される乱数を予測する方法を紹介します。さらに、特定の出力パターンを満たすシードの探索についても考察します。"
   ]
  },
  {
   "cell_type": "markdown",
   "id": "2c205ab2-fb98-4d64-b6d9-20f3e1678efa",
   "metadata": {},
   "source": [
    "## 線形合同法"
   ]
  },
  {
   "cell_type": "markdown",
   "id": "e37cacbd-8e61-497b-a94c-bb58da235d8e",
   "metadata": {},
   "source": [
    "**線形合同法**（Linear Congruential Generator, LCG）は、擬似乱数を生成する手法の一つです。その生成規則は、以下の漸化式で表されます。\n",
    "\n",
    "$$\n",
    "X_{n+1} = \\left(A \\times X_n + B\\right) \\mod M\n",
    "$$\n",
    "\n",
    "ここで、$ A $、$ B $、$ M $ は定数であり、通常以下の条件を満たします。  \n",
    "\n",
    "- $ M > A $\n",
    "- $ M > B $  \n",
    "- $ A > 0 $  \n",
    "- $ B \\geq 0 $  "
   ]
  },
  {
   "attachments": {},
   "cell_type": "markdown",
   "id": "6f2993f5-20f1-4f61-9b2e-5baf2246e207",
   "metadata": {},
   "source": [
    "## `rand()` のコード\n",
    "\n",
    "Visual C++ の `rand()` 関数は線形合同法を用いて乱数を生成します。以下は、そのソースコードです。\n",
    "\n",
    "```c\n",
    "static long holdrand = 1L;\n",
    "\n",
    "int __cdecl rand(void)\n",
    "{\n",
    "    return (((holdrand = holdrand * 214013L + 2531011L) >> 16) & 0x7FFF);\n",
    "}\n",
    "\n",
    "void __cdecl srand(unsigned int seed)\n",
    "{\n",
    "    holdrand = (long)seed;\n",
    "}\n",
    "```\n",
    "\n",
    "この `rand()` 関数は、内部状態 `holdrand` を次の式に基づいて更新し、上位16ビットを抽出して 0 から 32767 (0x7FFF) の範囲の整数を返します。\n",
    "\n",
    "$$\n",
    "\\text{holdrand} = (\\text{holdrand} \\times 214013 + 2531011) \\mod 2^{32}\n",
    "$$\n",
    "\n",
    "次に、同様の動作を Python で模倣するクラス `PseudoRandom` を示します。"
   ]
  },
  {
   "cell_type": "code",
   "execution_count": 1,
   "id": "2589cb96-34cd-4821-94cf-82219ec47ad0",
   "metadata": {},
   "outputs": [],
   "source": [
    "class PseudoRandom:\n",
    "    def __init__(self, seed=1):\n",
    "        self._holdrand = seed\n",
    "    \n",
    "    def srand(self, seed: int):\n",
    "        self._holdrand = seed\n",
    "\n",
    "    def rand(self) -> int:\n",
    "        self._holdrand = (self._holdrand * 214013 + 2531011) & 0xFFFFFFFF  # 32bitで維持\n",
    "        return (self._holdrand >> 16) & 0x7FFF"
   ]
  },
  {
   "cell_type": "markdown",
   "id": "acf88a76-8157-4617-9202-b1562c3f862d",
   "metadata": {},
   "source": [
    "この `PseudoRandom` クラスを用いて、100 以下の整数を 8 個生成し `numbers` に格納し、さらに 9 個目の整数も出力します。"
   ]
  },
  {
   "cell_type": "code",
   "execution_count": 2,
   "id": "dcf642c5-d2af-4f09-afc3-29a6186b55ac",
   "metadata": {},
   "outputs": [
    {
     "name": "stdout",
     "output_type": "stream",
     "text": [
      "[90, 79, 97, 7, 20, 77, 17, 89]\n",
      "16\n"
     ]
    }
   ],
   "source": [
    "rand = PseudoRandom(1792)\n",
    "numbers = [rand.rand() % 100 for _ in range(8)]\n",
    "print(numbers)\n",
    "print(rand.rand() % 100)"
   ]
  },
  {
   "cell_type": "markdown",
   "id": "738756aa-ea84-4139-931a-23052df90c2e",
   "metadata": {},
   "source": [
    "## 乱数列の予測"
   ]
  },
  {
   "cell_type": "markdown",
   "id": "78afdcb4-126d-4669-aff0-d890ea631734",
   "metadata": {},
   "source": [
    "`numbers` に格納された 8 個の乱数をもとに、9 個目の乱数を予測することは可能でしょうか？  ここでは、Z3 を用いて `rand()` の内部状態（シード）を逆算し、次の乱数を求める方法を紹介します。  \n",
    "\n",
    "以下の Python コードでは、既知の乱数列 `numbers` を与えると、対応するシード (`seed_val`) を求め、さらに次に生成される乱数 (`next_val`) を予測します。  "
   ]
  },
  {
   "cell_type": "code",
   "execution_count": 3,
   "id": "6c9b00b1-ab9b-4de1-9dee-2ae78c1bb0f8",
   "metadata": {},
   "outputs": [
    {
     "name": "stdout",
     "output_type": "stream",
     "text": [
      "seed = 1792\n",
      "next = 16\n"
     ]
    }
   ],
   "source": [
    "from z3 import *\n",
    "\n",
    "def find_seed_and_next(numbers, mod, a=214013, b=2531011):\n",
    "    seed = BitVec('seed', 32)\n",
    "    states = [BitVec(f's_{i}', 32) for i in range(len(numbers) + 1)]\n",
    "    outputs = [URem((s >> 16) & 0x7FFF, mod) for s in states]\n",
    "    \n",
    "    solver = Solver()\n",
    "    \n",
    "    for sp, sv in zip([seed] + states[:-1], states):\n",
    "        solver.add(sp * a + b == sv)\n",
    "    \n",
    "    for o, n in zip(outputs, numbers):\n",
    "        solver.add(o == n)\n",
    "    \n",
    "    solver.check()\n",
    "    model = solver.model()\n",
    "    seed_val = model[seed].as_long()\n",
    "    next_val = model.eval(outputs[-1]).as_long()\n",
    "    return seed_val, next_val\n",
    "\n",
    "seed_val, next_val = find_seed_and_next(numbers, mod=100)\n",
    "print(f'seed = {seed_val}')\n",
    "print(f'next = {next_val}')"
   ]
  },
  {
   "cell_type": "markdown",
   "id": "a1342e99-c78c-4516-aadf-927f3588dfd7",
   "metadata": {},
   "source": [
    "ここで求めた `seed_val` は、元の `1792` とは異なりますが、このシードを用いることで同じ乱数列を再現できます。  "
   ]
  },
  {
   "cell_type": "code",
   "execution_count": 4,
   "id": "880a1cc3-b7f0-47be-98af-9d04974e4620",
   "metadata": {},
   "outputs": [
    {
     "data": {
      "text/plain": [
       "[90, 79, 97, 7, 20, 77, 17, 89, 16]"
      ]
     },
     "execution_count": 4,
     "metadata": {},
     "output_type": "execute_result"
    }
   ],
   "source": [
    "rand = PseudoRandom(seed_val)\n",
    "[rand.rand() % 100 for _ in range(9)]"
   ]
  },
  {
   "cell_type": "markdown",
   "id": "bbc7ebca-d7cf-4423-a507-69577f1fc246",
   "metadata": {},
   "source": [
    "次に、`rand() % 6 + 1` でサイコロを模擬する場合、連続 10 回 6 を出力できるシードを探索します。この場合、`rand() % 6` の出力が `5` である必要があります（`5 + 1 = 6` になるため）。次のコードを実行すると、連続 10 回 `6` を出すことができるシード `seed_val` が求められます。    "
   ]
  },
  {
   "cell_type": "code",
   "execution_count": 5,
   "id": "ee8a0b5f-f379-4ba3-939f-70e9f28952b3",
   "metadata": {},
   "outputs": [
    {
     "name": "stdout",
     "output_type": "stream",
     "text": [
      "1522212766\n"
     ]
    },
    {
     "data": {
      "text/plain": [
       "[5, 5, 5, 5, 5, 5, 5, 5, 5, 5, 2]"
      ]
     },
     "execution_count": 5,
     "metadata": {},
     "output_type": "execute_result"
    }
   ],
   "source": [
    "seed_val, next_val = find_seed_and_next([5] * 10, mod=6)\n",
    "print(seed_val)\n",
    "rand = PseudoRandom(seed_val)\n",
    "[rand.rand() % 6 for _ in range(11)]"
   ]
  },
  {
   "attachments": {},
   "cell_type": "markdown",
   "id": "9f00a764-3d33-4111-b11c-ec20b1a304e8",
   "metadata": {},
   "source": [
    "## コードの説明\n",
    "\n",
    "`BitVec` は、Z3 で固定長のビットベクトルを扱うためのデータ型です。Z3 は SMT (Satisfiability Modulo Theories) ソルバーであり、整数や論理式の制約を解く際に `BitVec` を用いることで、「ビット単位の演算」や「オーバーフローを考慮した計算」を行うことができます。\n",
    "\n",
    "`BitVec` 変数は、通常の整数型とは異なり、固定長のビット列として扱われます。例えば、`BitVec('x', 32)` は符号なし32ビット整数のように動作します。`BitVec` 変数は Python のビット演算子を使用して、AND、OR、XOR、シフトなどのビット演算を行うことができます。また、オーバーフローの影響を正確にシミュレーションすることも可能です。\n",
    "\n",
    "一方、`URem` は「Unsigned Remainder（符号なし剰余）」の略で、ビットベクトルに対する剰余演算（%）を行う Z3 の関数です。これは、`BitVec` 型の変数に対して剰余を求める際に使用され、符号なし整数として演算が処理されるという特徴があります。\n",
    "\n",
    "このコードでは、`rand()` の動作を再現し、与えられた 8 個の乱数から 9 個目の乱数を予測するために Z3 を利用しています。まず、N+1 個の状態を表す `BitVec` 型の変数リスト `states`を作成します。\n",
    "\n",
    "**1. `states` の作成**\n",
    "\n",
    "```python\n",
    "states = [BitVec(f's_{i}', 32) for i in range(len(numbers) + 1)]\n",
    "```\n",
    "ここで、各 `states[i]` は、線形合同法（LCG）に基づく疑似乱数生成器の内部状態を表します。\n",
    "\n",
    "**2. `rand()` の出力を計算**\n",
    "\n",
    "```python\n",
    "outputs = [URem((s >> 16) & 0x7FFF, mod) for s in states]\n",
    "```\n",
    "このコードでは、各 `states[i]` から `rand()` の出力 `(state >> 16) & 0x7FFF` を計算し、それを `mod` で割った剰余を `outputs` に格納しています。 この処理により、実際の `rand()` 関数と同じ出力が得られるように制約を設定します。\n",
    "\n",
    "**3. 状態遷移の制約を追加**\n",
    "\n",
    "前後の `states` の関係が、線形合同法（LCG）の漸化式に従うように制約を設定します。\n",
    "```python\n",
    "for sp, sv in zip([seed] + states[:-1], states):\n",
    "    solver.add(sp * a + b == sv)\n",
    "```\n",
    "ここで、`sp` は前の状態、`sv` は次の状態を表し、`sp * a + b == sv` という条件を追加することで、すべての `states` が 線形合同法の式 を満たすように制約を課しています。\n"
   ]
  }
 ],
 "metadata": {
  "kernelspec": {
   "display_name": "Python 3 (ipykernel)",
   "language": "python",
   "name": "python3"
  },
  "language_info": {
   "codemirror_mode": {
    "name": "ipython",
    "version": 3
   },
   "file_extension": ".py",
   "mimetype": "text/x-python",
   "name": "python",
   "nbconvert_exporter": "python",
   "pygments_lexer": "ipython3",
   "version": "3.12.2"
  }
 },
 "nbformat": 4,
 "nbformat_minor": 5
}
