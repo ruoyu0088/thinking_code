{
 "cells": [
  {
   "cell_type": "markdown",
   "id": "85f3eaec-82b2-4f17-8f19-56def169f1df",
   "metadata": {},
   "source": [
    "# コイン数最適化問題"
   ]
  },
  {
   "cell_type": "code",
   "execution_count": 1,
   "id": "5c807408-3aa7-41c0-b177-e841cacc9bbd",
   "metadata": {},
   "outputs": [],
   "source": [
    "from z3 import *\n",
    "from helper.z3 import all_solutions"
   ]
  },
  {
   "cell_type": "markdown",
   "id": "b6bce13f-45e6-417f-8a3b-60b6a2a8e9d4",
   "metadata": {},
   "source": [
    "この問題では、異なる種類のコインを使用して特定の金額を作る際に、必要なコインの枚数を最小化することを目的とします。例えば、134セントを作るために、使用するコインの総数を最小限に抑える最適な組み合わせを求めます。\n",
    "\n",
    "- **利用可能なコインの種類**: 1セント, 2セント, 5セント, 10セント, 25セント, 50セント\n",
    "- **目標金額**: 134セント\n",
    "- **目的**: 使用するコインの総数を最小にする"
   ]
  },
  {
   "cell_type": "markdown",
   "id": "f43b74e3-a7e7-4cb4-ae9c-6133366fc744",
   "metadata": {},
   "source": [
    "## Solverで全解を探索\n",
    "\n",
    "次のプログラムは通常の `Solver` を使って、コインの合計枚数が 8 以下のすべての解を求めます。`all_solutions()` は、本書で提供する関数であり、すべての可能な解を取得できます。"
   ]
  },
  {
   "cell_type": "code",
   "execution_count": 3,
   "id": "72b1b748-34e0-4599-af20-5dd09e1a8bde",
   "metadata": {},
   "outputs": [
    {
     "name": "stdout",
     "output_type": "stream",
     "text": [
      "8 {n_1: 4, n_2: 0, n_5: 1, n_10: 0, n_25: 1, n_50: 2}\n",
      "8 {n_1: 2, n_2: 1, n_5: 0, n_10: 3, n_25: 0, n_50: 2}\n",
      "8 {n_1: 0, n_2: 2, n_5: 2, n_10: 2, n_25: 0, n_50: 2}\n",
      "7 {n_1: 0, n_2: 2, n_5: 0, n_10: 3, n_25: 0, n_50: 2}\n",
      "7 {n_1: 2, n_2: 1, n_5: 1, n_10: 0, n_25: 1, n_50: 2}\n",
      "8 {n_1: 1, n_2: 4, n_5: 0, n_10: 0, n_25: 1, n_50: 2}\n",
      "6 {n_1: 0, n_2: 2, n_5: 1, n_10: 0, n_25: 1, n_50: 2}\n",
      "8 {n_1: 2, n_2: 1, n_5: 1, n_10: 0, n_25: 3, n_50: 1}\n",
      "8 {n_1: 0, n_2: 2, n_5: 1, n_10: 0, n_25: 5, n_50: 0}\n",
      "7 {n_1: 0, n_2: 2, n_5: 1, n_10: 0, n_25: 3, n_50: 1}\n",
      "8 {n_1: 0, n_2: 2, n_5: 0, n_10: 3, n_25: 2, n_50: 1}\n"
     ]
    }
   ],
   "source": [
    "coins = [1, 2, 5, 10, 25, 50]\n",
    "total = 134\n",
    "max_coins = 8\n",
    "\n",
    "x = [Int(f'n_{c}') for c in coins]\n",
    "total_expr = Sum([c*n for c, n in zip(coins, x)])\n",
    "count_expr = Sum(x)\n",
    "s = Solver()\n",
    "for c in x:\n",
    "    s.add(c >= 0)\n",
    "s.add(total_expr == total)\n",
    "s.add(count_expr <= max_coins)\n",
    "\n",
    "for m in all_solutions(s):\n",
    "    print(m.eval(count_expr), {v:m[v] for v in x})"
   ]
  },
  {
   "cell_type": "markdown",
   "id": "3f912095-2151-4943-a1de-484d6e18dc1c",
   "metadata": {},
   "source": [
    "## Optimizeを使う"
   ]
  },
  {
   "cell_type": "markdown",
   "id": "3e634a12-a7b4-4648-84e1-19ffaecc41ea",
   "metadata": {},
   "source": [
    "`Optimize` は、Z3の最適化モジュールであり、制約を満たしつつ目的関数を最小化または最大化する機能を提供します。通常の `Solver` は、与えられた制約を満たす解を見つけることが主な目的ですが、`Optimize` を使用すると、追加の最適化条件を適用し、最適な解を求めることができます。\n",
    "\n",
    "`Optimize` の使い方は `Solver` と似ていますが、`minimize()` または `maximize()` を用いて最小化または最大化する目的関数を設定します。"
   ]
  },
  {
   "cell_type": "code",
   "execution_count": 33,
   "id": "6b4e4e91-4742-4fd8-8342-82ab3158de34",
   "metadata": {},
   "outputs": [
    {
     "name": "stdout",
     "output_type": "stream",
     "text": [
      "6 {n_1: 0, n_2: 2, n_5: 1, n_10: 0, n_25: 1, n_50: 2}\n"
     ]
    }
   ],
   "source": [
    "opt = Optimize()\n",
    "for c in x:\n",
    "    opt.add(c >= 0)\n",
    "    \n",
    "opt.add(total_expr == total)\n",
    "target = opt.minimize(count_expr)\n",
    "\n",
    "opt.check()\n",
    "m = opt.model()\n",
    "print(m.eval(count_expr), {v:m[v] for v in x})"
   ]
  }
 ],
 "metadata": {
  "kernelspec": {
   "display_name": "Python 3 (ipykernel)",
   "language": "python",
   "name": "python3"
  },
  "language_info": {
   "codemirror_mode": {
    "name": "ipython",
    "version": 3
   },
   "file_extension": ".py",
   "mimetype": "text/x-python",
   "name": "python",
   "nbconvert_exporter": "python",
   "pygments_lexer": "ipython3",
   "version": "3.12.2"
  }
 },
 "nbformat": 4,
 "nbformat_minor": 5
}
