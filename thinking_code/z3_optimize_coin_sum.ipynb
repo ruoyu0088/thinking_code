{
 "cells": [
  {
   "cell_type": "code",
   "execution_count": 2,
   "id": "5c807408-3aa7-41c0-b177-e841cacc9bbd",
   "metadata": {},
   "outputs": [],
   "source": [
    "from z3 import *\n",
    "from Z3_utils import all_solutions"
   ]
  },
  {
   "cell_type": "code",
   "execution_count": 17,
   "id": "72b1b748-34e0-4599-af20-5dd09e1a8bde",
   "metadata": {},
   "outputs": [
    {
     "name": "stdout",
     "output_type": "stream",
     "text": [
      "8 {n_1: 4, n_2: 0, n_5: 1, n_10: 0, n_25: 1, n_50: 2}\n",
      "8 {n_1: 2, n_2: 1, n_5: 0, n_10: 3, n_25: 0, n_50: 2}\n",
      "8 {n_1: 0, n_2: 2, n_5: 2, n_10: 2, n_25: 0, n_50: 2}\n",
      "7 {n_1: 0, n_2: 2, n_5: 0, n_10: 3, n_25: 0, n_50: 2}\n",
      "8 {n_1: 1, n_2: 4, n_5: 0, n_10: 0, n_25: 1, n_50: 2}\n",
      "7 {n_1: 2, n_2: 1, n_5: 1, n_10: 0, n_25: 1, n_50: 2}\n",
      "6 {n_1: 0, n_2: 2, n_5: 1, n_10: 0, n_25: 1, n_50: 2}\n",
      "8 {n_1: 2, n_2: 1, n_5: 1, n_10: 0, n_25: 3, n_50: 1}\n",
      "8 {n_1: 0, n_2: 2, n_5: 1, n_10: 0, n_25: 5, n_50: 0}\n",
      "7 {n_1: 0, n_2: 2, n_5: 1, n_10: 0, n_25: 3, n_50: 1}\n",
      "8 {n_1: 0, n_2: 2, n_5: 0, n_10: 3, n_25: 2, n_50: 1}\n"
     ]
    }
   ],
   "source": [
    "coins = [1, 2, 5, 10, 25, 50]\n",
    "total = 134\n",
    "max_coins = 8\n",
    "\n",
    "x = [Int(f'n_{c}') for c in coins]\n",
    "total_expr = Sum([c*n for c, n in zip(coins, x)])\n",
    "count_expr = Sum(x)\n",
    "s = Solver()\n",
    "for c in x:\n",
    "    s.add(c >= 0)\n",
    "s.add(total_expr == total)\n",
    "s.add(count_expr <= max_coins)\n",
    "for m in all_solutions(s):\n",
    "    print(m.eval(count_expr), {v:m[v] for v in x})"
   ]
  },
  {
   "cell_type": "code",
   "execution_count": 18,
   "id": "6b4e4e91-4742-4fd8-8342-82ab3158de34",
   "metadata": {},
   "outputs": [
    {
     "name": "stdout",
     "output_type": "stream",
     "text": [
      "6 {n_1: 0, n_2: 2, n_5: 1, n_10: 0, n_25: 1, n_50: 2}\n"
     ]
    }
   ],
   "source": [
    "opt = Optimize()\n",
    "for c in x:\n",
    "    opt.add(c >= 0)\n",
    "opt.add(total_expr == total)\n",
    "opt.minimize(count_expr)\n",
    "opt.check()\n",
    "m = opt.model()\n",
    "print(m.eval(count_expr), {v:m[v] for v in x})"
   ]
  }
 ],
 "metadata": {
  "kernelspec": {
   "display_name": "Python 3 (ipykernel)",
   "language": "python",
   "name": "python3"
  },
  "language_info": {
   "codemirror_mode": {
    "name": "ipython",
    "version": 3
   },
   "file_extension": ".py",
   "mimetype": "text/x-python",
   "name": "python",
   "nbconvert_exporter": "python",
   "pygments_lexer": "ipython3",
   "version": "3.12.2"
  }
 },
 "nbformat": 4,
 "nbformat_minor": 5
}
