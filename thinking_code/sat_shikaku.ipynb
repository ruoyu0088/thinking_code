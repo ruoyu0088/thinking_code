{
 "cells": [
  {
   "cell_type": "markdown",
   "id": "6baa9d00-9dee-47c1-bed6-8927ad4507fe",
   "metadata": {},
   "source": [
    "# 四角に切れパズル"
   ]
  },
  {
   "cell_type": "markdown",
   "id": "d24564e1-e23d-45d6-bad1-8c9ce99f8a3d",
   "metadata": {},
   "source": [
    "「四角に切れ」は、シンプルながらも奥深いロジックパズルの一種です。日本のパズル雑誌などで広まり、世界的にも人気があります。ルールは以下のようです。  \n",
    "\n",
    "1. **長方形または正方形で分割**  \n",
    "   - 与えられたグリッド（マス目）を長方形または正方形に分割します。  \n",
    "2. **各領域に1つの数字**  \n",
    "   - 各長方形または正方形には、問題に書かれた数字がちょうど1つだけ含まれるようにします。  \n",
    "3. **数字の意味**  \n",
    "   - 各数字は、その数字を含む長方形または正方形の**マスの総数**を示します。  \n",
    "4. **重複・交差なし**  \n",
    "   - すべてのマスを使用し、長方形や正方形が重ならないように配置します。\n",
    "  \n",
    "パズルの初期状態             |  解答\n",
    ":-------------------------:|:-------------------------:\n",
    "![](https://upload.wikimedia.org/wikipedia/commons/5/58/Shikaku_start.png) |  ![](https://upload.wikimedia.org/wikipedia/commons/e/ee/Shikaku_end.png)"
   ]
  },
  {
   "cell_type": "markdown",
   "id": "074a5dc6-df16-46cc-9e25-6b4ecddbb1fa",
   "metadata": {},
   "source": [
    "## コード  \n",
    "\n",
    "次のコードは「四角に切れ」パズルを解くものです。このコードでは、本書が提供する `SATHelper` を使用して CNF 式を作成します。`SATHelper` は、よく使われる CNF 式を作成するための複数のメソッドを提供します。  \n",
    "\n",
    "* `SATHelper.next()`: 次の番号のブール変数を作成します。  \n",
    "* `SATHelper.next(n)`: 次のブール変数を `n` 個作成します。  \n",
    "* `SATHelper.exact_n(vs, n)`: ブール変数リスト `vs` の中で、`n` 個が `True` であるという制約を追加します。  \n",
    "* `SATHelper.implies_all(a, vs)`: `vs` 内のすべてのブール変数 `x` に対して、`a → x` の制約を追加します。  "
   ]
  },
  {
   "cell_type": "code",
   "execution_count": 1,
   "id": "ab0baa81-0e63-43e8-ad21-6c7c0d952284",
   "metadata": {},
   "outputs": [],
   "source": [
    "import numpy as np\n",
    "from helper.sat import SATHelper\n",
    "from collections import defaultdict\n",
    "from itertools import product\n",
    "from collections import namedtuple\n",
    "\n",
    "Rectangle = namedtuple('Rect', 'x y w h')\n",
    "\n",
    "def mult_pair(n):\n",
    "    for i in range(1, n+1):\n",
    "        j = n // i\n",
    "        if i * j == n:\n",
    "            yield i, j\n",
    "\n",
    "def generate_rectangle(x, y, area, width, height):\n",
    "    for w, h in mult_pair(area):\n",
    "        for i, j in product(range(w), range(h)):\n",
    "            x2 = x - i\n",
    "            y2 = y - j\n",
    "            if x2 >= 0 and y2 >= 0 and x2 + w <= width and y2 + h <= height:\n",
    "                yield Rectangle(x2, y2, w, h)\n",
    "                \n",
    "def generate_cell(rect):\n",
    "    x, y, w, h = rect\n",
    "    for i, j in product(range(w), range(h)):\n",
    "        yield x + i, y + j\n",
    "\n",
    "class ShikakuSolver:\n",
    "    def __init__(self, board):\n",
    "        board = np.array(board)\n",
    "            \n",
    "        height, width = board.shape\n",
    "        self.height = height\n",
    "        self.width = width\n",
    "\n",
    "        sat = SATHelper()\n",
    "        rect_variables = {}\n",
    "        for y, x in zip(*np.where(board > 0)):\n",
    "            v = board[y, x]\n",
    "            number_rects = {}\n",
    "            for rect in generate_rectangle(x, y, v, width, height):\n",
    "                number_rects[sat.next()] = rect\n",
    "            rect_variables[x, y] = number_rects\n",
    "\n",
    "        cells = defaultdict(set)\n",
    "        for (x0, y0), number_rects in rect_variables.items():\n",
    "            for v, rect in number_rects.items():\n",
    "                for xc, yc in generate_cell(rect):\n",
    "                    cells[xc, yc].add((x0, y0))\n",
    "\n",
    "        cell_variables = {}\n",
    "        for key, value in cells.items():\n",
    "            cell_variables[key] = dict(zip(value, sat.next(len(value))))\n",
    "\n",
    "        self.rect_variables = rect_variables\n",
    "        self.cell_variables = cell_variables\n",
    "        self.sat = sat\n",
    "        self.board = board\n",
    "\n",
    "    def solve(self):\n",
    "        sat = self.sat\n",
    "        rect_variables = self.rect_variables\n",
    "        cell_variables = self.cell_variables\n",
    "        \n",
    "        for value in rect_variables.values():\n",
    "            sat.exact_n(value.keys(), 1)\n",
    "\n",
    "        for value in cell_variables.values():\n",
    "            sat.exact_n(value.values(), 1)\n",
    "\n",
    "        for pos, rects in rect_variables.items():\n",
    "            for var_rect, rect in rects.items():\n",
    "                var_cells = [cell_variables[xc, yc][pos] for xc, yc in generate_cell(rect)]\n",
    "                sat.implies_all(var_rect, var_cells)\n",
    "        \n",
    "        self.solution = sol = sat.solve()\n",
    "        if sol is not None:\n",
    "            sol_rects = []\n",
    "            for pos, rects in rect_variables.items():\n",
    "                for var_rect, rect in rects.items():\n",
    "                    if sol[var_rect - 1] > 0:\n",
    "                        sol_rects.append(rect)    \n",
    "            self.sol_rects = sol_rects\n",
    "            return sol_rects\n",
    "        else:\n",
    "            return []"
   ]
  },
  {
   "cell_type": "markdown",
   "id": "0eb3bcae-9004-4fd7-8857-40bcc0d5791e",
   "metadata": {},
   "source": [
    "次のパズルを解いてみます。"
   ]
  },
  {
   "cell_type": "code",
   "execution_count": 3,
   "id": "5be05a27-97c5-4afa-bc4f-c62c8a5bad89",
   "metadata": {},
   "outputs": [],
   "source": [
    "board = [[2, 0, 0, 0, 0, 0, 0, 0, 0, 15, 0, 0, 0, 0, 0, 0, 0, 2, 0, 0],\n",
    "        [9, 0, 0, 4, 0, 2, 0, 0, 0, 0, 0, 0, 0, 0, 0, 0, 0, 0, 0, 3],\n",
    "        [0, 0, 0, 0, 0, 0, 0, 0, 0, 0, 0, 0, 52, 0, 0, 0, 0, 0, 0, 0],\n",
    "        [0, 0, 0, 0, 0, 0, 0, 0, 0, 0, 0, 0, 0, 0, 0, 0, 0, 0, 0, 0],\n",
    "        [0, 0, 0, 0, 0, 3, 0, 0, 0, 0, 0, 0, 0, 0, 0, 0, 0, 0, 0, 2],\n",
    "        [0, 0, 0, 0, 16, 0, 2, 0, 0, 0, 0, 0, 0, 0, 0, 0, 0, 12, 0, 0],\n",
    "        [0, 0, 0, 7, 0, 0, 0, 0, 2, 0, 0, 0, 5, 0, 0, 0, 0, 0, 0, 0],\n",
    "        [0, 0, 2, 0, 8, 0, 0, 0, 0, 0, 0, 0, 0, 4, 0, 0, 0, 18, 0, 2],\n",
    "        [0, 0, 0, 0, 0, 0, 0, 0, 0, 0, 0, 0, 0, 0, 0, 0, 0, 0, 0, 4],\n",
    "        [0, 0, 0, 0, 0, 28, 0, 0, 0, 0, 0, 0, 0, 0, 0, 0, 0, 0, 0, 0],\n",
    "        [0, 0, 0, 0, 0, 0, 0, 0, 0, 0, 0, 0, 0, 2, 0, 0, 0, 0, 0, 0],\n",
    "        [0, 0, 0, 3, 0, 0, 0, 0, 0, 0, 0, 0, 2, 2, 0, 0, 0, 0, 6, 0],\n",
    "        [9, 0, 0, 0, 0, 0, 0, 0, 0, 0, 0, 0, 0, 0, 6, 0, 0, 0, 5, 0],\n",
    "        [0, 2, 2, 0, 0, 0, 0, 32, 0, 0, 0, 0, 0, 0, 0, 5, 0, 0, 0, 0],\n",
    "        [0, 0, 0, 0, 0, 0, 0, 0, 0, 3, 0, 0, 0, 0, 0, 0, 0, 0, 0, 0],\n",
    "        [0, 0, 0, 0, 0, 0, 0, 0, 0, 0, 0, 0, 0, 0, 0, 0, 0, 0, 0, 4],\n",
    "        [0, 0, 0, 0, 0, 0, 0, 0, 0, 0, 0, 0, 0, 0, 0, 0, 0, 0, 0, 0],\n",
    "        [6, 0, 0, 0, 0, 0, 0, 0, 0, 2, 0, 0, 0, 0, 0, 0, 0, 0, 0, 4],\n",
    "        [0, 0, 0, 0, 0, 0, 0, 40, 0, 0, 40, 0, 0, 0, 0, 0, 0, 0, 0, 2],\n",
    "        [0, 0, 6, 0, 0, 0, 0, 0, 0, 0, 0, 0, 0, 13, 0, 0, 0, 0, 0, 0]]\n",
    "\n",
    "solver = ShikakuSolver(board)\n",
    "rects = solver.solve()"
   ]
  },
  {
   "cell_type": "code",
   "execution_count": 4,
   "id": "d631a4c4-b470-4d62-8312-a477387561f6",
   "metadata": {},
   "outputs": [
    {
     "data": {
      "image/png": "[encoded data removed]",
      "text/plain": [
       "<Figure size 600x600 with 1 Axes>"
      ]
     },
     "metadata": {},
     "output_type": "display_data"
    }
   ],
   "source": [
    "from matplotlib import pyplot as plt\n",
    "from matplotlib.cm import tab20\n",
    "from itertools import cycle\n",
    "\n",
    "def plot_board(board, rects=[], figsize=(6, 6)):\n",
    "    height, width = board.shape\n",
    "    Y, X = np.where(board > 0)\n",
    "    V = board[Y, X]\n",
    "    \n",
    "    colors = cycle(tab20.colors)\n",
    "    fig, ax = plt.subplots(figsize=figsize)\n",
    "    for rect in rects:\n",
    "        x, y, w, h = rect\n",
    "        ax.add_patch(plt.Rectangle((x, y), w, h, facecolor=next(colors), edgecolor='black', alpha=0.5))\n",
    "    \n",
    "    for x, y, v in zip(X, Y, V):\n",
    "        ax.text(x + 0.5, y + 0.5, str(v), fontsize=14, ha='center', va='center')\n",
    "    \n",
    "    y, x = np.mgrid[:height, :width]\n",
    "    \n",
    "    ax.scatter(x.ravel() + 0.5, y.ravel() + 0.5, s=1, marker='s')\n",
    "    \n",
    "    ax.set_xlim(0-0.1, width+0.1)\n",
    "    ax.set_ylim(0-0.1, height+0.1)\n",
    "    ax.invert_yaxis()\n",
    "    ax.set_aspect('equal')\n",
    "    ax.axis('off')\n",
    "\n",
    "plot_board(solver.board, rects)"
   ]
  },
  {
   "attachments": {},
   "cell_type": "markdown",
   "id": "dfc61e26-8745-4f06-a577-5140c17ff8c2",
   "metadata": {},
   "source": [
    "## 解析\n",
    "\n",
    "`rect_variables` は、各数字に対応する候補の矩形領域を辞書として保持します。辞書のキーはブール変数の番号、値はそのブール変数に対応する矩形の情報です。以下に、座標 (3, 1) の 数字4に対応するブール変数と矩形領域の例を示します。"
   ]
  },
  {
   "cell_type": "code",
   "execution_count": 5,
   "id": "64492be9-e621-4795-81a6-749ff67d130a",
   "metadata": {},
   "outputs": [
    {
     "data": {
      "text/plain": [
       "{26: Rect(x=3, y=1, w=1, h=4),\n",
       " 27: Rect(x=3, y=0, w=1, h=4),\n",
       " 28: Rect(x=3, y=1, w=2, h=2),\n",
       " 29: Rect(x=3, y=0, w=2, h=2),\n",
       " 30: Rect(x=2, y=1, w=2, h=2),\n",
       " 31: Rect(x=2, y=0, w=2, h=2),\n",
       " 32: Rect(x=3, y=1, w=4, h=1),\n",
       " 33: Rect(x=2, y=1, w=4, h=1),\n",
       " 34: Rect(x=1, y=1, w=4, h=1),\n",
       " 35: Rect(x=0, y=1, w=4, h=1)}"
      ]
     },
     "execution_count": 5,
     "metadata": {},
     "output_type": "execute_result"
    }
   ],
   "source": [
    "solver.rect_variables[3, 1]"
   ]
  },
  {
   "attachments": {},
   "cell_type": "markdown",
   "id": "8928b487-fa8a-4743-9ca1-41bd9d63a089",
   "metadata": {},
   "source": [
    "この辞書内のすべてのブール変数のうち、ちょうど 1 つだけが `True` になるように、次のコードで制約を追加します。\n",
    "\n",
    "```python\n",
    "for value in rect_variables.values():\n",
    "    sat.exact_n(value.keys(), 1)\n",
    "```\n",
    "\n",
    "次に、26 番から 35 番のブール変数の値を表示します。34 番が `True` であるため、`Rect(x=1, y=1, w=4, h=1)` が解となります。"
   ]
  },
  {
   "cell_type": "code",
   "execution_count": 91,
   "id": "9e566ab8-d20e-4e8a-9f98-c808d7b6ccb1",
   "metadata": {},
   "outputs": [
    {
     "data": {
      "text/plain": [
       "[-26, -27, -28, -29, -30, -31, -32, -33, 34, -35]"
      ]
     },
     "execution_count": 91,
     "metadata": {},
     "output_type": "execute_result"
    }
   ],
   "source": [
    "[solver.solution[i] for i in range(25, 35)]"
   ]
  },
  {
   "cell_type": "markdown",
   "id": "e9737445-94f2-4ed6-a61e-cdba23c0c4b4",
   "metadata": {},
   "source": [
    "`cell_variables` は、各マスが所属する数字の情報を保持する辞書です。辞書のキーは数字の位置で、値はその数字に対応するブール変数の番号です。このブール変数が `True` の場合、該当するマスは対応する数字に所属することになります。\n",
    "\n",
    "次に、マス(2, 1)の値を決める数字の位置と、それに対応するブール変数の番号を示します。"
   ]
  },
  {
   "cell_type": "code",
   "execution_count": 92,
   "id": "0b7b5f5c-2b2d-437e-9a96-c658bff0f9ac",
   "metadata": {},
   "outputs": [
    {
     "data": {
      "text/plain": [
       "{(0, 1): 1048, (3, 1): 1049, (12, 2): 1050}"
      ]
     },
     "execution_count": 92,
     "metadata": {},
     "output_type": "execute_result"
    }
   ],
   "source": [
    "solver.cell_variables[2, 1]"
   ]
  },
  {
   "cell_type": "markdown",
   "id": "47f30fb2-c8ab-4215-9302-d1a0d0940342",
   "metadata": {},
   "source": [
    "この辞書内のすべてのブール変数のうち、ちょうど 1 つだけが `True` になるように、次のコードで制約を追加します。\n",
    "\n",
    "```python\n",
    "for value in cell_variables.values():\n",
    "    sat.exact_n(value.values(), 1)\n",
    "```"
   ]
  },
  {
   "cell_type": "markdown",
   "id": "9229c810-f50c-44a8-9e80-1d8b8e831442",
   "metadata": {},
   "source": [
    "次に、上記のブール変数の値を確認します。1049 番のブール変数が `True` であるため、マス (2,1) は (3,1) の数字が作った矩形領域の中に含まれていることになります。  "
   ]
  },
  {
   "cell_type": "code",
   "execution_count": 93,
   "id": "33d7e2a1-7f48-459b-b1fd-848a93b3d867",
   "metadata": {},
   "outputs": [
    {
     "data": {
      "text/plain": [
       "[-1048, 1049, -1050]"
      ]
     },
     "execution_count": 93,
     "metadata": {},
     "output_type": "execute_result"
    }
   ],
   "source": [
    "[solver.solution[i] for i in [1047, 1048, 1049]]"
   ]
  },
  {
   "cell_type": "markdown",
   "id": "35cfa2f0-756a-4287-aad7-e95e5251446a",
   "metadata": {},
   "source": [
    "`rect_variables` 内のブール変数と `cell_variables` 内の変数の間の制約条件は、ある矩形領域を表すブール変数が `True` の場合、その矩形領域内のすべてのマスが対応する数字と同じであることを保証します。次のコードで、この制約条件が設定されます。`implies_all(A, B)` は、`B` 内のすべての変数 `X` に対して、論理包含 `A → X` の制約をソルバーに追加します。  \n",
    "\n",
    "```python\n",
    "for pos, rects in rect_variables.items():\n",
    "    for var_rect, rect in rects.items():\n",
    "        var_cells = [cell_variables[xc, yc][pos] for xc, yc in generate_cell(rect)]\n",
    "        sat.implies_all(var_rect, var_cells)\n",
    "```"
   ]
  },
  {
   "cell_type": "markdown",
   "id": "521e0e3c-fa86-47a4-ab84-ea05264c5c9a",
   "metadata": {},
   "source": [
    "## SATHelperのソースコード"
   ]
  },
  {
   "cell_type": "markdown",
   "id": "814eb341-1116-4687-831b-72a32f933294",
   "metadata": {},
   "source": [
    "次は`SATHelper`中の`exact_n()`と`implies_all()`のソースコードです。\n",
    "\n",
    "```python\n",
    "def exact_n(self, variables, n, extend=True):\n",
    "    cnfs = []\n",
    "    variables = [int(v) for v in variables]\n",
    "    for c in combinations(variables, n + 1):\n",
    "        cnfs.append([-v for v in c])\n",
    "\n",
    "    for c in combinations(variables, len(variables) - n + 1):\n",
    "        cnfs.append([v for v in c])\n",
    "\n",
    "    if extend:\n",
    "        self.extend(cnfs)\n",
    "\n",
    "    return cnfs\n",
    "\n",
    "def implies(self, A, B, extend=True):\n",
    "    if isinstance(B, int):\n",
    "        B = [B]\n",
    "    cnf = [-A] + B\n",
    "\n",
    "    if extend:\n",
    "        self.extend([cnf])\n",
    "\n",
    "    return cnf\n",
    "\n",
    "def implies_all(self, A, Bs, extend=True):\n",
    "    cnfs = []\n",
    "    for B in Bs:\n",
    "        cnfs.append(self.implies(A, B, extend=extend))\n",
    "    return cnfs        \n",
    "```"
   ]
  }
 ],
 "metadata": {
  "kernelspec": {
   "display_name": "Python 3 (ipykernel)",
   "language": "python",
   "name": "python3"
  },
  "language_info": {
   "codemirror_mode": {
    "name": "ipython",
    "version": 3
   },
   "file_extension": ".py",
   "mimetype": "text/x-python",
   "name": "python",
   "nbconvert_exporter": "python",
   "pygments_lexer": "ipython3",
   "version": "3.12.2"
  }
 },
 "nbformat": 4,
 "nbformat_minor": 5
}
