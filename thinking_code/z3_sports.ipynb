{
 "cells": [
  {
   "cell_type": "markdown",
   "id": "70dd8f0b-7e85-404d-8882-03eb3fca2747",
   "metadata": {},
   "source": [
    "# 運動会問題"
   ]
  },
  {
   "cell_type": "markdown",
   "id": "04ad49ef-1fc7-412f-9e65-ec4203dbce7f",
   "metadata": {},
   "source": [
    "> 3人が運動会を行う。参加者は3人のみです。各競技では1位2位3位にそれぞれ得点が与えられます。得点は全競技を通して常に一定で、つまり1位は常にX点、2位は常にY点、3位は常にZ点が与えられます。\n",
    ">\n",
    "> 得点は、`X > Y > Z > 0`を満たす整数です。いま全競技が終了したところ、\n",
    "> \n",
    "> * Aは全体で22点\n",
    "> * Bは槍投げで1位になり、全体で9点\n",
    "> * Cは全体で9点\n",
    "> \n",
    "> という結果になった。さて、100メートル走で2位になったのは誰？\n",
    "\n",
    "※ この問題は [https://sist8.com/3ath](https://sist8.com/3ath) を参考にしました。"
   ]
  },
  {
   "cell_type": "code",
   "execution_count": 1,
   "id": "b44addf6-c28a-496b-b374-1680b1956a1a",
   "metadata": {},
   "outputs": [],
   "source": [
    "from z3 import *"
   ]
  },
  {
   "cell_type": "markdown",
   "id": "cfc699b0-de7d-46a9-a023-e12132528f62",
   "metadata": {},
   "source": [
    "## 難点"
   ]
  },
  {
   "cell_type": "markdown",
   "id": "d763b8e0-c040-4ab5-b6e2-ae7e14edf028",
   "metadata": {},
   "source": [
    "この問題の難しさは、以下の点にあります。\n",
    "\n",
    "- **競技数が不明**  \n",
    "  各者の合計得点が与えられているが、何競技行われたのかはわからない。  \n",
    "\n",
    "- **X, Y, Z の制約が曖昧**  \n",
    "  各順位の得点が `X > Y > Z > 0` という制約があるが、具体的な値は不明。  \n",
    "\n",
    "- **各競技の順位が不明**  \n",
    "  各競技で誰が 1位, 2位, 3位 だったかは与えられていない。  \n",
    "  ただし、**B が槍投げで 1位だったことは分かっている。**  "
   ]
  },
  {
   "cell_type": "markdown",
   "id": "ad56e620-4ff8-47af-a522-3dca82b3b42f",
   "metadata": {},
   "source": [
    "## コード"
   ]
  },
  {
   "cell_type": "markdown",
   "id": "883e0cd7-4424-4830-9a8c-ebdb6465d07f",
   "metadata": {},
   "source": [
    "次のコードを使うことで、この問題を解くことができます。"
   ]
  },
  {
   "cell_type": "code",
   "execution_count": 7,
   "id": "79d5161a-17f1-477a-900f-40b3b2ba3d0a",
   "metadata": {},
   "outputs": [
    {
     "name": "stdout",
     "output_type": "stream",
     "text": [
      "X = 5\n",
      "Y = 2\n",
      "Z = 1\n",
      "{'A': [2, 1, 1, 1, 1], 'B': [1, 3, 3, 3, 3], 'C': [3, 2, 2, 2, 2]}\n"
     ]
    }
   ],
   "source": [
    "def try_solve(N_game):\n",
    "    X = Int('X')\n",
    "    Y = Int('Y')\n",
    "    Z = Int('Z')\n",
    "    \n",
    "    s = Solver()\n",
    "    s.add(X > Y, Y > Z, Z > 0)\n",
    "    \n",
    "    games = {}\n",
    "    \n",
    "    def score(p):\n",
    "        return Sum(\n",
    "            [If(games[p, i] == 1, X, If(games[p, i] == 2, Y, Z)) for i in range(N_game)]\n",
    "        )\n",
    "    \n",
    "    for i in range(N_game):\n",
    "        A_rank = Int(f'A_rank_{i}')\n",
    "        B_rank = Int(f'B_rank_{i}')\n",
    "        C_rank = Int(f'C_rank_{i}')\n",
    "        s.add(A_rank >= 1, A_rank <= 3)\n",
    "        s.add(B_rank >= 1, B_rank <= 3)\n",
    "        s.add(C_rank >= 1, C_rank <= 3)\n",
    "        s.add(Distinct(A_rank, B_rank, C_rank))\n",
    "        games['A', i] = A_rank\n",
    "        games['B', i] = B_rank\n",
    "        games['C', i] = C_rank\n",
    "    \n",
    "    s.add(score('A') == 22)\n",
    "    s.add(score('B') == 9)\n",
    "    s.add(score('C') == 9)\n",
    "    s.add(games['B', 0] == 1)\n",
    "\n",
    "    if s.check() == sat:\n",
    "        m = s.model()\n",
    "        print(f'X = {m[X]}')\n",
    "        print(f'Y = {m[Y]}')\n",
    "        print(f'Z = {m[Z]}')\n",
    "        \n",
    "        members = ['A', 'B', 'C']\n",
    "        res = {p:[m[games[p, i]].as_long() for i in range(N_game)] for p in members}\n",
    "        print(res)\n",
    "        return True\n",
    "    else:\n",
    "        return False\n",
    "\n",
    "for i in range(2, 10):\n",
    "    if try_solve(i):\n",
    "        break"
   ]
  },
  {
   "cell_type": "markdown",
   "id": "c3e59ae4-8230-4cf4-9d49-fb4811b9e4c4",
   "metadata": {},
   "source": [
    "## 説明"
   ]
  },
  {
   "cell_type": "markdown",
   "id": "cd530bca-78d0-4960-b55b-741021a3bd92",
   "metadata": {},
   "source": [
    "このコードでは、まず `try_solve(N_game)` を用意し、**N_game（競技数）を 2 から順番に試して、最初に解が得られる競技数を見つける** という手法を使います。\n",
    "\n",
    "`games` は **(人, 競技) のペアをキーとして、順位を表す Z3 変数を管理する辞書** です。各順位変数は `1以上3以下` の整数 (`>=1` かつ `<=3`) をとり、また **同じ競技における3人の順位はすべて異なる** (`Distinct`) という制約が課されています。\n",
    "\n",
    "`score` 関数は、各競技における順位を基に、特定の人（A, B, C）の合計得点を計算するために使用されます。具体的には、各競技でその人が1位、2位、3位のいずれかになった場合に、その順位に応じた得点（`X, Y, Z`）を加算していきます。この関数は、指定された人物（`p`）の競技ごとの得点の合計を計算します。具体的には次のような処理が行われています：\n",
    "\n",
    "1. **`games[p, i]`**\n",
    "\n",
    "ここでは、`games` 辞書から **`p`（人物）の`i`番目の競技における順位** を取り出します。たとえば、`games['A', 0]` はAの最初の競技（0番目）の順位です。\n",
    "\n",
    "2. **`If(games[p, i] == 1, X, If(games[p, i] == 2, Y, Z))`**\n",
    "\n",
    "ここで順位に応じて得点を決定します。\n",
    "- `games[p, i] == 1` の場合は **1位** なので得点は `X`。\n",
    "- `games[p, i] == 2` の場合は **2位** なので得点は `Y`。\n",
    "- それ以外（つまり、`games[p, i] == 3` の場合）は **3位** なので得点は `Z`。\n",
    "\n",
    "この部分が **`If`** 関数を使用して順位に応じた得点を決めるロジックです。\n",
    "\n",
    "\n",
    "`If` は **条件分岐** を実現する Z3 の関数です。次のように使います：\n",
    "\n",
    "```python\n",
    "If(condition, value_if_true, value_if_false)\n",
    "```\n",
    "\n",
    "- `condition` が **真** の場合、`value_if_true` が返されます。\n",
    "- `condition` が **偽** の場合、`value_if_false` が返されます。   \n",
    "\n",
    "3. **`Sum(...)`**\n",
    "\n",
    "`Sum` はリスト内の全ての得点を加算して、**合計得点**を計算します。`[ ... for i in range(N_game)]` で **すべての競技**（`N_game` は競技数）について繰り返し処理を行い、各競技の得点を加算していきます。"
   ]
  },
  {
   "cell_type": "markdown",
   "id": "b36743ac-df70-43e3-bb91-d242a46e50cf",
   "metadata": {},
   "source": [
    "## Functionでの改善"
   ]
  },
  {
   "cell_type": "markdown",
   "id": "7dbaef6f-22de-4c6a-864f-134173d5dbc4",
   "metadata": {},
   "source": [
    "上のコードでは、ネストされた `If` 関数を使って順位から点数に変換しています。このような変換は、ケースが多くなると式が複雑になります。この場合、`Function()` を使って値のマッピングを表現することができます。次のコードでは、Z3 の関数 `score_func` を次のように定義します。最初の引数は関数名、最後の引数は関数の戻り値の型、真ん中の引数は関数の引数の型です。順位から点数に変換する関数の引数と戻り値はすべて `IntSort()` で表される整数型です。\n",
    "\n",
    "```python\n",
    "score_func = Function('score', IntSort(), IntSort())\n",
    "```\n",
    "\n",
    "次に、関数の値のマッピング制約条件を `Solver` に追加します。\n",
    "\n",
    "```python\n",
    "s.add(\n",
    "    score_func(1) == X,\n",
    "    score_func(2) == Y,\n",
    "    score_func(3) == Z,\n",
    ")\n",
    "```\n",
    "\n",
    "`score()` 関数内では、`score_func(games[p, i])` を使って順位から点数に変換することができます。又、`m[score_func]` を使うことで、関数の中身（つまり、関数の評価結果）を取得することができます。"
   ]
  },
  {
   "cell_type": "code",
   "execution_count": 39,
   "id": "6b4376cd-3cee-4408-9b16-5c105722b46b",
   "metadata": {},
   "outputs": [
    {
     "name": "stdout",
     "output_type": "stream",
     "text": [
      "X = 5\n",
      "Y = 2\n",
      "Z = 1\n",
      "{'A': [2, 1, 1, 1, 1], 'B': [1, 3, 3, 3, 3], 'C': [3, 2, 2, 2, 2]}\n",
      "[2 -> 2, 3 -> 1, else -> 5]\n"
     ]
    }
   ],
   "source": [
    "def try_solve(N_game):\n",
    "    X = Int('X')\n",
    "    Y = Int('Y')\n",
    "    Z = Int('Z')\n",
    "    \n",
    "    s = Solver()\n",
    "    s.add(X > Y, Y > Z, Z > 0)\n",
    "    \n",
    "    games = {}\n",
    "    \n",
    "    score_func = Function('score', IntSort(), IntSort())\n",
    "    s.add(\n",
    "        score_func(1) == X,\n",
    "        score_func(2) == Y,\n",
    "        score_func(3) == Z,\n",
    "    )\n",
    "    \n",
    "    def score(p):\n",
    "        return Sum(\n",
    "            [score_func(games[p, i]) for i in range(N_game)]\n",
    "        )\n",
    "    \n",
    "    for i in range(N_game):\n",
    "        A_rank = Int(f'A_rank_{i}')\n",
    "        B_rank = Int(f'B_rank_{i}')\n",
    "        C_rank = Int(f'C_rank_{i}')\n",
    "        s.add(A_rank >= 1, A_rank <= 3)\n",
    "        s.add(B_rank >= 1, B_rank <= 3)\n",
    "        s.add(C_rank >= 1, C_rank <= 3)\n",
    "        s.add(Distinct(A_rank, B_rank, C_rank))\n",
    "        games['A', i] = A_rank\n",
    "        games['B', i] = B_rank\n",
    "        games['C', i] = C_rank\n",
    "    \n",
    "    s.add(score('A') == 22)\n",
    "    s.add(score('B') == 9)\n",
    "    s.add(score('C') == 9)\n",
    "    s.add(games['B', 0] == 1)\n",
    "    \n",
    "    if s.check() == sat:\n",
    "        m = s.model()\n",
    "        print(f'X = {m[X]}')\n",
    "        print(f'Y = {m[Y]}')\n",
    "        print(f'Z = {m[Z]}')\n",
    "        \n",
    "        members = ['A', 'B', 'C']\n",
    "        res = {p:[m[games[p, i]].as_long() for i in range(N_game)] for p in members}\n",
    "        print(res)\n",
    "        print(m[score_func])\n",
    "        return True\n",
    "    else:\n",
    "        return False\n",
    "\n",
    "for i in range(2, 10):\n",
    "    if try_solve(i):\n",
    "        break        "
   ]
  }
 ],
 "metadata": {
  "kernelspec": {
   "display_name": "Python 3 (ipykernel)",
   "language": "python",
   "name": "python3"
  },
  "language_info": {
   "codemirror_mode": {
    "name": "ipython",
    "version": 3
   },
   "file_extension": ".py",
   "mimetype": "text/x-python",
   "name": "python",
   "nbconvert_exporter": "python",
   "pygments_lexer": "ipython3",
   "version": "3.12.2"
  }
 },
 "nbformat": 4,
 "nbformat_minor": 5
}
