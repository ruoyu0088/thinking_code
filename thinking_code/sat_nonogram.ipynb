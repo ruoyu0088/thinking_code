{
 "cells": [
  {
   "attachments": {},
   "cell_type": "markdown",
   "metadata": {},
   "source": [
    "# ノノグラムゲーム"
   ]
  },
  {
   "attachments": {
    "59a8d74f-4747-4b17-8b0f-f5d813e0167a.png": {
     "image/png": "[encoded data removed]"
    }
   },
   "cell_type": "markdown",
   "metadata": {},
   "source": [
    "ノノグラムは論理的なパズルゲームで、ルールは簡単ですが、解く過程は挑戦的です。ゲームボードは正方形のグリッドで、各セルは最終的に黒または白に塗りつぶされる必要があります。グリッドの各行の左側にある数字は、その行における隣接する黒いセルの長さを示し、各列の下にある数字はその列における隣接する黒いセルの長さを示しています。ゲームの目的は、すべての黒いセルを特定することです。次のグラフは簡単なノノグラムゲームの解を示しています。\n",
    "\n",
    "![image.png](attachment:59a8d74f-4747-4b17-8b0f-f5d813e0167a.png)\n",
    "\n",
    "各セルの状態はブール変数で表すことができ、これらのブール変数に制約条件を追加するためには、まず行や列に対応するブール式を見つける必要があります。"
   ]
  },
  {
   "cell_type": "code",
   "execution_count": 2,
   "metadata": {},
   "outputs": [],
   "source": [
    "from matplotlib import pyplot as plt\n",
    "import numpy as np\n",
    "import itertools"
   ]
  },
  {
   "cell_type": "markdown",
   "metadata": {},
   "source": [
    "## 各行の数字に対応する解\n",
    "\n",
    "以下の `paint_numbers()` は再帰アルゴリズムを使用して、1行の数字をその対応するセルのすべての解に変換します。引数として数字のリスト `numbers` と、塗りつぶす必要のあるセルの数 `count` を取ります。再帰の終了条件は2つです：\n",
    "\n",
    "❶ `numbers` に対応するセルの数が塗りつぶすべきセル数 `count` より多い場合、解は存在しません。例えば `numbers` が `[2, 1, 5]` の場合、少なくとも10個のセルが必要です。\n",
    "\n",
    "❷ `numbers` に残っている数字が1つだけの場合、その数字が `count` 長さのセル内で可能なすべての解を列挙します。\n",
    "\n",
    "上記の終了条件が満たされない場合、`paint_numbers()` を再帰的に呼び出し、以下の2つの分岐があります：\n",
    "\n",
    "  - ❸ `numbers` の最初の数字をセルに塗りつぶし、その後 `numbers[1:]` を再帰的に塗りつぶします。このとき、残りの塗りつぶすべきセル数は `count - numbers[0] - 1` となります。\n",
    "  - ❹ 1つのセルをスキップし、残りの `count - 1` セルに `numbers` を塗りつぶします。"
   ]
  },
  {
   "cell_type": "code",
   "execution_count": 3,
   "metadata": {},
   "outputs": [],
   "source": [
    "def paint_numbers(numbers, count):\n",
    "    if sum(numbers) + len(numbers) - 1 > count: #❶\n",
    "        return\n",
    "    elif len(numbers) == 1: #❷\n",
    "        for i in range(0, count - numbers[0] + 1):\n",
    "            yield [-1] * i + [1] * numbers[0] + [-1] * (count - i - numbers[0])\n",
    "    else:\n",
    "        for res in paint_numbers(numbers[1:], count - numbers[0] - 1): #❸\n",
    "            yield [1] * numbers[0] + [-1] + res\n",
    "        for res in paint_numbers(numbers, count - 1): #❹\n",
    "            yield [-1] + res"
   ]
  },
  {
   "cell_type": "markdown",
   "metadata": {},
   "source": [
    "以下は、`[2, 1, 5]` を12個のセルに塗りつぶすときのすべての解を計算した結果です。結果の中で、1は塗りつぶされたセルを、-1は空白のセルを示します。結果を見やすくするために、-1は0に変換して表示します。"
   ]
  },
  {
   "cell_type": "code",
   "execution_count": 4,
   "metadata": {},
   "outputs": [
    {
     "name": "stdout",
     "output_type": "stream",
     "text": [
      "[1, 1, 0, 1, 0, 1, 1, 1, 1, 1, 0, 0]\n",
      "[1, 1, 0, 1, 0, 0, 1, 1, 1, 1, 1, 0]\n",
      "[1, 1, 0, 1, 0, 0, 0, 1, 1, 1, 1, 1]\n",
      "[1, 1, 0, 0, 1, 0, 1, 1, 1, 1, 1, 0]\n",
      "[1, 1, 0, 0, 1, 0, 0, 1, 1, 1, 1, 1]\n",
      "[1, 1, 0, 0, 0, 1, 0, 1, 1, 1, 1, 1]\n",
      "[0, 1, 1, 0, 1, 0, 1, 1, 1, 1, 1, 0]\n",
      "[0, 1, 1, 0, 1, 0, 0, 1, 1, 1, 1, 1]\n",
      "[0, 1, 1, 0, 0, 1, 0, 1, 1, 1, 1, 1]\n",
      "[0, 0, 1, 1, 0, 1, 0, 1, 1, 1, 1, 1]\n"
     ]
    }
   ],
   "source": [
    "for line in paint_numbers([2, 1, 5], 12):\n",
    "    print([int(x > 0) for x in line])"
   ]
  },
  {
   "cell_type": "markdown",
   "metadata": {},
   "source": [
    "## DNFからCNFへの変換\n",
    "\n",
    "`paint_numbers()` は、一行または一列のマス目におけるすべての解を求めることが可能です。これらの解は論理和（OR）で結ばれており、それぞれの解の内部では論理積（AND）が成り立っております。このようなブール式は析取標準形（DNF, Disjunctive Normal Form）と呼ばれます。一方で、pysat は合取標準形（CNF, Conjunctive Normal Form）のブール式のみを解くことが可能であるため、DNFをCNFに変換する必要がございます。この変換は一般的に非常に困難ですが、本書では新たなブール変数を導入することで変換を行う方法をご紹介いたします。\n",
    "\n",
    "たとえば、次のDNF式は、ブール変数 $A$、$B$、$C$ のうちちょうど1つが偽であることを表しております：\n",
    "\n",
    "$$\n",
    "(\\neg A \\wedge B \\wedge C) \\vee (A \\wedge \\neg B \\wedge C) \\vee (A \\wedge B \\wedge \\neg C)\n",
    "$$\n",
    "\n",
    "ここで、各論理積（AND）の式に対して新たな変数を導入し、それを表現いたしますと、次のようになります：\n",
    "\n",
    "$$\n",
    "\\begin{align*}\n",
    "X &\\Leftrightarrow (\\neg A \\wedge B \\wedge C)\\\\\n",
    "Y &\\Leftrightarrow ( A \\wedge \\neg B \\wedge C)\\\\\n",
    "Z &\\Leftrightarrow ( A \\wedge B \\wedge \\neg C) \n",
    "\\end{align*}\n",
    "$$\n",
    "\n",
    "このように変数を導入することで、元の式は次のように変形されます：\n",
    "\n",
    "$$\n",
    "(X \\vee Y \\vee Z) \\wedge \n",
    "(X \\Leftrightarrow (\\neg A \\wedge B \\wedge C) ) \\wedge \n",
    "(Y \\Leftrightarrow ( A \\wedge \\neg B \\wedge C)) \\wedge\n",
    "(Z \\Leftrightarrow ( A \\wedge B \\wedge \\neg C))\n",
    "$$"
   ]
  },
  {
   "cell_type": "markdown",
   "metadata": {},
   "source": [
    "ここで、$\\Leftrightarrow$ は**等価関係**を表し、すなわち等号の両側にあるブール式の真偽が常に一致することを意味しております。一般に、$P \\Leftrightarrow Q$ は次のように表現できます：\n",
    "\n",
    "$$\n",
    "\\neg (P \\wedge \\neg Q) \\wedge \\neg (\\neg P \\wedge Q)\n",
    "$$\n",
    "\n",
    "これを**合取標準形（CNF）**に変換すると、以下のようになります：\n",
    "\n",
    "$$\n",
    "(\\neg P \\vee Q) \\wedge (P \\vee \\neg Q)\n",
    "$$\n",
    "\n",
    "この公式を用いることで、$X \\Leftrightarrow (\\neg A \\wedge B \\wedge C)$ を展開すると、次のようになります：\n",
    "\n",
    "$$\n",
    "(\\neg X \\vee \\neg A) \\wedge (\\neg X \\vee B) \\wedge (\\neg X \\vee C) \\wedge (X \\vee A \\vee \\neg B \\vee \\neg C)\n",
    "$$\n",
    "\n",
    "次に、この変換過程をSymPyを用いて検証いたします。"
   ]
  },
  {
   "cell_type": "code",
   "execution_count": 5,
   "metadata": {},
   "outputs": [
    {
     "data": {
      "text/latex": [
       "$\\displaystyle \\left(B \\vee \\neg X\\right) \\wedge \\left(C \\vee \\neg X\\right) \\wedge \\left(\\neg A \\vee \\neg X\\right) \\wedge \\left(A \\vee X \\vee \\neg B \\vee \\neg C\\right)$"
      ],
      "text/plain": [
       "(B | ~X) & (C | ~X) & (~A | ~X) & (A | X | ~B | ~C)"
      ]
     },
     "execution_count": 5,
     "metadata": {},
     "output_type": "execute_result"
    }
   ],
   "source": [
    "from sympy import symbols, Equivalent\n",
    "from sympy.logic.boolalg import to_cnf\n",
    "\n",
    "X, A, B, C = symbols(\"X A B C\")\n",
    "expr = Equivalent(X, ~A & B & C)\n",
    "to_cnf(expr)"
   ]
  },
  {
   "cell_type": "markdown",
   "metadata": {},
   "source": [
    "同様に、$Y$ および $Z$ の等価な表現についても同じ変換を適用することで、元の式を合取標準形（CNF）に変換することができます。以下に示す `dnf_to_cnf()` は、DNF を CNF に変換する関数の実装です。引数 `new_vars` が `None` でない場合、新たに導入する変数の番号を取得するために `new_vars` を使用いたします。"
   ]
  },
  {
   "cell_type": "code",
   "execution_count": 6,
   "metadata": {},
   "outputs": [],
   "source": [
    "def dnf_to_cnf(dnf, new_vars=None):\n",
    "    if new_vars is None:\n",
    "        start = max(max(map(abs, term)) for term in dnf) + 1\n",
    "        new_vars = iter(range(start, start + len(dnf)))\n",
    "    zlist = []\n",
    "    cnf = []\n",
    "    for term in dnf:\n",
    "        z = next(new_vars)\n",
    "        zlist.append(z)\n",
    "        cnf.append([z] + [-v for v in term])\n",
    "        for v in term:\n",
    "            cnf.append([-z, v])\n",
    "    cnf.append(zlist)\n",
    "    return cnf"
   ]
  },
  {
   "cell_type": "markdown",
   "metadata": {},
   "source": [
    "以下では、「3つのブール変数のうち1つだけが偽である」という条件を表す DNF 式を CNF 式に変換し、SAT ソルバーを用いて求解いたします。得られた解から、CNF 式には3つの新しい変数が導入されていることが分かります。また、元の3つの変数の解は、ちょうど1つが偽であるという制約を満たしていることが確認できます。`enum_models()`メソッドですべての解を取得します。"
   ]
  },
  {
   "cell_type": "code",
   "execution_count": 7,
   "metadata": {},
   "outputs": [
    {
     "name": "stdout",
     "output_type": "stream",
     "text": [
      "CNF\n",
      "[[4, 1, -2, -3],\n",
      " [-4, -1],\n",
      " [-4, 2],\n",
      " [-4, 3],\n",
      " [5, -1, 2, -3],\n",
      " [-5, 1],\n",
      " [-5, -2],\n",
      " [-5, 3],\n",
      " [6, -1, -2, 3],\n",
      " [-6, 1],\n",
      " [-6, 2],\n",
      " [-6, -3],\n",
      " [4, 5, 6]]\n",
      "solutions\n",
      "[0, 1, 1, 1, 0, 0]\n",
      "[1, 0, 1, 0, 1, 0]\n",
      "[1, 1, 0, 0, 0, 1]\n"
     ]
    }
   ],
   "source": [
    "from pprint import pprint\n",
    "from pysat.solvers import Solver\n",
    "\n",
    "dnf = [[-1, 2, 3], [1, -2, 3], [1, 2, -3]]\n",
    "cnf = dnf_to_cnf(dnf)\n",
    "print(\"CNF\")\n",
    "pprint(cnf)\n",
    "print(\"solutions\")\n",
    "sat = Solver()\n",
    "sat.append_formula(cnf)\n",
    "for sol in sat.enum_models():\n",
    "    print([int(x > 0) for x in sol])"
   ]
  },
  {
   "cell_type": "markdown",
   "metadata": {},
   "source": [
    "次に、`paint_numbers()` を用いて DNF 式を作成し、それを CNF 式へ変換した後、SAT ソルバーを用いて求解いたします。この過程を通じて、DNF 式の解と SAT ソルバーによる求解結果が一致することを確認できます。"
   ]
  },
  {
   "cell_type": "code",
   "execution_count": 8,
   "metadata": {},
   "outputs": [
    {
     "data": {
      "text/plain": [
       "True"
      ]
     },
     "execution_count": 8,
     "metadata": {},
     "output_type": "execute_result"
    }
   ],
   "source": [
    "n = 12\n",
    "solution = list(paint_numbers([2, 1, 5], n))\n",
    "variables = list(range(1, n+1))\n",
    "dnf = []\n",
    "for term in solution:\n",
    "    dnf.append([v * t for v, t in zip(variables, term)])\n",
    "sat = Solver()\n",
    "sat.append_formula(dnf_to_cnf(dnf))\n",
    "solution_cnf = [[x // abs(x) for x in res[:n]] for res in sat.enum_models()]\n",
    "sorted(solution) == sorted(solution_cnf)"
   ]
  },
  {
   "cell_type": "markdown",
   "metadata": {},
   "source": [
    "## ゲームの解法  \n",
    "\n",
    "これまでの準備を活かし、ノノグラムゲームを解くプログラムを実装していきます。  \n",
    "\n",
    "❶ 各マス目にブール変数を設定: 変数の番号は1から開始します。  \n",
    "\n",
    "❷ CNF 変換時に新しいブール変数を作成: `new_vars` 属性を利用し、新たな変数の番号を取得します。  \n",
    "\n",
    "❸ `add_constraints()` で制約を追加:\n",
    "\n",
    "   - 各数値に対して `paint_numbers()` を呼び出し、DNF 式を取得します。  \n",
    "   - その後、`dnf_to_cnf()` を用いてCNFに変換し、`self.cnf` リストへ追加します。  \n",
    "\n",
    "❹ `solve()` で SAT ソルバーを利用して解を求める:\n",
    "\n",
    "   - `CoSAT` オブジェクトを作成し、`self.cnf` の解を計算します。  \n",
    "   - 得られた解を2次元配列に変換します。  \n",
    "\n",
    "❺ `plot()` で結果を可視化: `matplotlib` の `pcolormesh()` を使用し、計算結果を描画します。"
   ]
  },
  {
   "cell_type": "code",
   "execution_count": 9,
   "metadata": {},
   "outputs": [],
   "source": [
    "import numpy as np\n",
    "import itertools\n",
    "\n",
    "class NonogramSimpleSolver:\n",
    "    def __init__(self, rows, cols, width=None, height=None):\n",
    "        if width is None:\n",
    "            width = len(cols)\n",
    "        if height is None:\n",
    "            height = len(rows)\n",
    "        self.rows = rows\n",
    "        self.cols = cols\n",
    "        self.width = width\n",
    "        self.height = height\n",
    "        self.var_count = self.width * self.height\n",
    "        self.vars = np.arange(1, self.var_count + 1).reshape(-1, self.width) #❶\n",
    "        self.new_vars = itertools.count(self.var_count + 2) #❷\n",
    "        \n",
    "        self.cnf = []\n",
    "        \n",
    "        for i, row in enumerate(self.rows):\n",
    "            self.add_constraints(row, self.width, self.vars[i, :].tolist())\n",
    "            \n",
    "        for j, col in enumerate(self.cols):\n",
    "            self.add_constraints(col, self.height, self.vars[:, j].tolist())\n",
    "            \n",
    "    def add_constraints(self, numbers, count, variables): #❸\n",
    "        dnf = []\n",
    "        for pattern in paint_numbers(numbers, count):\n",
    "            dnf.append([v * p for v, p in zip(variables, pattern)])\n",
    "        self.cnf.extend(dnf_to_cnf(dnf, new_vars = self.new_vars))\n",
    "        \n",
    "    def solve(self): #❹\n",
    "        sat = Solver()\n",
    "        sat.append_formula(self.cnf)\n",
    "        sat.solve()\n",
    "        model = sat.get_model()\n",
    "        self.solution = np.array(model[:self.var_count]).reshape(self.height, -1)\n",
    "        self.solution = np.sign(self.solution)\n",
    "        self.solution[self.solution == -1] = 0\n",
    "    \n",
    "    def plot(self, figsize=(6, 6), font_size=12): #❺\n",
    "        fig, ax = plt.subplots(figsize=figsize)\n",
    "        ax.set_aspect(\"equal\")\n",
    "        nrow, ncol = self.solution.shape\n",
    "\n",
    "        Y, X = np.ogrid[:nrow, :ncol]\n",
    "        \n",
    "        font = dict(fontsize=font_size)\n",
    "\n",
    "        ax.set_yticks(Y.ravel() - 0.5)\n",
    "        y_ticks = [\" \".join(str(c) for c in item) for item in self.rows]\n",
    "        ax.set_yticklabels(y_ticks, fontdict=font)\n",
    "\n",
    "        ax.set_xticks(X.ravel() - 0.5)\n",
    "        x_ticks = [\"\\n\".join(str(c) for c in item) for item in self.cols]\n",
    "        ax.set_xticklabels(x_ticks, fontdict=font)\n",
    "\n",
    "        ax.set_xlim(-1, X.max())\n",
    "        ax.set_ylim(-1, Y.max())\n",
    "\n",
    "        ax.pcolormesh(X-0.5, Y-0.5, self.solution, vmin=0, vmax=1.5, \n",
    "                      cmap=\"gray_r\", edgecolors=\"white\", shading=\"auto\")\n",
    "        ax.invert_yaxis()\n",
    "        for edge in (\"right\", \"top\"):\n",
    "            ax.spines[edge].set_visible(False) \n",
    "        return fig, ax"
   ]
  },
  {
   "cell_type": "markdown",
   "metadata": {},
   "source": [
    "以下では、`NonogramSimpleSolver` を使用して 簡単なパズルを解きます。  "
   ]
  },
  {
   "cell_type": "code",
   "execution_count": 10,
   "metadata": {},
   "outputs": [
    {
     "data": {
      "image/png": "[encoded data removed]",
      "text/plain": [
       "<Figure size 400x400 with 1 Axes>"
      ]
     },
     "metadata": {},
     "output_type": "display_data"
    }
   ],
   "source": [
    "rows = [\n",
    "    [3],\n",
    "    [2,1],\n",
    "    [2],\n",
    "    [7],\n",
    "    [9],\n",
    "    [2, 3, 2],\n",
    "    [4, 4],\n",
    "    [9],\n",
    "    [2, 3, 2],\n",
    "    [3, 3],\n",
    "    [7],\n",
    "    [5]\n",
    "]\n",
    "\n",
    "cols = [\n",
    "    [6],\n",
    "    [8],\n",
    "    [2, 2, 3],\n",
    "    [8, 2],\n",
    "    [6, 2, 2],\n",
    "    [1, 6, 2],\n",
    "    [2, 2, 2, 3],\n",
    "    [8],\n",
    "    [6]\n",
    "]\n",
    "pbn = NonogramSimpleSolver(rows, cols)\n",
    "pbn.solve()\n",
    "pbn.plot(figsize=(4, 4));"
   ]
  },
  {
   "cell_type": "markdown",
   "metadata": {},
   "source": [
    "下の`solve_and_paint(fn, solver)`は、指定されたファイル内のノノグラムパズルを引数`solver`で解き、グラフを描画します。\n",
    "\n",
    "[ノノグラムパズルのサイト](http://www.nonograms.org)  "
   ]
  },
  {
   "cell_type": "code",
   "execution_count": 11,
   "metadata": {},
   "outputs": [],
   "source": [
    "import json\n",
    "\n",
    "def solve_and_paint(fn, solver, figsize=(5, 5), font_size=12):\n",
    "    with open(fn) as f:\n",
    "        data = json.load(f)\n",
    "    pbn = solver(data[\"rows\"], data[\"cols\"])\n",
    "    pbn.solve()\n",
    "    pbn.plot(figsize=figsize, font_size=font_size)"
   ]
  },
  {
   "cell_type": "markdown",
   "metadata": {},
   "source": [
    "以下では、`nonogram02.json`ファイル内のパズルを解き、その計算時間を表示します。  "
   ]
  },
  {
   "cell_type": "code",
   "execution_count": 13,
   "metadata": {},
   "outputs": [
    {
     "name": "stdout",
     "output_type": "stream",
     "text": [
      "CPU times: total: 19.2 s\n",
      "Wall time: 21.2 s\n"
     ]
    },
    {
     "data": {
      "image/png": "[encoded data removed]",
      "text/plain": [
       "<Figure size 500x500 with 1 Axes>"
      ]
     },
     "metadata": {},
     "output_type": "display_data"
    }
   ],
   "source": [
    "%time solve_and_paint(\"data/nonogram02.json\", solver=NonogramSimpleSolver, font_size=9)"
   ]
  },
  {
   "cell_type": "markdown",
   "metadata": {},
   "source": [
    "複雑なノノグラムパズルを解く際、`NonogramSimpleSolver`は長い時間を要します。これは、マス目の数が増えるにつれて、各行または各列の可能な解の数が急激に増加し、それに伴いCNF式の数も急増するためです。  "
   ]
  },
  {
   "cell_type": "markdown",
   "metadata": {},
   "source": [
    "## 解法の高速化  \n",
    "\n",
    "DNFをCNFに変換する方法には組み合わせ爆発の問題があります。マス目の数や数字が多い場合、それに対応する可能な解の数が急増します。例えば、数字が`[1, 2, 3, 2, 1]`で、マス目の数が30の場合、可能な解の数は26334通りにもなります。 "
   ]
  },
  {
   "cell_type": "code",
   "execution_count": 14,
   "metadata": {},
   "outputs": [
    {
     "data": {
      "text/plain": [
       "26334"
      ]
     },
     "execution_count": 14,
     "metadata": {},
     "output_type": "execute_result"
    }
   ],
   "source": [
    "len(list(paint_numbers([1, 2, 3, 2, 1], 30)))"
   ]
  },
  {
   "cell_type": "markdown",
   "metadata": {},
   "source": [
    "この組み合わせ爆発の問題を解決するために、各数字に対応する最初の黒マスの位置を表すブール変数の集合を使用します。例えば、長さ10のマスに`[1, 2, 3]`という数字を配置する場合、数字`1`の開始位置は0、1、2の3通りのみです。  \n",
    "\n",
    "以下の`create_position_variables()`は、長さ`count`のマスに`numbers`の数字を配置する際、それぞれの数字の開始位置を表すブール変数を作成します。新しいブール変数は`next(new_bool_variables)`によって生成され、その戻り値は`numbers`の各数字に対応する辞書のリストになります。辞書のキーはその数字の開始位置、値は対応するブール変数のインデックスです。例えば、インデックス9のブール変数が`True`の場合、数字3の開始位置は7であることを意味します。  "
   ]
  },
  {
   "cell_type": "code",
   "execution_count": 20,
   "metadata": {},
   "outputs": [
    {
     "data": {
      "text/plain": [
       "[{0: 1, 1: 2, 2: 3}, {2: 4, 3: 5, 4: 6}, {5: 7, 6: 8, 7: 9}]"
      ]
     },
     "execution_count": 20,
     "metadata": {},
     "output_type": "execute_result"
    }
   ],
   "source": [
    "def start_pos(numbers, count):\n",
    "    s = 0\n",
    "    for i, n in enumerate(numbers):\n",
    "        yield s\n",
    "        s += n + 1\n",
    "\n",
    "def end_pos(numbers, count):\n",
    "    width = sum(numbers) + len(numbers) - 1\n",
    "    start = count - width\n",
    "    for pos in start_pos(numbers, count):\n",
    "        yield start + pos\n",
    "        \n",
    "def create_position_variables(numbers, count, new_bool_variables):\n",
    "    pos_variables = []\n",
    "    for i, (a, b) in enumerate(zip(start_pos(numbers, count), end_pos(numbers, count))):\n",
    "        pos_variables.append({j:next(new_bool_variables) for j in range(a, b + 1)})\n",
    "    return pos_variables\n",
    "\n",
    "numbers = [1, 2, 3]\n",
    "count = 10\n",
    "pos_variables = create_position_variables(numbers, count, itertools.count(1))\n",
    "pos_variables"
   ]
  },
  {
   "cell_type": "markdown",
   "metadata": {},
   "source": [
    "以下では、`paint_numbers()`を使用して、10マスのパズルに`[1, 2, 3]`という数字が対応するすべての可能な解を出力します。これを`pos_variables`の内容と比較してみてください。  "
   ]
  },
  {
   "cell_type": "code",
   "execution_count": 21,
   "metadata": {},
   "outputs": [
    {
     "name": "stdout",
     "output_type": "stream",
     "text": [
      "[1, 0, 1, 1, 0, 1, 1, 1, 0, 0]\n",
      "[1, 0, 1, 1, 0, 0, 1, 1, 1, 0]\n",
      "[1, 0, 1, 1, 0, 0, 0, 1, 1, 1]\n",
      "[1, 0, 0, 1, 1, 0, 1, 1, 1, 0]\n",
      "[1, 0, 0, 1, 1, 0, 0, 1, 1, 1]\n",
      "[1, 0, 0, 0, 1, 1, 0, 1, 1, 1]\n",
      "[0, 1, 0, 1, 1, 0, 1, 1, 1, 0]\n",
      "[0, 1, 0, 1, 1, 0, 0, 1, 1, 1]\n",
      "[0, 1, 0, 0, 1, 1, 0, 1, 1, 1]\n",
      "[0, 0, 1, 0, 1, 1, 0, 1, 1, 1]\n"
     ]
    }
   ],
   "source": [
    "for line in paint_numbers([1, 2, 3], 10):\n",
    "    print([int(x > 0) for x in line])"
   ]
  },
  {
   "cell_type": "markdown",
   "metadata": {},
   "source": [
    "次の`position_variables_constraint()`は、`create_position_variables()`で作成された位置変数が満たすべき制約を作成します。  \n",
    "\n",
    "* 各数字の位置変数のうち、`True`になれるのは1つのみ。例えば、数字3に対応する位置変数のうち、インデックス7、8、9のブール変数のいずれか1つだけが`True`になる。  \n",
    "* 連続する2つの数字`num1`, `num2`の位置`pos1`, `pos2`は、`pos2 > pos1 + num1`を満たす必要がある。例えば、インデックス5のブール変数が`True`なら、数字2の位置は3なので、数字3の位置は5より大きくなければならず、インデックス7のブール変数は`False`になる。  \n",
    "\n",
    "以下の`position_variables_constraint()`は、これらの制約をCNF式として表現します。  "
   ]
  },
  {
   "cell_type": "code",
   "execution_count": 22,
   "metadata": {},
   "outputs": [
    {
     "data": {
      "text/plain": [
       "[[1, 2, 3],\n",
       " [-1, -2],\n",
       " [-1, -3],\n",
       " [-2, -3],\n",
       " [4, 5, 6],\n",
       " [-4, -5],\n",
       " [-4, -6],\n",
       " [-5, -6],\n",
       " [7, 8, 9],\n",
       " [-7, -8],\n",
       " [-7, -9],\n",
       " [-8, -9],\n",
       " [-2, -4],\n",
       " [-3, -4],\n",
       " [-3, -5],\n",
       " [-5, -7],\n",
       " [-6, -7],\n",
       " [-6, -8]]"
      ]
     },
     "execution_count": 22,
     "metadata": {},
     "output_type": "execute_result"
    }
   ],
   "source": [
    "def only_one_true(variables):\n",
    "    yield list(variables)\n",
    "    for i, j in itertools.combinations(variables, 2):\n",
    "        yield [-i, -j]\n",
    "        \n",
    "def pairwise(iterable):\n",
    "    a, b = itertools.tee(iterable)\n",
    "    next(b, None)\n",
    "    return zip(a, b)        \n",
    "\n",
    "def position_variables_constraint(pos_variables, numbers):\n",
    "    cnf = []\n",
    "    # 各数字の位置変数のうち1つだけがTrue\n",
    "    for i, pos_var in enumerate(pos_variables):\n",
    "        cnf.extend(only_one_true(pos_var.values()))\n",
    "\n",
    "    # 連続する数字の位置関係制約\n",
    "    for i, (pos_var1, pos_var2) in enumerate(pairwise(pos_variables)):\n",
    "        width = numbers[i] + 1\n",
    "        for pos1, pos2 in itertools.product(pos_var1, pos_var2):\n",
    "            if pos2 < pos1 + width:\n",
    "                cnf.append([-pos_var1[pos1], -pos_var2[pos2]])\n",
    "    return cnf\n",
    "\n",
    "cnf = position_variables_constraint(pos_variables, numbers)\n",
    "cnf"
   ]
  },
  {
   "cell_type": "markdown",
   "metadata": {},
   "source": [
    "作成した`cnf`式をPySATで解き、解をマスの塗り分け結果に変換します。例えば、最初の解`[1, -2, -3, 4, -5, -6, 7, -8, -9]`では、インデックス1、4、7のブール変数が`True`となり、それぞれの位置変数から数字1の開始位置は2、数字2は4、数字3は7であることが分かります。この情報を基に、各マスの状態を`[1, 0, 1, 1, 0, 1, 1, 1, 0, 0]`と求めることができます。この方法を使えば、各数字のすべての解を再帰的に計算するプログラムをCNF式で表現できます。  "
   ]
  },
  {
   "cell_type": "code",
   "execution_count": 25,
   "metadata": {},
   "outputs": [
    {
     "name": "stdout",
     "output_type": "stream",
     "text": [
      "[1, -2, -3, 4, -5, -6, 7, -8, -9] [1, 4, 7] [1, 0, 1, 1, 0, 1, 1, 1, 0, 0]\n",
      "[1, -2, -3, 4, -5, -6, -7, 8, -9] [1, 4, 8] [1, 0, 1, 1, 0, 0, 1, 1, 1, 0]\n",
      "[1, -2, -3, 4, -5, -6, -7, -8, 9] [1, 4, 9] [1, 0, 1, 1, 0, 0, 0, 1, 1, 1]\n",
      "[1, -2, -3, -4, -5, 6, -7, -8, 9] [1, 6, 9] [1, 0, 0, 0, 1, 1, 0, 1, 1, 1]\n",
      "[-1, -2, 3, -4, -5, 6, -7, -8, 9] [3, 6, 9] [0, 0, 1, 0, 1, 1, 0, 1, 1, 1]\n",
      "[-1, 2, -3, -4, -5, 6, -7, -8, 9] [2, 6, 9] [0, 1, 0, 0, 1, 1, 0, 1, 1, 1]\n",
      "[-1, 2, -3, -4, 5, -6, -7, 8, -9] [2, 5, 8] [0, 1, 0, 1, 1, 0, 1, 1, 1, 0]\n",
      "[1, -2, -3, -4, 5, -6, -7, 8, -9] [1, 5, 8] [1, 0, 0, 1, 1, 0, 1, 1, 1, 0]\n",
      "[1, -2, -3, -4, 5, -6, -7, -8, 9] [1, 5, 9] [1, 0, 0, 1, 1, 0, 0, 1, 1, 1]\n",
      "[-1, 2, -3, -4, 5, -6, -7, -8, 9] [2, 5, 9] [0, 1, 0, 1, 1, 0, 0, 1, 1, 1]\n"
     ]
    }
   ],
   "source": [
    "sat = Solver()\n",
    "sat.append_formula(cnf)\n",
    "\n",
    "cell_map = {}\n",
    "for n, pos_var in zip(numbers, pos_variables):\n",
    "    for key, val in pos_var.items():\n",
    "        cell_map[val] = (key, n)\n",
    "\n",
    "for sol in sat.enum_models():\n",
    "    true_vars = [loc for loc, v in enumerate(sol, 1) if v > 0]\n",
    "    cells = [0] * 10\n",
    "    for v in true_vars:\n",
    "        s, n = cell_map[v]\n",
    "        for j in range(s, s+n):\n",
    "            cells[j] = 1\n",
    "    print(sol, true_vars, cells)"
   ]
  },
  {
   "cell_type": "markdown",
   "metadata": {},
   "source": [
    "前述の方法で各行や列ごとの位置変数の制約を作成しましたが、行と列の関係を表す制約は各マスに対応するブール変数によって定義されます。そのため、さらにCNF式を追加し、位置変数の値をマスの塗り分け変数に変換する必要があります。各マスと塗り分けの開始位置の関係には次の4種類があります。以下の記法を使用します。 \n",
    "\n",
    "- `num[i]`：`i`番目の数字  \n",
    "- `pos[i]`：`i`番目の数字の開始位置  \n",
    "- `cell[j]`：`j`番目のマス  \n",
    "\n",
    "1. 最初の塗り開始位置より前のマスは塗られない：`cell[j] == 0, for all j < pos[0]`  \n",
    "2. 最後の塗り終了位置より後のマスは塗られない：`cell[j] == 0, for all j >= pos[-1] + num[-1]`  \n",
    "3. 塗り開始位置`pos[i]`から連続`num[i]`個のマスは塗られる：`cell[j] == 1, for all pos[i] <= j < pos[i] + num[i]`  \n",
    "4. 連続する塗りの間のマスは塗られない：`cell[j] == 0, for all pos[i] + num[i] <= j < pos[i+1]`  \n",
    "\n",
    "次の`cell_variables_constraint()`は、これら4種類の制約をCNF式に変換します。`pos_variables`は`create_position_variables()`で作成された位置変数リスト、`cell_variables`はマスの塗り分け状態を表すブール変数リストです。  "
   ]
  },
  {
   "cell_type": "code",
   "execution_count": 26,
   "metadata": {},
   "outputs": [],
   "source": [
    "def cell_variables_constraint(pos_variables, cell_variables, numbers, count):\n",
    "    cnf = []\n",
    "    # cell[j] == 1 for all pos[i] <= j < pos[i] + num[i]\n",
    "    for i, pos_var in enumerate(pos_variables):\n",
    "        for pos, var in pos_var.items():\n",
    "            for j in range(numbers[i]):\n",
    "                cnf.append([-var, cell_variables[pos + j]])\n",
    "\n",
    "    # cell[j] == 0, for all j < pos[0]\n",
    "    for pos, var in pos_variables[0].items():\n",
    "        for j in range(0, pos):\n",
    "            cnf.append([-var, -cell_variables[j]])\n",
    "\n",
    "    # cell[j] == 0, for all j >= pos[-1] + num[-1]\n",
    "    for pos, var in pos_variables[-1].items():\n",
    "        for j in range(pos + numbers[-1], count):\n",
    "            cnf.append([-var, -cell_variables[j]])\n",
    "\n",
    "    # cell[j] == 0 for all pos[i] + num[i] <= j < pos[i+1]\n",
    "    for i, (pos_var1, pos_var2) in enumerate(pairwise(pos_variables)):\n",
    "        for pos1, pos2 in itertools.product(pos_var1, pos_var2):\n",
    "            if pos2 > pos1 + numbers[i]:\n",
    "                for j in range(pos1 + numbers[i], pos2):\n",
    "                    cnf.append([-pos_var1[pos1], -pos_var2[pos2], -cell_variables[j]])\n",
    "    return cnf"
   ]
  },
  {
   "cell_type": "markdown",
   "metadata": {},
   "source": [
    "最後に、10マスの塗り分け変数と各数字の位置変数を作成し、すべての制約条件を満たすCNF式を求めます。  "
   ]
  },
  {
   "cell_type": "code",
   "execution_count": 27,
   "metadata": {},
   "outputs": [],
   "source": [
    "numbers = [1, 2, 3]\n",
    "count = 10\n",
    "cell_variables = list(range(1, count + 1))\n",
    "pos_variables = create_position_variables(numbers, count, itertools.count(count + 1))\n",
    "cnf = position_variables_constraint(pos_variables, numbers)\n",
    "cnf += cell_variables_constraint(pos_variables, cell_variables, numbers, count)"
   ]
  },
  {
   "cell_type": "markdown",
   "metadata": {},
   "source": [
    "これを解くことで、`cell_variables_constraint()`が作成したCNF式が自動的にマスを塗り分けられることが確認できます。 "
   ]
  },
  {
   "cell_type": "code",
   "execution_count": 28,
   "metadata": {},
   "outputs": [
    {
     "name": "stdout",
     "output_type": "stream",
     "text": [
      "[1, 0, 1, 1, 0, 1, 1, 1, 0, 0]\n",
      "[1, 0, 1, 1, 0, 0, 1, 1, 1, 0]\n",
      "[1, 0, 1, 1, 0, 0, 0, 1, 1, 1]\n",
      "[1, 0, 0, 1, 1, 0, 0, 1, 1, 1]\n",
      "[0, 1, 0, 1, 1, 0, 0, 1, 1, 1]\n",
      "[0, 1, 0, 1, 1, 0, 1, 1, 1, 0]\n",
      "[1, 0, 0, 1, 1, 0, 1, 1, 1, 0]\n",
      "[1, 0, 0, 0, 1, 1, 0, 1, 1, 1]\n",
      "[0, 1, 0, 0, 1, 1, 0, 1, 1, 1]\n",
      "[0, 0, 1, 0, 1, 1, 0, 1, 1, 1]\n"
     ]
    }
   ],
   "source": [
    "sat = Solver()\n",
    "sat.append_formula(cnf)\n",
    "for sol in sat.enum_models():\n",
    "    print([int(x > 0) for x in sol[:count]])"
   ]
  },
  {
   "cell_type": "markdown",
   "metadata": {},
   "source": [
    "以下の`NonogramFastSolver`クラスは、前述の関数を使ってノノグラムのCNF式を生成します。このクラスは`NonogramSimpleSolver`を継承し、`add_constraints()`メソッドのみを再定義しています。  "
   ]
  },
  {
   "cell_type": "code",
   "execution_count": 29,
   "metadata": {},
   "outputs": [],
   "source": [
    "import numpy as np\n",
    "\n",
    "class NonogramFastSolver(NonogramSimpleSolver):            \n",
    "    def add_constraints(self, numbers, count, cell_variables):\n",
    "        pos_variables = create_position_variables(numbers, count, self.new_vars)\n",
    "        self.cnf.extend(position_variables_constraint(pos_variables, numbers))\n",
    "        self.cnf.extend(cell_variables_constraint(pos_variables, cell_variables, numbers, count))"
   ]
  },
  {
   "cell_type": "markdown",
   "metadata": {},
   "source": [
    "`NonogramFastSolver`はより大きなノノグラム問題を解くことができ、`nonogram02.json`のパズルでは、`NonogramSimpleSolver`の約50倍の速度で解を求められます。"
   ]
  },
  {
   "cell_type": "code",
   "execution_count": 30,
   "metadata": {},
   "outputs": [
    {
     "name": "stdout",
     "output_type": "stream",
     "text": [
      "CPU times: total: 328 ms\n",
      "Wall time: 477 ms\n"
     ]
    },
    {
     "data": {
      "image/png": "[encoded data removed]",
      "text/plain": [
       "<Figure size 500x500 with 1 Axes>"
      ]
     },
     "metadata": {},
     "output_type": "display_data"
    }
   ],
   "source": [
    "%time solve_and_paint(\"data/nonogram02.json\", solver=NonogramFastSolver, font_size=9)"
   ]
  },
  {
   "cell_type": "markdown",
   "metadata": {},
   "source": [
    "最後に、`NonogramFastSolver`を使用して、45×60の大規模なパズル`nonogram03.json`を解いてみましょう。"
   ]
  },
  {
   "cell_type": "code",
   "execution_count": 31,
   "metadata": {},
   "outputs": [
    {
     "name": "stdout",
     "output_type": "stream",
     "text": [
      "CPU times: total: 5.94 s\n",
      "Wall time: 6.47 s\n"
     ]
    },
    {
     "data": {
      "image/png": "[encoded data removed]",
      "text/plain": [
       "<Figure size 900x900 with 1 Axes>"
      ]
     },
     "metadata": {},
     "output_type": "display_data"
    }
   ],
   "source": [
    "%time solve_and_paint(\"data/nonogram03.json\", solver=NonogramFastSolver, figsize=(9, 9), font_size=5)"
   ]
  }
 ],
 "metadata": {
  "anaconda-cloud": {},
  "kernelspec": {
   "display_name": "Python 3 (ipykernel)",
   "language": "python",
   "name": "python3"
  },
  "language_info": {
   "codemirror_mode": {
    "name": "ipython",
    "version": 3
   },
   "file_extension": ".py",
   "mimetype": "text/x-python",
   "name": "python",
   "nbconvert_exporter": "python",
   "pygments_lexer": "ipython3",
   "version": "3.12.2"
  }
 },
 "nbformat": 4,
 "nbformat_minor": 4
}
