{
 "cells": [
  {
   "cell_type": "markdown",
   "id": "ffbe06b1-a50b-489a-bae5-a6349dfc205a",
   "metadata": {},
   "source": [
    "# CP-SATの基本API"
   ]
  },
  {
   "cell_type": "code",
   "execution_count": 2,
   "id": "d55cf508-a579-428c-9cf1-1285427a1be0",
   "metadata": {},
   "outputs": [],
   "source": [
    "from ortools.sat.python import cp_model\n",
    "from helper.ortools import get_all_solutions"
   ]
  },
  {
   "cell_type": "markdown",
   "id": "0a37fe45-915d-4b9f-a922-2b930c989693",
   "metadata": {},
   "source": [
    "本章では、CP-SATの基本的なAPI関数について説明します。主に以下の関数が含まれます。\n",
    "\n",
    "- **変数作成**: `new_int_var`, `new_bool_var`, `new_int_var_from_domain`  \n",
    "- **目的関数**: `minimize`, `maximize`  \n",
    "- **線形制約**: `add`, `add_linear_constraint`, `add_linear_expression_in_domain`\n",
    "- **絶対値と最大・最小制約**: `add_min_equality`, `add_max_equality`, `add_abs_equality`  \n",
    "- **乗算・除算・剰余制約**: `add_modulo_equality`, `add_multiplication_equality`, `add_division_equality`  \n",
    "- **異なる値**: `add_all_different`  \n",
    "- **論理制約**: `add_implication`, `add_bool_or`, `add_at_least_one`, `add_at_most_one`, `add_exactly_one`, `add_bool_and`, `add_bool_xor`  \n",
    "- **ドメインと組み合わせ**: `add_allowed_assignments`, `add_forbidden_assignments`  \n",
    "- **配列/要素制約**: `add_element`, `add_inverse`  "
   ]
  },
  {
   "cell_type": "markdown",
   "id": "97aca140-8299-44e3-9aee-df2fbd04ab31",
   "metadata": {},
   "source": [
    "## 変数の作成\n",
    "\n",
    "- `new_int_var`: 最小値、最大値、変数名を指定して整数変数を作成\n",
    "- `new_bool_var`: 最小値0、最大値1の整数変数を作成。引数には変数名のみ指定\n",
    "- `new_int_var_from_domain`: 不連続な範囲を指定して整数変数を作成\n",
    "\n",
    "以下では、これらの関数を使った例を説明します。ヘルプ関数`get_all_solutions()`を使ってすべての解を取得し、変数の候補値を観測します。"
   ]
  },
  {
   "cell_type": "markdown",
   "id": "45888a76-73d7-48c5-ab8c-1da28bdd4eef",
   "metadata": {},
   "source": [
    "次に、$0 \\le x \\le 3$ の整数変数を作成します。"
   ]
  },
  {
   "cell_type": "code",
   "execution_count": 4,
   "id": "5d5bae92-c9f6-477c-8f45-fc518c02b5e9",
   "metadata": {},
   "outputs": [
    {
     "data": {
      "text/plain": [
       "[{'x': 0}, {'x': 1}, {'x': 2}, {'x': 3}]"
      ]
     },
     "execution_count": 4,
     "metadata": {},
     "output_type": "execute_result"
    }
   ],
   "source": [
    "model = cp_model.CpModel()\n",
    "x = model.new_int_var(0, 3, 'x')\n",
    "get_all_solutions(model)"
   ]
  },
  {
   "cell_type": "markdown",
   "id": "e3691d95-9c83-45ef-86fc-7fff7c8939b0",
   "metadata": {},
   "source": [
    "次に、$0 \\le b \\le 1$ の整数変数（ブール変数）を作成します。"
   ]
  },
  {
   "cell_type": "code",
   "execution_count": 5,
   "id": "c5a38a50-c1a6-4517-be6b-a2a0382dc3dd",
   "metadata": {},
   "outputs": [
    {
     "data": {
      "text/plain": [
       "[{'b': 0}, {'b': 1}]"
      ]
     },
     "execution_count": 5,
     "metadata": {},
     "output_type": "execute_result"
    }
   ],
   "source": [
    "model = cp_model.CpModel()\n",
    "x = model.new_bool_var('b')\n",
    "get_all_solutions(model)"
   ]
  },
  {
   "cell_type": "markdown",
   "id": "1171fedf-0009-4609-9aae-26ecc45ba78a",
   "metadata": {},
   "source": [
    "次に、`Domain.from_values()` を使って候補値を直接指定します。"
   ]
  },
  {
   "cell_type": "code",
   "execution_count": 6,
   "id": "c3a65cf4-e55c-4af2-8b66-e5ae2813450d",
   "metadata": {},
   "outputs": [
    {
     "data": {
      "text/plain": [
       "[{'x': 1}, {'x': 3}, {'x': 5}, {'x': 7}]"
      ]
     },
     "execution_count": 6,
     "metadata": {},
     "output_type": "execute_result"
    }
   ],
   "source": [
    "model = cp_model.CpModel()\n",
    "domain = cp_model.Domain.from_values([1, 3, 5, 7])\n",
    "x = model.new_int_var_from_domain(domain, 'x')\n",
    "get_all_solutions(model)"
   ]
  },
  {
   "cell_type": "markdown",
   "id": "9f71e995-92e3-44da-93c5-5951413d876e",
   "metadata": {},
   "source": [
    "次に、`Domain.from_flat_intervals()` を使って複数の範囲を指定します。各範囲は連続した二つの値のペアで指定します。下限や上限がない場合は、`INT_MIN` と `INT_MAX` を使用します。"
   ]
  },
  {
   "cell_type": "code",
   "execution_count": 7,
   "id": "f99ee479-d1e4-4de9-b2c5-4062d5327cb9",
   "metadata": {},
   "outputs": [
    {
     "data": {
      "text/plain": [
       "[{'x': 1},\n",
       " {'x': 2},\n",
       " {'x': 3},\n",
       " {'x': 7},\n",
       " {'x': 8},\n",
       " {'x': 9},\n",
       " {'x': 10},\n",
       " {'x': 11},\n",
       " {'x': 12}]"
      ]
     },
     "execution_count": 7,
     "metadata": {},
     "output_type": "execute_result"
    }
   ],
   "source": [
    "model = cp_model.CpModel()\n",
    "domain = cp_model.Domain.from_flat_intervals([1, 3, 7, 9, 10, 12])\n",
    "x = model.new_int_var_from_domain(domain, 'x')\n",
    "get_all_solutions(model)"
   ]
  },
  {
   "cell_type": "markdown",
   "id": "bc966db9-a76f-42a3-83d7-1ae6dca98e78",
   "metadata": {},
   "source": [
    "## 線形制約\n",
    "\n",
    "- `add()`: 線形演算式の比較式を制約条件として追加します。\n",
    "- `add_linear_constraint()`: 線形演算式とその下限・上限を指定して制約条件を追加します。\n",
    "- `add_linear_expression_in_domain()`: 線形演算式の不連続な範囲を制約します。\n",
    "\n",
    "次の二つの例では、すべて $30 \\le 10 x \\le 50$ という線形制約を作成しますが、例1では二つの `add()` を使って式の下限と上限を指定します。例2では、`add_linear_constraint()` を使って下限と上限を同時に設定します。"
   ]
  },
  {
   "cell_type": "code",
   "execution_count": 11,
   "id": "e54a6885-68ab-45c4-b2ff-4c5665ff0b30",
   "metadata": {},
   "outputs": [
    {
     "data": {
      "text/plain": [
       "[{'x': 3}, {'x': 4}, {'x': 5}]"
      ]
     },
     "execution_count": 11,
     "metadata": {},
     "output_type": "execute_result"
    }
   ],
   "source": [
    "model = cp_model.CpModel()\n",
    "x = model.new_int_var(0, 100, 'x')\n",
    "model.add(10 * x <= 50)\n",
    "model.add(10 * x >= 30)\n",
    "get_all_solutions(model)"
   ]
  },
  {
   "cell_type": "code",
   "execution_count": 14,
   "id": "2afa34d4-1a68-4edf-bc79-5e405d632381",
   "metadata": {},
   "outputs": [
    {
     "data": {
      "text/plain": [
       "[{'x': 3}, {'x': 4}, {'x': 5}]"
      ]
     },
     "execution_count": 14,
     "metadata": {},
     "output_type": "execute_result"
    }
   ],
   "source": [
    "model = cp_model.CpModel()\n",
    "x = model.new_int_var(0, 100, 'x')\n",
    "model.add_linear_constraint(10 * x, 30, 50)\n",
    "get_all_solutions(model)"
   ]
  },
  {
   "cell_type": "markdown",
   "id": "ad749224-093f-4fa1-b109-eedcc1d8c7a8",
   "metadata": {},
   "source": [
    "次に、`add_linear_expression_in_domain()` を使って、$30 \\le 10 x \\le 50 \\lor 30 \\le 10 x \\le 80$ という線形制約を作成します。"
   ]
  },
  {
   "cell_type": "code",
   "execution_count": 13,
   "id": "2469d3a5-6a1b-4142-86ec-e2e21c054ce6",
   "metadata": {},
   "outputs": [
    {
     "data": {
      "text/plain": [
       "[{'x': 3}, {'x': 4}, {'x': 5}, {'x': 7}, {'x': 8}]"
      ]
     },
     "execution_count": 13,
     "metadata": {},
     "output_type": "execute_result"
    }
   ],
   "source": [
    "model = cp_model.CpModel()\n",
    "x = model.new_int_var(0, 100, 'x')\n",
    "domain = cp_model.Domain.from_flat_intervals([30, 50, 70, 80])\n",
    "model.add_linear_expression_in_domain(10 * x, domain)\n",
    "get_all_solutions(model)"
   ]
  },
  {
   "cell_type": "markdown",
   "id": "1da8a662-8c41-4ee4-be4f-77c4f95bc7f1",
   "metadata": {},
   "source": [
    "本書では、次の二つのヘルプ関数を提供します。これらの関数は比較式を作成し、`add()` で制約条件として追加できます。\n",
    "\n",
    "- $l \\le x \\le u$: `is_between(x, l, u)`\n",
    "- $x < l \\lor x > u$: `is_not_between(x, l, u)`"
   ]
  },
  {
   "cell_type": "code",
   "execution_count": 38,
   "id": "631e79fc-a2ac-4333-a965-1b5b642e4837",
   "metadata": {},
   "outputs": [
    {
     "data": {
      "text/plain": [
       "[{'x': 3, 'y': 6},\n",
       " {'x': 4, 'y': 5},\n",
       " {'x': 4, 'y': 6},\n",
       " {'x': 5, 'y': 4},\n",
       " {'x': 5, 'y': 5},\n",
       " {'x': 6, 'y': 3},\n",
       " {'x': 6, 'y': 4}]"
      ]
     },
     "execution_count": 38,
     "metadata": {},
     "output_type": "execute_result"
    }
   ],
   "source": [
    "model = cp_model.CpModel()\n",
    "x = model.new_int_var(1, 6, 'x')\n",
    "y = model.new_int_var(1, 6, 'y')\n",
    "model.add(is_between(x + y, 9, 10))\n",
    "get_all_solutions(model)"
   ]
  },
  {
   "cell_type": "code",
   "execution_count": 39,
   "id": "ee46acf4-d60e-45e8-83f4-f751a999c073",
   "metadata": {},
   "outputs": [
    {
     "data": {
      "text/plain": [
       "[{'x': 1, 'y': 1}, {'x': 2, 'y': 1}, {'x': 1, 'y': 2}, {'x': 6, 'y': 6}]"
      ]
     },
     "execution_count": 39,
     "metadata": {},
     "output_type": "execute_result"
    }
   ],
   "source": [
    "model = cp_model.CpModel()\n",
    "x = model.new_int_var(1, 6, 'x')\n",
    "y = model.new_int_var(1, 6, 'y')\n",
    "model.add(is_not_between(x + y, 4, 11))\n",
    "get_all_solutions(model)"
   ]
  },
  {
   "cell_type": "markdown",
   "id": "3130c2ca-35fb-4bc6-a1fb-2d9258d9e48f",
   "metadata": {},
   "source": [
    "## 条件分岐"
   ]
  },
  {
   "cell_type": "markdown",
   "id": "3ed03a30-1549-4b93-9d4f-b6f1fe879503",
   "metadata": {},
   "source": [
    "作成した制約条件に対して、`only_enforce_if()` メソッドを使用すると、その条件が有効になる前提条件を指定できます。前提条件には、一つまたは複数のブール変数、あるいはその否定のみを使用できます。たとえば、次のような条件を実装する場合、中間のブール変数を用いることで、二つの比較式をリンクできます。\n",
    "\n",
    "$$\n",
    "1 \\leq x \\leq 3, \\quad 1 \\leq y \\leq 3\n",
    "$$\n",
    "$$\n",
    "z =\n",
    "\\begin{cases}\n",
    "50, & \\text{if } x + y \\geq 4 \\\\\n",
    "-50, & \\text{otherwise}\n",
    "\\end{cases}\n",
    "$$\n",
    "\n",
    "以下のコードでは、`only_enforce_if(cond)` と `only_enforce_if(~cond)` を使用し、`cond` を `x + y >= 4` にリンクさせています。次に、この条件を利用して `z` の値を制約します。"
   ]
  },
  {
   "cell_type": "code",
   "execution_count": 4,
   "id": "75ab9929-80f6-4a26-8b4e-0458c1a18c1e",
   "metadata": {},
   "outputs": [
    {
     "data": {
      "text/plain": [
       "[{'x': 1, 'y': 1, 'z': -50, 'cond': 0},\n",
       " {'x': 2, 'y': 1, 'z': -50, 'cond': 0},\n",
       " {'x': 1, 'y': 2, 'z': -50, 'cond': 0},\n",
       " {'x': 1, 'y': 3, 'z': 50, 'cond': 1},\n",
       " {'x': 2, 'y': 2, 'z': 50, 'cond': 1},\n",
       " {'x': 3, 'y': 2, 'z': 50, 'cond': 1},\n",
       " {'x': 3, 'y': 3, 'z': 50, 'cond': 1},\n",
       " {'x': 2, 'y': 3, 'z': 50, 'cond': 1},\n",
       " {'x': 3, 'y': 1, 'z': 50, 'cond': 1}]"
      ]
     },
     "execution_count": 4,
     "metadata": {},
     "output_type": "execute_result"
    }
   ],
   "source": [
    "model = cp_model.CpModel()\n",
    "x, y = [model.new_int_var(1, 3, name) for name in 'xy']\n",
    "z= model.new_int_var(-100, 100, 'z')\n",
    "\n",
    "cond = model.new_bool_var('cond')\n",
    "model.add(x + y >= 4).only_enforce_if(cond)\n",
    "model.add(x + y < 4).only_enforce_if(~cond)\n",
    "\n",
    "model.add(z == 50).only_enforce_if(cond)\n",
    "model.add(z == -50).only_enforce_if(~cond)\n",
    "get_all_solutions(model)"
   ]
  },
  {
   "cell_type": "markdown",
   "id": "03229de8-50cb-4ccd-8553-8a31a74552a7",
   "metadata": {},
   "source": [
    "上記の方法では、比較式の否定を手動で作成する必要があり、手間がかかります。本書では、ヘルパー関数 `equals(cond, expr, model)` を用いることで、`expr` の否定を自動生成し、次の二つの制約を `model` に追加できます。\n",
    "\n",
    "```python\n",
    "model.add(expr).only_enforce_if(cond)\n",
    "model.add(inverse_expr).only_enforce_if(~cond)\n",
    "```\n",
    "\n",
    "以下のコードでは、`equals()` を用いて `x + y >= 4` の条件を `cond` に関連付けています。"
   ]
  },
  {
   "cell_type": "code",
   "execution_count": 5,
   "id": "adf90c45-8f9b-43b2-af1e-125b688d1c9c",
   "metadata": {},
   "outputs": [
    {
     "data": {
      "text/plain": [
       "[{'x': 1, 'y': 1, 'z': -50, 'cond': 0},\n",
       " {'x': 2, 'y': 1, 'z': -50, 'cond': 0},\n",
       " {'x': 1, 'y': 2, 'z': -50, 'cond': 0},\n",
       " {'x': 1, 'y': 3, 'z': 50, 'cond': 1},\n",
       " {'x': 2, 'y': 2, 'z': 50, 'cond': 1},\n",
       " {'x': 3, 'y': 2, 'z': 50, 'cond': 1},\n",
       " {'x': 3, 'y': 3, 'z': 50, 'cond': 1},\n",
       " {'x': 2, 'y': 3, 'z': 50, 'cond': 1},\n",
       " {'x': 3, 'y': 1, 'z': 50, 'cond': 1}]"
      ]
     },
     "execution_count": 5,
     "metadata": {},
     "output_type": "execute_result"
    }
   ],
   "source": [
    "from helper.ortools import equals\n",
    "model = cp_model.CpModel()\n",
    "x, y = [model.new_int_var(1, 3, name) for name in 'xy']\n",
    "z= model.new_int_var(-100, 100, 'z')\n",
    "\n",
    "cond = model.new_bool_var('cond')\n",
    "equals(cond, x + y >= 4, model)\n",
    "\n",
    "model.add(z == 50).only_enforce_if(cond)\n",
    "model.add(z == -50).only_enforce_if(~cond)\n",
    "get_all_solutions(model)"
   ]
  },
  {
   "cell_type": "markdown",
   "id": "095402ac-069c-46ce-9db2-6e7821f3230f",
   "metadata": {},
   "source": [
    "## 最大値、最小値、絶対値\n",
    "\n",
    "次には、最小値・最大値・絶対値に関する制約を簡単に追加できるメソッドを紹介します。\n",
    "\n",
    "1. `add_min_equality(target, expressions)`: `target = min(expressions)` となる制約を追加します。  \n",
    "2. `add_max_equality(target, expressions)`: `target = max(expressions)` となる制約を追加します。  \n",
    "3. `add_abs_equality(target, expression)`: `target = abs(expression)` となる制約を追加します。\n",
    "\n",
    "次のコードでは、`2 * x` と `y` のうち小さい方が 2 になるように制約*課されます。例えば、`x=1, y=3` の場合 `min(2, 3) = 2` なので、このような組み合わせが解となります。"
   ]
  },
  {
   "cell_type": "code",
   "execution_count": 15,
   "id": "3f2f232a-ac0c-4d5f-b121-ecb417156176",
   "metadata": {},
   "outputs": [
    {
     "data": {
      "text/plain": [
       "[{'x': 1, 'y': 2},\n",
       " {'x': 1, 'y': 3},\n",
       " {'x': 1, 'y': 4},\n",
       " {'x': 2, 'y': 2},\n",
       " {'x': 3, 'y': 2},\n",
       " {'x': 4, 'y': 2}]"
      ]
     },
     "execution_count": 15,
     "metadata": {},
     "output_type": "execute_result"
    }
   ],
   "source": [
    "model = cp_model.CpModel()\n",
    "x, y = [model.new_int_var(0, 4, n) for n in 'xy']\n",
    "model.add_min_equality(2, [2 * x,  y])\n",
    "get_all_solutions(model)"
   ]
  },
  {
   "cell_type": "markdown",
   "id": "f466e4b1-3c71-4b8d-8e63-192994b5673d",
   "metadata": {},
   "source": [
    "次のコードでは、`2 * x` と `y` のうち大きい方が 4 になるように制約が課されます。例えば、`x=2, y=3` の場合 `max(4, 3) = 4` なので、このような組み合わせが解となります。"
   ]
  },
  {
   "cell_type": "code",
   "execution_count": 16,
   "id": "ff548391-0eaf-4e3b-b1c4-248ca600a73d",
   "metadata": {},
   "outputs": [
    {
     "data": {
      "text/plain": [
       "[{'x': 1, 'y': 4},\n",
       " {'x': 2, 'y': 1},\n",
       " {'x': 2, 'y': 2},\n",
       " {'x': 2, 'y': 3},\n",
       " {'x': 2, 'y': 4}]"
      ]
     },
     "execution_count": 16,
     "metadata": {},
     "output_type": "execute_result"
    }
   ],
   "source": [
    "model = cp_model.CpModel()\n",
    "x, y = [model.new_int_var(1, 4, n) for n in 'xy']\n",
    "model.add_max_equality(4, [2 * x, y])\n",
    "get_all_solutions(model)"
   ]
  },
  {
   "cell_type": "markdown",
   "id": "5840f8cd-8334-4251-ba6f-b6dcce188bd5",
   "metadata": {},
   "source": [
    "次のコードでは、`x - y` の絶対値が `2` になるように制約が課されます。例えば、`x=3, y=1` の場合 `|3 - 1| = 2` なので、このような組み合わせが解となります。"
   ]
  },
  {
   "cell_type": "code",
   "execution_count": 17,
   "id": "35d40ce5-9521-4bd8-90d1-8fe83ec933c4",
   "metadata": {},
   "outputs": [
    {
     "data": {
      "text/plain": [
       "[{'x': 1, 'y': 3}, {'x': 2, 'y': 4}, {'x': 3, 'y': 1}, {'x': 4, 'y': 2}]"
      ]
     },
     "execution_count": 17,
     "metadata": {},
     "output_type": "execute_result"
    }
   ],
   "source": [
    "model = cp_model.CpModel()\n",
    "x, y = [model.new_int_var(1, 4, n) for n in 'xy']\n",
    "model.add_abs_equality(2, x - y)\n",
    "get_all_solutions(model)"
   ]
  },
  {
   "cell_type": "markdown",
   "id": "7aee54f1-4f3d-4376-add7-f3309de42ff9",
   "metadata": {},
   "source": [
    "## 変数同士の乗算・除算\n",
    "\n",
    "次は、整数変数同士の乗算・除算を簡単にモデル化するための便利なメソッドを紹介します。\n",
    "\n",
    "* `add_modulo_equality(target, dividend, divisor)`: `dividend % divisor == target` という制約を追加します。\n",
    "* `add_multiplication_equality(target, *expressions)`: `product(expressions) == target` という制約を追加します。\n",
    "* `add_division_equality(target, numerator, denominator)`: `numerator // denominator == target` という制約を追加します（整数除算）。\n",
    "\n",
    "以下のコードは、`add_multiplication_equality()`で三辺の長さが整数である直角三角形（ピタゴラス数）を求めます。"
   ]
  },
  {
   "cell_type": "code",
   "execution_count": 7,
   "id": "24bd323b-db8b-4e34-bc40-774b3d3eb928",
   "metadata": {},
   "outputs": [
    {
     "data": {
      "text/plain": [
       "[{'x': 3, 'y': 4, 'z': 5, 'x2': 9, 'y2': 16, 'z2': 25},\n",
       " {'x': 5, 'y': 12, 'z': 13, 'x2': 25, 'y2': 144, 'z2': 169},\n",
       " {'x': 6, 'y': 8, 'z': 10, 'x2': 36, 'y2': 64, 'z2': 100},\n",
       " {'x': 8, 'y': 15, 'z': 17, 'x2': 64, 'y2': 225, 'z2': 289},\n",
       " {'x': 9, 'y': 12, 'z': 15, 'x2': 81, 'y2': 144, 'z2': 225},\n",
       " {'x': 12, 'y': 16, 'z': 20, 'x2': 144, 'y2': 256, 'z2': 400}]"
      ]
     },
     "execution_count": 7,
     "metadata": {},
     "output_type": "execute_result"
    }
   ],
   "source": [
    "model = cp_model.CpModel()\n",
    "max_n = 20\n",
    "x, y, z = [model.new_int_var(1, max_n, n) for n in 'xyz']\n",
    "x2, y2, z2 = [model.new_int_var(1, 2 * max_n**2, n) for n in ['x2', 'y2', 'z2']]\n",
    "model.add_multiplication_equality(x2, x, x)\n",
    "model.add_multiplication_equality(y2, y, y)\n",
    "model.add_multiplication_equality(z2, z, z)\n",
    "model.add(x2 + y2 == z2)\n",
    "model.add(y >= x)\n",
    "get_all_solutions(model)"
   ]
  },
  {
   "cell_type": "markdown",
   "id": "b64400ec-4ca5-4894-a844-9b51a42e06e7",
   "metadata": {},
   "source": [
    "## 異なる値\n",
    "\n",
    "複数の変数がすべて異なる値を取るようにするための便利なメソッド`add_all_different(*expressions)`が用意されています。指定したすべての演算式が**異なる値を取る**ように制約を追加します。これは数独や割り当て問題など、異なる値を必要とする問題でよく使われます。次のコードは, `1, 2, 3`の順列を求めます。"
   ]
  },
  {
   "cell_type": "code",
   "execution_count": 19,
   "id": "335c2d10-8875-45eb-95f3-5ec2dc6863ab",
   "metadata": {},
   "outputs": [
    {
     "data": {
      "text/plain": [
       "[{'x': 3, 'y': 2, 'z': 1},\n",
       " {'x': 3, 'y': 1, 'z': 2},\n",
       " {'x': 2, 'y': 3, 'z': 1},\n",
       " {'x': 2, 'y': 1, 'z': 3},\n",
       " {'x': 1, 'y': 3, 'z': 2},\n",
       " {'x': 1, 'y': 2, 'z': 3}]"
      ]
     },
     "execution_count": 19,
     "metadata": {},
     "output_type": "execute_result"
    }
   ],
   "source": [
    "model = cp_model.CpModel()\n",
    "x, y, z = [model.new_int_var(1, 3, n) for n in 'xyz']\n",
    "model.add_all_different(x, y, z)\n",
    "get_all_solutions(model)"
   ]
  },
  {
   "attachments": {},
   "cell_type": "markdown",
   "id": "fad4b27c-5abf-4320-a766-60557a22af53",
   "metadata": {},
   "source": [
    "## 論理制約\n",
    "\n",
    "本節で紹介する制約条件はブール変数あるその否定しか使えません。\n",
    "\n",
    "| メソッド | 内容 |\n",
    "|----------|------|\n",
    "| `add_implication(a, b)` | **a ⇒ b** （a が真なら b も真） |\n",
    "| `add_bool_or([a, b, c])` | **a OR b OR c**（少なくとも 1 つ真） |\n",
    "| `add_at_least_one([a, b, c])` | **少なくとも 1 つ真** |\n",
    "| `add_at_most_one([a, b, c])` | **高々 1 つだけ真** |\n",
    "| `add_exactly_one([a, b, c])` | **ちょうど 1 つだけ真** |\n",
    "| `add_bool_and([a, b, c])` | **a AND b AND c**（すべて真） |\n",
    "| `add_bool_xor([a, b, c])` | **奇数個の変数が真** |\n"
   ]
  },
  {
   "cell_type": "markdown",
   "id": "7d366c21-1ff6-4ebc-9b66-d6caaa5e6a5f",
   "metadata": {},
   "source": [
    "`add_implication(a, b)` は論理包含の制約条件を追加します。これは「a が真ならば b も真である」という意味です。この制約は、次のテーブルで表現できます。\n",
    "\n",
    "| 入力 a | 入力 b | 出力 a → b |\n",
    "|--------|--------|------------|\n",
    "|   0    |   0    |     1      |\n",
    "|   0    |   1    |     1      |\n",
    "|   1    |   0    |     0      |\n",
    "|   1    |   1    |     1      |\n",
    "\n",
    "`a` が真のときに `b` も真である場合にのみ、「出力 a → b」は 1 になります。次のコードは、「出力 a → b」が 1 になる解を求め、3つの解を出力します。"
   ]
  },
  {
   "cell_type": "code",
   "execution_count": 12,
   "id": "f441dfee-75c5-47fa-9fb4-5d2fcfe3ffcb",
   "metadata": {},
   "outputs": [
    {
     "data": {
      "text/plain": [
       "[{'a': 0, 'b': 0}, {'a': 0, 'b': 1}, {'a': 1, 'b': 1}]"
      ]
     },
     "execution_count": 12,
     "metadata": {},
     "output_type": "execute_result"
    }
   ],
   "source": [
    "model = cp_model.CpModel()\n",
    "a, b = [model.new_bool_var(n) for n in 'ab']\n",
    "model.add_implication(a, b)\n",
    "get_all_solutions(model)"
   ]
  },
  {
   "cell_type": "markdown",
   "id": "4d06e927-6dc5-48c4-9ca2-d3fe3ab2fe53",
   "metadata": {},
   "source": [
    "`add_bool_or()` と `add_at_least_one()` は同じ意味で、ブール変数リストに対して少なくとも1つが真であることを制約します。つまり、全てが偽の組み合わせを除外します。"
   ]
  },
  {
   "cell_type": "code",
   "execution_count": 6,
   "id": "cafd11bc-d45d-46a1-9c31-0c967d08bc32",
   "metadata": {},
   "outputs": [
    {
     "data": {
      "text/plain": [
       "[{'x': 0, 'y': 1, 'z': 0},\n",
       " {'x': 0, 'y': 1, 'z': 1},\n",
       " {'x': 0, 'y': 0, 'z': 1},\n",
       " {'x': 1, 'y': 0, 'z': 1},\n",
       " {'x': 1, 'y': 0, 'z': 0},\n",
       " {'x': 1, 'y': 1, 'z': 0},\n",
       " {'x': 1, 'y': 1, 'z': 1}]"
      ]
     },
     "execution_count": 6,
     "metadata": {},
     "output_type": "execute_result"
    }
   ],
   "source": [
    "model = cp_model.CpModel()\n",
    "x, y, z = [model.new_bool_var(n) for n in 'xyz']\n",
    "model.add_bool_or(x, y, z)\n",
    "get_all_solutions(model)"
   ]
  },
  {
   "cell_type": "markdown",
   "id": "ab4d0d39-312c-409c-a61c-8713d1733d29",
   "metadata": {},
   "source": [
    "`add_at_most_one()` は、ブール変数リストの中で最大1つだけが真であることを制約します。つまり、2つ以上が真であることはありません。"
   ]
  },
  {
   "cell_type": "code",
   "execution_count": 8,
   "id": "6db20620-5fc9-40b5-9d10-9d2556109cb2",
   "metadata": {},
   "outputs": [
    {
     "data": {
      "text/plain": [
       "[{'x': 0, 'y': 0, 'z': 0},\n",
       " {'x': 0, 'y': 1, 'z': 0},\n",
       " {'x': 0, 'y': 0, 'z': 1},\n",
       " {'x': 1, 'y': 0, 'z': 0}]"
      ]
     },
     "execution_count": 8,
     "metadata": {},
     "output_type": "execute_result"
    }
   ],
   "source": [
    "model = cp_model.CpModel()\n",
    "x, y, z = [model.new_bool_var(n) for n in 'xyz']\n",
    "model.add_at_most_one(x, y, z)\n",
    "get_all_solutions(model)"
   ]
  },
  {
   "cell_type": "markdown",
   "id": "d38175b2-a641-412d-a004-2b11b21d8b70",
   "metadata": {},
   "source": [
    "`add_exactly_one()` は、ブール変数リストの中で ちょうど1つだけが真であることを制約します。"
   ]
  },
  {
   "cell_type": "code",
   "execution_count": 9,
   "id": "e316f87f-9fbd-4047-be84-72b8605c1063",
   "metadata": {},
   "outputs": [
    {
     "data": {
      "text/plain": [
       "[{'x': 0, 'y': 1, 'z': 0}, {'x': 0, 'y': 0, 'z': 1}, {'x': 1, 'y': 0, 'z': 0}]"
      ]
     },
     "execution_count": 9,
     "metadata": {},
     "output_type": "execute_result"
    }
   ],
   "source": [
    "model = cp_model.CpModel()\n",
    "x, y, z = [model.new_bool_var(n) for n in 'xyz']\n",
    "model.add_exactly_one(x, y, z)\n",
    "get_all_solutions(model)"
   ]
  },
  {
   "cell_type": "markdown",
   "id": "45e2cbaf-a143-42e8-902d-9bab7a642177",
   "metadata": {},
   "source": [
    "`add_bool_and()` は、ブール変数リストのすべてが真であることを制約します。"
   ]
  },
  {
   "cell_type": "code",
   "execution_count": 10,
   "id": "d45752cc-f3fd-4ef9-837e-30547e6c255c",
   "metadata": {},
   "outputs": [
    {
     "data": {
      "text/plain": [
       "[{'x': 1, 'y': 1, 'z': 1}]"
      ]
     },
     "execution_count": 10,
     "metadata": {},
     "output_type": "execute_result"
    }
   ],
   "source": [
    "model = cp_model.CpModel()\n",
    "x, y, z = [model.new_bool_var(n) for n in 'xyz']\n",
    "model.add_bool_and(x, y, z)\n",
    "get_all_solutions(model)"
   ]
  },
  {
   "cell_type": "markdown",
   "id": "3734251a-5c6b-4a67-ad85-6099e309de43",
   "metadata": {},
   "source": [
    "この制約は強すぎることが多いため、一般的には `only_enforce_if()` と併用して使用します。"
   ]
  },
  {
   "cell_type": "code",
   "execution_count": 13,
   "id": "84e8ec4a-8d4a-41c4-9c54-194f090d7678",
   "metadata": {},
   "outputs": [
    {
     "data": {
      "text/plain": [
       "[{'x': 1, 'y': 1, 'z': 0},\n",
       " {'x': 1, 'y': 1, 'z': 1},\n",
       " {'x': 1, 'y': 0, 'z': 1},\n",
       " {'x': 0, 'y': 0, 'z': 1},\n",
       " {'x': 0, 'y': 1, 'z': 1}]"
      ]
     },
     "execution_count": 13,
     "metadata": {},
     "output_type": "execute_result"
    }
   ],
   "source": [
    "model = cp_model.CpModel()\n",
    "x, y, z = [model.new_bool_var(n) for n in 'xyz']\n",
    "model.add_bool_and(x, y).only_enforce_if(~z)\n",
    "get_all_solutions(model)"
   ]
  },
  {
   "cell_type": "markdown",
   "id": "05007ce2-bc00-439a-a6f6-d727474645e0",
   "metadata": {},
   "source": [
    "`add_bool_xor()` は、ブール変数リストの中で奇数個の真があることを制約します。"
   ]
  },
  {
   "cell_type": "code",
   "execution_count": 11,
   "id": "84ed93b4-bd75-4efa-b4d2-f7cf23d3927c",
   "metadata": {},
   "outputs": [
    {
     "data": {
      "text/plain": [
       "[{'x': 0, 'y': 1, 'z': 0},\n",
       " {'x': 0, 'y': 0, 'z': 1},\n",
       " {'x': 1, 'y': 0, 'z': 0},\n",
       " {'x': 1, 'y': 1, 'z': 1}]"
      ]
     },
     "execution_count": 11,
     "metadata": {},
     "output_type": "execute_result"
    }
   ],
   "source": [
    "model = cp_model.CpModel()\n",
    "x, y, z = [model.new_bool_var(n) for n in 'xyz']\n",
    "model.add_bool_xor(x, y, z)\n",
    "get_all_solutions(model)"
   ]
  },
  {
   "cell_type": "markdown",
   "id": "81ee0b2b-c007-418f-bb41-9fa3196da9b1",
   "metadata": {},
   "source": [
    "## 組み合わせの解\n",
    "\n",
    "`add_allowed_assignments()` は、指定した変数に対して許可される値の組み合わせを制約として追加します。この制約は、リスト内の各変数が特定の組み合わせの値のみを取ることを強制します。\n",
    "\n",
    "次のコードでは、変数 `x` と `y` について特定の値の組み合わせ（`[5, 6]` と `[6, 7]`）を、変数 `y` と `z` についても別の組み合わせ（`[6, 8]` と `[7, 9]`）を設定し、許可された解を求めています。"
   ]
  },
  {
   "cell_type": "code",
   "execution_count": 31,
   "id": "b72d638a-6d1d-4110-ad1e-6717a2b186b7",
   "metadata": {},
   "outputs": [
    {
     "data": {
      "text/plain": [
       "[{'x': 5, 'y': 6, 'z': 8}, {'x': 6, 'y': 7, 'z': 9}]"
      ]
     },
     "execution_count": 31,
     "metadata": {},
     "output_type": "execute_result"
    }
   ],
   "source": [
    "model = cp_model.CpModel()\n",
    "x, y, z = [model.new_int_var(1, 10, n) for n in 'xyz']\n",
    "model.add_allowed_assignments([x, y], [[5, 6], [6, 7]])\n",
    "model.add_allowed_assignments([y, z], [[6, 8], [7, 9]])\n",
    "get_all_solutions(model)"
   ]
  },
  {
   "cell_type": "markdown",
   "id": "73293cc1-3242-4602-a841-e0234fb2e276",
   "metadata": {},
   "source": [
    "複数の計算式に対して候補の解を設定する場合は、中間変数を使います。次のコードでは、`x_plus_y` と `y_plus_z` は中間変数として定義され、各々 `x + y` と `y + z` の計算式を保持します。さらに、`add_allowed_assignments()`で`x_plus_y` は `5` または `6` になり、`y_plus_z` は `6` または `7` になる組み合わせが許可されます。この方法で中間変数を利用することで、複雑な計算式に対する解の候補を簡単に設定することができます。"
   ]
  },
  {
   "cell_type": "code",
   "execution_count": 33,
   "id": "edc11aff-c5f4-4170-8e26-dc5fcb98d648",
   "metadata": {},
   "outputs": [
    {
     "data": {
      "text/plain": [
       "[{'x': 1, 'y': 4, 'z': 2, 'x + y': 5, 'y + z': 6},\n",
       " {'x': 2, 'y': 3, 'z': 3, 'x + y': 5, 'y + z': 6},\n",
       " {'x': 3, 'y': 2, 'z': 4, 'x + y': 5, 'y + z': 6},\n",
       " {'x': 4, 'y': 1, 'z': 5, 'x + y': 5, 'y + z': 6},\n",
       " {'x': 4, 'y': 2, 'z': 5, 'x + y': 6, 'y + z': 7},\n",
       " {'x': 3, 'y': 3, 'z': 4, 'x + y': 6, 'y + z': 7},\n",
       " {'x': 2, 'y': 4, 'z': 3, 'x + y': 6, 'y + z': 7},\n",
       " {'x': 5, 'y': 1, 'z': 6, 'x + y': 6, 'y + z': 7},\n",
       " {'x': 1, 'y': 5, 'z': 2, 'x + y': 6, 'y + z': 7}]"
      ]
     },
     "execution_count": 33,
     "metadata": {},
     "output_type": "execute_result"
    }
   ],
   "source": [
    "model = cp_model.CpModel()\n",
    "x, y, z = [model.new_int_var(1, 10, n) for n in 'xyz']\n",
    "x_plus_y = model.new_int_var(-100, 100, 'x + y')\n",
    "y_plus_z = model.new_int_var(-100, 100, 'y + z')\n",
    "model.add(x_plus_y == x + y)\n",
    "model.add(y_plus_z == y + z)\n",
    "model.add_allowed_assignments([x_plus_y, y_plus_z], [[5, 6], [6, 7]])\n",
    "get_all_solutions(model)"
   ]
  },
  {
   "cell_type": "markdown",
   "id": "f0f9b0ac-ce74-4e5f-80de-d161e84dcadf",
   "metadata": {},
   "source": [
    "`add_forbidden_assignments()` は、指定した変数に対して許可しない値の組み合わせを制約として追加します。この制約を使うことで、特定の変数の組み合わせが解に現れないようにすることができます。次のコードでは、`x` と `y`、または `y` と `z` の組み合わせにおいて、`1, 2`、`1, 3`、`2, 2` の組み合わせを禁止します。"
   ]
  },
  {
   "cell_type": "code",
   "execution_count": 38,
   "id": "4bd8adb8-669d-4133-822c-b79788a581ed",
   "metadata": {},
   "outputs": [
    {
     "data": {
      "text/plain": [
       "[{'x': 3, 'y': 3, 'z': 1},\n",
       " {'x': 3, 'y': 2, 'z': 1},\n",
       " {'x': 3, 'y': 1, 'z': 1},\n",
       " {'x': 2, 'y': 1, 'z': 1},\n",
       " {'x': 2, 'y': 3, 'z': 1},\n",
       " {'x': 2, 'y': 3, 'z': 2},\n",
       " {'x': 2, 'y': 3, 'z': 3},\n",
       " {'x': 3, 'y': 3, 'z': 3},\n",
       " {'x': 3, 'y': 2, 'z': 3},\n",
       " {'x': 3, 'y': 3, 'z': 2},\n",
       " {'x': 1, 'y': 1, 'z': 1}]"
      ]
     },
     "execution_count": 38,
     "metadata": {},
     "output_type": "execute_result"
    }
   ],
   "source": [
    "model = cp_model.CpModel()\n",
    "x, y, z = [model.new_int_var(1, 3, n) for n in 'xyz']\n",
    "model.add_forbidden_assignments([x, y], [[1, 2], [1, 3], [2, 2]])\n",
    "model.add_forbidden_assignments([y, z], [[1, 2], [1, 3], [2, 2]])\n",
    "get_all_solutions(model)"
   ]
  },
  {
   "cell_type": "markdown",
   "id": "21c17777-a2e3-46e8-b55b-31930dc02570",
   "metadata": {},
   "source": [
    "## 配列要素"
   ]
  },
  {
   "cell_type": "markdown",
   "id": "c9c25422-d95d-45da-90a3-135d65041f58",
   "metadata": {},
   "source": [
    "`add_element(index, values, element)` は、配列 `values` の `index` 番目の要素が `element` に等しいことを制約として追加します。この制約を使用すると、配列内の指定した位置にある要素が特定の値に一致するように条件を設定できます。"
   ]
  },
  {
   "cell_type": "code",
   "execution_count": 57,
   "id": "20fff493-2620-47c5-abc0-7f532f2ced62",
   "metadata": {},
   "outputs": [
    {
     "data": {
      "text/plain": [
       "[{'index': 0, 'element': 1},\n",
       " {'index': 1, 'element': 3},\n",
       " {'index': 2, 'element': 5},\n",
       " {'index': 3, 'element': 7}]"
      ]
     },
     "execution_count": 57,
     "metadata": {},
     "output_type": "execute_result"
    }
   ],
   "source": [
    "model = cp_model.CpModel()\n",
    "index = model.new_int_var(0, 4, 'index')\n",
    "element = model.new_int_var(-100, 100, 'element')\n",
    "model.add_element(index, [1, 3, 5, 7], element)\n",
    "get_all_solutions(model)"
   ]
  },
  {
   "cell_type": "markdown",
   "id": "9a4fb1ef-ad02-4e73-a0af-b1512f46b868",
   "metadata": {},
   "source": [
    "`values` は定数のリストだけでなく、変数のリストを使うこともできます。"
   ]
  },
  {
   "cell_type": "code",
   "execution_count": 63,
   "id": "70437131-f72d-4c81-9996-fc63cafe4a57",
   "metadata": {},
   "outputs": [
    {
     "data": {
      "text/plain": [
       "[{'x': 0, 'y': 0, 'z': 0, 'index': 0, 'element': 0},\n",
       " {'x': 0, 'y': 1, 'z': 0, 'index': 0, 'element': 0},\n",
       " {'x': 0, 'y': 0, 'z': 1, 'index': 0, 'element': 0},\n",
       " {'x': 0, 'y': 0, 'z': 1, 'index': 1, 'element': 0},\n",
       " {'x': 0, 'y': 0, 'z': 0, 'index': 1, 'element': 0},\n",
       " {'x': 0, 'y': 1, 'z': 0, 'index': 1, 'element': 1},\n",
       " {'x': 0, 'y': 0, 'z': 1, 'index': 2, 'element': 1},\n",
       " {'x': 0, 'y': 0, 'z': 0, 'index': 2, 'element': 0},\n",
       " {'x': 0, 'y': 1, 'z': 0, 'index': 2, 'element': 0},\n",
       " {'x': 1, 'y': 0, 'z': 0, 'index': 2, 'element': 0},\n",
       " {'x': 1, 'y': 0, 'z': 0, 'index': 1, 'element': 0},\n",
       " {'x': 1, 'y': 0, 'z': 0, 'index': 0, 'element': 1}]"
      ]
     },
     "execution_count": 63,
     "metadata": {},
     "output_type": "execute_result"
    }
   ],
   "source": [
    "model = cp_model.CpModel()\n",
    "x, y, z =  [model.new_bool_var(n) for n in 'xyz']\n",
    "index = model.new_int_var(0, 3, 'index')\n",
    "element = model.new_int_var(-100, 100, 'element')\n",
    "model.add_at_most_one([x, y, z])\n",
    "model.add_element(index, [x, y, z], element)\n",
    "get_all_solutions(model)"
   ]
  },
  {
   "cell_type": "markdown",
   "id": "38fde8f2-2983-4f71-9535-d143624a6525",
   "metadata": {},
   "source": [
    "`add_inverse(a, b)` は、配列 `a` のインデックスを使って配列 `b` の要素を決定する制約を追加します。具体的には、`b[a[i]] == i` となるように制約します。これにより、`b` は `a` の `arg_sort()` と一致することが保証されます。\n",
    "\n",
    "例えば、`a` の要素 `[1, 2, 0]` が与えられた場合、`b` は `[2, 0, 1]` の順番に基づいてインデックスが配置され、`b[1] == 0`, `b[2] == 1`, `b[0] == 2` となります。"
   ]
  },
  {
   "cell_type": "code",
   "execution_count": 51,
   "id": "340e99af-a2e1-4505-b2e3-797c80e91339",
   "metadata": {},
   "outputs": [
    {
     "name": "stdout",
     "output_type": "stream",
     "text": [
      "a = [2, 1, 0], b = [2, 1, 0], arg_sort = [2, 1, 0]\n",
      "a = [1, 2, 0], b = [2, 0, 1], arg_sort = [2, 0, 1]\n",
      "a = [2, 0, 1], b = [1, 2, 0], arg_sort = [1, 2, 0]\n",
      "a = [1, 0, 2], b = [1, 0, 2], arg_sort = [1, 0, 2]\n",
      "a = [0, 2, 1], b = [0, 2, 1], arg_sort = [0, 2, 1]\n",
      "a = [0, 1, 2], b = [0, 1, 2], arg_sort = [0, 1, 2]\n"
     ]
    }
   ],
   "source": [
    "import numpy as np\n",
    "\n",
    "model = cp_model.CpModel()\n",
    "a = [model.new_int_var(0, 2, n) for n in ['a0', 'a1', 'a2']]\n",
    "b = [model.new_int_var(0, 2, n) for n in ['b0', 'b1', 'b2']]\n",
    "model.add_inverse(a, b)\n",
    "for sol in get_all_solutions(model):\n",
    "    a_sol = [sol[f'a{i}'] for i in range(3)]\n",
    "    b_sol = [sol[f'b{i}'] for i in range(3)]\n",
    "    print(f'a = {a_sol}, b = {b_sol}, arg_sort = {np.argsort(a_sol).tolist()}')"
   ]
  }
 ],
 "metadata": {
  "kernelspec": {
   "display_name": "Python 3 (ipykernel)",
   "language": "python",
   "name": "python3"
  },
  "language_info": {
   "codemirror_mode": {
    "name": "ipython",
    "version": 3
   },
   "file_extension": ".py",
   "mimetype": "text/x-python",
   "name": "python",
   "nbconvert_exporter": "python",
   "pygments_lexer": "ipython3",
   "version": "3.12.2"
  }
 },
 "nbformat": 4,
 "nbformat_minor": 5
}
