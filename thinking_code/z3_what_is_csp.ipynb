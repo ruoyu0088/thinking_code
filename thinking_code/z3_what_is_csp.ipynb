{
 "cells": [
  {
   "cell_type": "markdown",
   "id": "a6837c4c-e21c-4174-bc94-35374aca0ed0",
   "metadata": {},
   "source": [
    "# 制約充足問題"
   ]
  },
  {
   "cell_type": "markdown",
   "id": "bc5d7e4a-5fb2-4523-8fe9-0029102b441b",
   "metadata": {},
   "source": [
    "制約充足問題（Constraint Satisfaction Problem, CSP）とは、変数に対して制約を満たすように値を割り当てる問題のことです。例えば、次のような問題があります。\n",
    "\n",
    "> 5人の子供（A, B, C, D, E）が順番にお弁当を食べ終わります。  \n",
    "> 以下の制約を満たすように、食べ終わる順番を決めてください。  \n",
    "> - AはBより遅く食べ終わったが、Cよりは早かった。  \n",
    "> - DはEより早く食べ終わったが、Cよりは遅かった。\n",
    "\n",
    "この条件を整理すると、以下の関係が得られます。\n",
    "\n",
    "1. AはBより遅く、Cより早い → $ B \\prec A \\prec C $  \n",
    "2. DはEより早く、Cより遅い → $ E \\prec D \\prec C $  \n",
    "\n",
    "ここで、$ X \\prec Y $ は「XがYよりも前に食べ終わった」ことを意味します。  "
   ]
  },
  {
   "cell_type": "markdown",
   "id": "09d52e3f-fa78-497d-9ae8-2789842230d5",
   "metadata": {},
   "source": [
    "## permutationsでの全数調査\n",
    "\n",
    "まず、Pythonの`itertools.permutations`を使って、すべての順列（5! = 120通り）を生成し、条件を満たすものを探してみます。"
   ]
  },
  {
   "cell_type": "code",
   "execution_count": 2,
   "id": "10afa65d-7037-4735-adfd-3cf2d3e03110",
   "metadata": {},
   "outputs": [
    {
     "name": "stdout",
     "output_type": "stream",
     "text": [
      "['B', 'A', 'C', 'D', 'E']\n"
     ]
    }
   ],
   "source": [
    "from itertools import permutations\n",
    "\n",
    "# 5人の子供\n",
    "kids = [\"A\", \"B\", \"C\", \"D\", \"E\"]\n",
    "\n",
    "# 条件を満たす順列を探す\n",
    "for order in permutations(range(len(kids))):\n",
    "    a, b, c, d, e = order\n",
    "    if b < a < c and c < d < e:\n",
    "        print([kids[index] for index in order])"
   ]
  },
  {
   "cell_type": "markdown",
   "id": "e3090385-fa18-4569-a4e8-01d7ad41fbb7",
   "metadata": {},
   "source": [
    "この方法では、全ての120通りを試し、条件を満たすものを探すことになります。5人なら問題なく動作しますが、人数が増えると計算量が急増（階乗の増加）するため、全列挙は現実的ではなくなります。"
   ]
  },
  {
   "cell_type": "markdown",
   "id": "dd294245-b0f5-4890-8bed-4bd481afd495",
   "metadata": {},
   "source": [
    "### permutationsについて"
   ]
  },
  {
   "cell_type": "markdown",
   "id": "572b4615-5c08-490e-89e7-715d564d1b01",
   "metadata": {},
   "source": [
    "`itertools.permutations` は Python の `itertools` モジュールに含まれる関数で、与えられた要素のすべての順列（並び替えの組み合わせ）を生成するのに使用されます。\n",
    "\n",
    "```python\n",
    "itertools.permutations(iterable, r=None)\n",
    "```\n",
    "\n",
    "- `iterable` : 順列を生成するための要素のリストやタプル。\n",
    "- `r` : 取り出す要素数（デフォルトは `None` で、すべての要素を使った順列を生成）。\n",
    "\n",
    "例えば、リスト `['A', 'B', 'C']` のすべての並び順を生成してみます。3つの要素の順列は **3! = 6通り** です。"
   ]
  },
  {
   "cell_type": "code",
   "execution_count": 3,
   "id": "37d7e2d4-064a-4bf3-93a2-6bfc82d306ed",
   "metadata": {},
   "outputs": [
    {
     "name": "stdout",
     "output_type": "stream",
     "text": [
      "('A', 'B', 'C')\n",
      "('A', 'C', 'B')\n",
      "('B', 'A', 'C')\n",
      "('B', 'C', 'A')\n",
      "('C', 'A', 'B')\n",
      "('C', 'B', 'A')\n"
     ]
    }
   ],
   "source": [
    "data = ['A', 'B', 'C']\n",
    "for p in permutations(data):\n",
    "    print(p)"
   ]
  },
  {
   "cell_type": "markdown",
   "id": "e83f0432-529d-4a71-ac85-34023f0592d8",
   "metadata": {},
   "source": [
    "4つの要素から 2つだけを選んで順列を作る場合は、$4 \\times 3 = 12$通りになります。"
   ]
  },
  {
   "cell_type": "code",
   "execution_count": 6,
   "id": "efa38fba-dd21-4e1e-91b9-6e9356d95b1f",
   "metadata": {},
   "outputs": [
    {
     "name": "stdout",
     "output_type": "stream",
     "text": [
      "('A', 'B')\n",
      "('A', 'C')\n",
      "('A', 'D')\n",
      "('B', 'A')\n",
      "('B', 'C')\n",
      "('B', 'D')\n",
      "('C', 'A')\n",
      "('C', 'B')\n",
      "('C', 'D')\n",
      "('D', 'A')\n",
      "('D', 'B')\n",
      "('D', 'C')\n"
     ]
    }
   ],
   "source": [
    "for p in permutations(['A', 'B', 'C', 'D'], 2):\n",
    "    print(p)"
   ]
  },
  {
   "cell_type": "markdown",
   "id": "71301f19-6004-4c13-9890-017e7d0e9dc3",
   "metadata": {},
   "source": [
    "`permutations()`を使うとき注意すべき点は：\n",
    "\n",
    "1. 順序が異なる組み合わせをすべて列挙する（組み合わせとは異なり、順序を考慮）。\n",
    "2. 要素が重複していない場合のみ使用可能（重複を考慮したい場合は `itertools.product` などを使う）。\n",
    "3. 計算量が爆発的に増加（`n!` の計算量なので、大きな `n` では非現実的）。\n",
    "\n",
    "したがって、`itertools.permutations` は小規模な問題の確認やテストには便利ですが、大規模な制約問題には専用のソルバーを活用する方が現実的です。"
   ]
  },
  {
   "cell_type": "markdown",
   "id": "dd96c5da-e1b6-40e3-b2e1-ea20e16aa81c",
   "metadata": {},
   "source": [
    "## Z3ソルバーを使った解法\n",
    "\n",
    "Z3のようなソルバーを使うと、制約を直接モデル化し、効率的に解を求めることができます。"
   ]
  },
  {
   "cell_type": "code",
   "execution_count": 16,
   "id": "920e3a49-5b84-4f9c-9bae-6c9cfe8940f8",
   "metadata": {},
   "outputs": [
    {
     "name": "stdout",
     "output_type": "stream",
     "text": [
      "['B', 'A', 'C', 'D', 'E']\n"
     ]
    }
   ],
   "source": [
    "from z3 import IntVector, Solver, Distinct, sat\n",
    "\n",
    "# 5人の子供を整数値（順位）で表現\n",
    "kids = [\"A\", \"B\", \"C\", \"D\", \"E\"]\n",
    "a, b, c, d, e = pos = IntVector(\"pos\", 5)  # 各子供の食べ終わる順位 (0~4)\n",
    "solver = Solver()\n",
    "\n",
    "for p in pos:\n",
    "    solver.add(p >= 0, p < len(kids))\n",
    "\n",
    "# 順位は0～4の異なる整数\n",
    "solver.add(Distinct(pos))\n",
    "\n",
    "# 制約を追加\n",
    "solver.add(b < a, a < c)  # B < A < C\n",
    "solver.add(c < d, d < e)  # C < D < E\n",
    "\n",
    "# 解を求める\n",
    "if solver.check() == sat:\n",
    "    model = solver.model()\n",
    "    solution = [model[p].as_long() for p in pos]\n",
    "    print([kids[index] for index in solution])"
   ]
  },
  {
   "cell_type": "markdown",
   "id": "fa1c1056-38ad-4fde-8f28-17c605554b03",
   "metadata": {},
   "source": [
    "上のプログラムでは、次のように制約を追加しています。\n",
    "\n",
    "1. `IntVector(\"pos\", 5)` で5つの整数変数（各子供の順位）を作成します。この時、解空間は無限です。\n",
    "2. `solver.add(p >= 0, p < len(kids))` で各順位が0から4の範囲にあることを制約します。解空間は$5^5$になります。\n",
    "3. `solver.add(Distinct(pos))` ですべての順位が異なることを制約します。解空間は$5!$になります。この段階で`permutations`と同じになります。\n",
    "4. `solver.add(b < a, a < c)` などで条件をモデル化します。制約条件によって解空間がさらに小さくなります。\n",
    "5. `solver.check()` で解の有無を確認し、 `model()` で解を取得します。\n",
    "6. ソリューションを順位順に並べて出力します。"
   ]
  },
  {
   "cell_type": "markdown",
   "id": "2087ce1c-c826-49a6-81ba-b879490d6052",
   "metadata": {},
   "source": [
    "## 纏め\n",
    "\n",
    "次のテーブルで全数調査と制約ソルバーZ3を比較します。\n",
    "\n",
    "| 手法 | 計算量 | 実装のしやすさ | 解釈 |\n",
    "|------|------|------------|------|\n",
    "| `itertools.permutations` | $ O(n!) $ | 簡単だが大規模には不向き | 全候補を試し、条件を満たすものを探す |\n",
    "| Z3ソルバー | 効率的に探索 | 制約を記述すれば良い | 制約を満たす解を直接求める |\n",
    "\n",
    "**制約ソルバーの利点:**  \n",
    "\n",
    "- `itertools.permutations`は小規模な問題なら使えるが、大規模な問題では現実的でない。  \n",
    "- Z3のようなソルバーは、制約を直接扱うため、大きな問題にも対応できる。  \n",
    "- 例えば、10人や20人に拡張しても、Z3なら効率的に解を求められる。"
   ]
  }
 ],
 "metadata": {
  "kernelspec": {
   "display_name": "Python 3 (ipykernel)",
   "language": "python",
   "name": "python3"
  },
  "language_info": {
   "codemirror_mode": {
    "name": "ipython",
    "version": 3
   },
   "file_extension": ".py",
   "mimetype": "text/x-python",
   "name": "python",
   "nbconvert_exporter": "python",
   "pygments_lexer": "ipython3",
   "version": "3.12.2"
  }
 },
 "nbformat": 4,
 "nbformat_minor": 5
}
