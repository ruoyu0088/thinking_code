{
 "cells": [
  {
   "cell_type": "markdown",
   "id": "769fb595-726f-4ed1-bd9b-eb1296f6e263",
   "metadata": {},
   "source": [
    "# サーキット・ツアー制約"
   ]
  },
  {
   "cell_type": "markdown",
   "id": "cbc59d8f-438b-449d-800c-1f414339a360",
   "metadata": {},
   "source": [
    "ルートやツアーは、従来の経路問題を超えて、さまざまな分野における最適化の課題を解決する上で不可欠です。たとえば、DNA シーケンシングでは、DNA 断片をどの順序で組み立てるかを最適化することが重要であり、科学研究では、実験の再構成を系統的に整理することで、運用コストやダウンタイムを大幅に削減できます。  \n",
    "\n",
    "CP-SAT の `add_circuit` および `add_multiple_circuit` 制約を使用すると、さまざまなシナリオを簡単にモデル化できます。これらの制約は、古典的な巡回セールスマン問題 (TSP) を超えて、すべてのノードを訪れる必要がないケースや、複数の独立したサブツアーが求められるシナリオにも対応可能です。この柔軟性により、操作の順序や配置が効率や成果に大きな影響を与える幅広い実用的な問題にとって、極めて有用なものとなっています。"
   ]
  },
  {
   "cell_type": "code",
   "execution_count": 3,
   "id": "9981b754-78d9-4f07-a222-0eee23c27cc0",
   "metadata": {},
   "outputs": [],
   "source": [
    "from ortools.sat.python import cp_model\n",
    "from helper.ortools import get_all_solutions\n",
    "import numpy as np"
   ]
  },
  {
   "cell_type": "markdown",
   "id": "b43f94cc-1a54-4296-94cc-fa9c02f3e480",
   "metadata": {},
   "source": [
    "## サーキット制約\n",
    "\n",
    "`add_circuit()`制約は、有向グラフ内の回路問題を解決するために使用され、ループも許容されます。この制約は `(u, v, var)` という3つ組のリストを受け取り、`u` と `v` はそれぞれ始点と終点の頂点を表し、`var` はその辺が解に含まれるかどうかを示すブール変数です。  \n",
    "\n",
    "この制約は、`True` とマークされた辺が単一の回路を形成し、各頂点をちょうど1回ずつ訪れることを保証します。ただし、ループが `True` に設定されている頂点は例外となります。頂点のインデックスは 0 から始める必要があり、スキップすると回路が成立しなくなるため、頂点の孤立や非実現性を避けるためにも連続した番号で指定する必要があります。\n",
    "\n",
    "次のグラフを例として、`add_circuit()`の使い方を説明します。"
   ]
  },
  {
   "cell_type": "markdown",
   "id": "e5590ecd-1a43-4d3a-a988-ed98682675d5",
   "metadata": {},
   "source": [
    "```mermaid\n",
    "graph \n",
    "0 <--> 1\n",
    "0 <--> 2\n",
    "0 <--> 3\n",
    "1 --> 2\n",
    "1 <--> 3\n",
    "2 <--> 3\n",
    "```"
   ]
  },
  {
   "cell_type": "markdown",
   "id": "7e50f3c0-a8f0-4d02-958b-250151f99629",
   "metadata": {},
   "source": [
    "上のグラフには、以下のような辺があります。`create_circuit_model()`はこれらの辺を利用し、各頂点を1回ずつ訪れる回路を探します。この関数では、`edges`内の各辺に対してブール変数を作成し、`(start, end, variable)` のリストを `model.add_circuit()` に渡します。"
   ]
  },
  {
   "cell_type": "code",
   "execution_count": 22,
   "id": "d291dc15-561b-4f1e-bca4-5feac5b94d89",
   "metadata": {},
   "outputs": [],
   "source": [
    "edges = [(0, 1), (0, 2), (0, 3), (1, 0), (1, 2), (1, 3), (2, 0), (2, 3), (3, 0), (3, 1), (3, 2)]\n",
    "\n",
    "def create_circuit_model(edges, include_edges=[]):\n",
    "    edges = set(edges)\n",
    "    model = cp_model.CpModel()\n",
    "    if include_edges:\n",
    "        for edge in include_edges:\n",
    "            if edge not in edges:\n",
    "                edges.add(edge)\n",
    "    variables = {key:model.new_bool_var(str(key)) for key in edges}\n",
    "    if include_edges:\n",
    "        model.add_bool_and([variables[edge] for edge in include_edges])\n",
    "    model.add_circuit([(s, e, v) for (s, e), v in variables.items()])\n",
    "    return model, variables    "
   ]
  },
  {
   "cell_type": "markdown",
   "id": "00f7ffdd-a681-45c3-bd08-149c8f134cf7",
   "metadata": {},
   "source": [
    "次に、1つの解を求める方法を説明します。各タプルの3番目の要素は、その辺が回路に含まれるかどうかを決定します。"
   ]
  },
  {
   "cell_type": "code",
   "execution_count": 14,
   "id": "c3c98975-3adb-4830-9e58-48ff2ac317eb",
   "metadata": {},
   "outputs": [
    {
     "data": {
      "text/plain": [
       "[(0, 1, 0),\n",
       " (1, 2, 0),\n",
       " (3, 1, 1),\n",
       " (0, 3, 0),\n",
       " (2, 0, 0),\n",
       " (3, 0, 0),\n",
       " (2, 3, 1),\n",
       " (0, 2, 1),\n",
       " (1, 0, 1),\n",
       " (3, 2, 0),\n",
       " (1, 3, 0)]"
      ]
     },
     "execution_count": 14,
     "metadata": {},
     "output_type": "execute_result"
    }
   ],
   "source": [
    "model, variables = create_circuit_model(edges)\n",
    "solver = cp_model.CpSolver()\n",
    "solver.solve(model)\n",
    "[(s, e, solver.value(v)) for (s, e), v in variables.items()]"
   ]
  },
  {
   "cell_type": "markdown",
   "id": "45fa4f2f-ba4b-4b99-8533-b6de02245cf0",
   "metadata": {},
   "source": [
    "解を分かりやすくするために、次の `get_circuit()` で辺の結果を頂点のリストに変換します。また、`find_all_circuits()` と `find_one_circuit()` は、全ての回路または1つの回路を求める関数です。"
   ]
  },
  {
   "cell_type": "code",
   "execution_count": 15,
   "id": "92725368-18e4-49b6-835b-40ffcc2a52df",
   "metadata": {},
   "outputs": [],
   "source": [
    "def get_circuit(solution, start=None):\n",
    "    # 回路の形成に使われる辺のうち、回路に含まれるものを選択し、自己ループは除外\n",
    "    solution = {s: e for (s, e), v in solution.items() if v and s != e}\n",
    "    if start is None:\n",
    "        start = next(iter(solution.keys()))  # 開始頂点を設定（デフォルトでは最初の頂点）\n",
    "    path = [start]\n",
    "    while True:\n",
    "        if start not in solution:\n",
    "            break  # 回路が完成したので終了\n",
    "        start = solution[start]\n",
    "        if start in path:\n",
    "            break  # 回路が閉じたので終了\n",
    "        path.append(start)\n",
    "    return path\n",
    "\n",
    "def find_all_circuits(edges, include_edges=[], start=None):\n",
    "    model, variables = create_circuit_model(edges, include_edges)\n",
    "    solutions = get_all_solutions(model, variables)  # 解のリストを取得\n",
    "    return [get_circuit(sol, start) for sol in solutions]  # 各解に対して回路を求める\n",
    "\n",
    "def find_one_circuit(edges, include_edges=[], start=None):\n",
    "    model, variables = create_circuit_model(edges, include_edges)\n",
    "    solver = cp_model.CpSolver()\n",
    "    solver.solve(model)  # 最適解を求める\n",
    "    sol = {key: solver.value(v) for key, v in variables.items()}  # 解を取得\n",
    "    return get_circuit(sol, start)  # 回路を取得\n"
   ]
  },
  {
   "cell_type": "markdown",
   "id": "d9fcb3c7-7a57-4c16-b300-cb294f1be4a4",
   "metadata": {},
   "source": [
    "次はすべての回路を出力します。"
   ]
  },
  {
   "cell_type": "code",
   "execution_count": 16,
   "id": "75536709-bd9b-4a4f-b59b-dce55766e046",
   "metadata": {},
   "outputs": [
    {
     "name": "stdout",
     "output_type": "stream",
     "text": [
      "[3, 1, 0, 2]\n",
      "[1, 2, 0, 3]\n",
      "[0, 1, 3, 2]\n",
      "[0, 1, 2, 3]\n"
     ]
    }
   ],
   "source": [
    "for circuit in find_all_circuits(edges):\n",
    "    print(circuit)"
   ]
  },
  {
   "cell_type": "markdown",
   "id": "c744ef39-eb43-4f3a-8e48-dda2b2ae3d38",
   "metadata": {},
   "source": [
    "特定の辺を回路に必ず含めるためには、`(start, end, True)` を `add_circuit()` に渡すか、その辺を表すブール変数を `add_bool_and()` で `True` にフィックスします。以下は、必ず辺 `(2, 1)` を通す回路を探す方法です。"
   ]
  },
  {
   "cell_type": "code",
   "execution_count": 11,
   "id": "1c293437-fb55-40e2-a179-64b2ae12cbbe",
   "metadata": {},
   "outputs": [
    {
     "name": "stdout",
     "output_type": "stream",
     "text": [
      "[2, 1, 3, 0]\n",
      "[2, 1, 0, 3]\n"
     ]
    }
   ],
   "source": [
    "for circuit in find_all_circuits(edges, include_edges=[(2, 1)]):\n",
    "    print(circuit)"
   ]
  },
  {
   "cell_type": "markdown",
   "id": "574c0bd4-b1e7-47c2-8748-c9493836f966",
   "metadata": {},
   "source": [
    "回路には特定の頂点 `n` を省略可能にするためには、辺 `(n, n)` を辺リストに追加します。これにより、その頂点を回路に含めるかどうかを選択できるようになります。以下は、頂点 2 と 3 を省略可能な回路を探す方法です。"
   ]
  },
  {
   "cell_type": "code",
   "execution_count": 17,
   "id": "915c5d65-3306-417f-8913-d54886186e65",
   "metadata": {},
   "outputs": [
    {
     "name": "stdout",
     "output_type": "stream",
     "text": [
      "[3, 1, 0]\n",
      "[3, 1, 0, 2]\n",
      "[1, 2, 0, 3]\n",
      "[0, 1]\n",
      "[0, 1, 3]\n",
      "[0, 1, 3, 2]\n",
      "[0, 1, 2, 3]\n",
      "[0, 1, 2]\n"
     ]
    }
   ],
   "source": [
    "for circuit in find_all_circuits(edges + [(2, 2), (3, 3)]):\n",
    "    print(circuit)"
   ]
  },
  {
   "cell_type": "markdown",
   "id": "c224c49b-100d-4348-8a1c-13d1f4d45a11",
   "metadata": {},
   "source": [
    "特定の頂点 `src` から特定の頂点 `dst` までのルートを探すためには、辺 `(dst, src)` を必ず回路に含めるようにします。また、頂点 1 と 2 はルートに含まれなくてもいいので、`(1, 1)` と `(2, 2)` を辺リストに追加します。以下のコードは、`find_all_paths()` 関数を使って、`src` から `dst` までのルートを探す方法です。"
   ]
  },
  {
   "cell_type": "code",
   "execution_count": 24,
   "id": "8ab69ab6-be20-4f7b-a0bc-9375248c461a",
   "metadata": {},
   "outputs": [
    {
     "name": "stdout",
     "output_type": "stream",
     "text": [
      "[0, 2, 3]\n",
      "[0, 3]\n",
      "[0, 1, 3]\n",
      "[0, 1, 2, 3]\n"
     ]
    }
   ],
   "source": [
    "def find_all_paths(edges, src, dst):\n",
    "    return find_all_circuits(edges, include_edges=[(dst, src)], start=src)\n",
    "\n",
    "for path in find_all_paths(edges + [(1, 1), (2, 2)], 0, 3):\n",
    "    print(path)"
   ]
  },
  {
   "cell_type": "markdown",
   "id": "bb54e3fd-e766-485c-8fe7-17722763bfc5",
   "metadata": {},
   "source": [
    "(ortools-knight)=\n",
    "## ナイトツアー問題\n",
    "\n",
    "[ナイトツアー問題](z3-knight)を解くために `add_circuit()` を使用するコードは非常に適切です。ナイトがすべてのマスを一度ずつ訪れるように回路を作成する方法を示しています。以下に、ナイト・ツアー問題のコードを説明します。\n",
    "\n",
    "* `directs` にはナイトが一歩で移動できる8つの方向を示すタプルを格納します。\n",
    "* 各マスに対して、ナイトが移動可能な隣接するマスを探し、その辺を `edges` リストに追加します。\n",
    "* `find_one_circuit(edges)` を呼び出して、ナイトがすべてのマスを一度ずつ訪れる回路を求めます。\n",
    "* 解として得られた各ステップを基に、ナイトが通った順番を盤面に埋め込み、`solution` 配列として表示します。"
   ]
  },
  {
   "cell_type": "code",
   "execution_count": 14,
   "id": "ddd63398-7947-4fd3-8f47-aa06ecb44561",
   "metadata": {},
   "outputs": [
    {
     "name": "stdout",
     "output_type": "stream",
     "text": [
      "[[52 35 16 61 58 63 18  3]\n",
      " [15 60 53 34 17  2 57  0]\n",
      " [36 51 14 59 62 55  4 19]\n",
      " [13 28 33 54 21 26  1 56]\n",
      " [50 37 12 27 44  5 20 25]\n",
      " [29 32 41 22 11  8 45  6]\n",
      " [38 49 30 43 40 47 24  9]\n",
      " [31 42 39 48 23 10  7 46]]\n"
     ]
    }
   ],
   "source": [
    "n = 8\n",
    "directs = [(1, 2), (2, 1), (-1, 2), (2, -1), (-2, 1), (1, -2), (-1, -2), (-2, -1)]\n",
    "board = np.arange(0, n**2).reshape(n, n)\n",
    "\n",
    "edges = []\n",
    "for (r, c), v in np.ndenumerate(board):\n",
    "    for dr, dc in directs:\n",
    "        r2, c2 = r + dr, c + dc\n",
    "        if 0 <= r2 < n and 0 <= c2 < n:\n",
    "            v2 = board[r2, c2]\n",
    "            edges.append((int(v), int(v2)))\n",
    "\n",
    "steps = find_one_circuit(edges)\n",
    "solution = np.zeros((n, n), np.uint8)\n",
    "for i, step in enumerate(steps):\n",
    "    r, c = step // n, step % n\n",
    "    solution[r, c] = i\n",
    "print(solution)"
   ]
  },
  {
   "attachments": {},
   "cell_type": "markdown",
   "id": "ae62a54e-d440-423e-abc7-cd9d096e7380",
   "metadata": {},
   "source": [
    "(ortools-gray-code)=\n",
    "## グレーコード\n",
    "\n",
    "[グレーコード問題](z3-gray-code)もナイト・ツアー問題と同じく、回路を探す問題として表現できます。ここでは、1ビットしか差がない二つの整数を辺として `edges` に追加し、`find_one_circuit(edges)` を使用してグレーコードの解を見つけます。以下にその詳細を説明します。\n",
    "\n",
    "* 各整数 `i` と `j` に対して、1ビットだけが異なる場合（`i ^ j` が `bits` に含まれる場合）に、`(i, j)` を `edges` に追加します。\n",
    "* `find_one_circuit(edges)` を使って、グレーコードに基づいた回路を探します。"
   ]
  },
  {
   "cell_type": "code",
   "execution_count": 15,
   "id": "e33bfd94-9fc3-484a-b3c1-c17373d83d69",
   "metadata": {},
   "outputs": [
    {
     "name": "stdout",
     "output_type": "stream",
     "text": [
      "0000\n",
      "0100\n",
      "1100\n",
      "1101\n",
      "0101\n",
      "0111\n",
      "0110\n",
      "0010\n",
      "1010\n",
      "1110\n",
      "1111\n",
      "1011\n",
      "0011\n",
      "0001\n",
      "1001\n",
      "1000\n"
     ]
    }
   ],
   "source": [
    "n = 4\n",
    "edges = []\n",
    "\n",
    "bits = set([2**i for i in range(n)])\n",
    "\n",
    "for i in range(2**n):\n",
    "    for j in range(2**n):\n",
    "        if i != j:\n",
    "            if i ^ j in bits:\n",
    "                edges.append((i, j))\n",
    "\n",
    "codes = find_one_circuit(edges, start=0)\n",
    "for code in codes:\n",
    "    print(f\"{code:0{n}b}\")"
   ]
  }
 ],
 "metadata": {
  "kernelspec": {
   "display_name": "Python 3 (ipykernel)",
   "language": "python",
   "name": "python3"
  },
  "language_info": {
   "codemirror_mode": {
    "name": "ipython",
    "version": 3
   },
   "file_extension": ".py",
   "mimetype": "text/x-python",
   "name": "python",
   "nbconvert_exporter": "python",
   "pygments_lexer": "ipython3",
   "version": "3.12.2"
  }
 },
 "nbformat": 4,
 "nbformat_minor": 5
}
